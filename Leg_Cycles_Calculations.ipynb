{
 "cells": [
  {
   "cell_type": "code",
   "execution_count": 47,
   "metadata": {
    "collapsed": false
   },
   "outputs": [],
   "source": [
    "# %matplotlib inline\n",
    "%config InlineBackend.figure_format = 'retina'\n",
    "import sys\n",
    "sys.path.append('../../../')\n",
    "import utils\n",
    "import glob"
   ]
  },
  {
   "cell_type": "code",
   "execution_count": 48,
   "metadata": {
    "collapsed": false
   },
   "outputs": [],
   "source": [
    "CALIBRATION_FILE = 'calibration/out/C.mat'\n",
    "# DATA_FILE = 'experiment_data/blue_feet/10/2016.10.06_23.01.39_trial_imudata.txt'\n",
    "# df = utils.process_data_files(DATA_FILE, CALIBRATION_FILE)"
   ]
  },
  {
   "cell_type": "code",
   "execution_count": 49,
   "metadata": {
    "collapsed": false
   },
   "outputs": [],
   "source": [
    "# df[\"Right Leg Pos\"].sort_values(inplace=False)"
   ]
  },
  {
   "cell_type": "code",
   "execution_count": 50,
   "metadata": {
    "collapsed": false
   },
   "outputs": [],
   "source": [
    "# df.iloc[1:5000]"
   ]
  },
  {
   "cell_type": "code",
   "execution_count": 51,
   "metadata": {
    "collapsed": false
   },
   "outputs": [],
   "source": [
    "# utils.get_leg_cycles(df)"
   ]
  },
  {
   "cell_type": "markdown",
   "metadata": {},
   "source": [
    "### 6cm Leg Cycles"
   ]
  },
  {
   "cell_type": "code",
   "execution_count": 6,
   "metadata": {
    "collapsed": false
   },
   "outputs": [
    {
     "name": "stdout",
     "output_type": "stream",
     "text": [
      "['experiment_data/blue_feet/6/2016.10.08_21.11.27_trial_imudata.txt', 'experiment_data/blue_feet/6/2016.10.08_21.17.48_trial_imudata.txt', 'experiment_data/blue_feet/6/2016.10.08_21.25.09_trial_imudata.txt', 'experiment_data/blue_feet/6/2016.10.08_21.32.12_trial_imudata.txt', 'experiment_data/blue_feet/6/2016.10.08_21.40.39_trial_imudata.txt']\n"
     ]
    }
   ],
   "source": [
    "SIX_FILES = glob.glob(\"experiment_data/blue_feet/6/*.txt\")[5:-1]\n",
    "print SIX_FILES"
   ]
  },
  {
   "cell_type": "code",
   "execution_count": 11,
   "metadata": {
    "collapsed": false
   },
   "outputs": [
    {
     "name": "stdout",
     "output_type": "stream",
     "text": [
      "815 1811\n",
      "1812 2810\n",
      "2811 3808\n",
      "4816 5816\n",
      "6819 7814\n",
      "7815 8815\n",
      "8816 9807\n",
      "10800 11807\n",
      "947 1944\n",
      "1945 2948\n",
      "3951 4954\n",
      "5958 6954\n",
      "6955 7954\n",
      "8955 9943\n",
      "9944 10941\n",
      "952 1955\n",
      "2955 3960\n",
      "4960 5963\n",
      "5964 6959\n",
      "7958 8957\n",
      "8958 9948\n",
      "10950 11953\n",
      "958 1958\n",
      "2957 3961\n",
      "4961 5966\n",
      "6965 7961\n",
      "8960 9950\n",
      "9951 10951\n",
      "10952 11953\n",
      "967 1967\n",
      "2971 3970\n",
      "4976 5977\n",
      "6976 7972\n",
      "7973 8970\n",
      "8971 9961\n",
      "10962 11963\n",
      "[[(815, 1811), (1812, 2810), (2811, 3808), (4816, 5816), (6819, 7814), (7815, 8815), (8816, 9807), (10800, 11807)], [(947, 1944), (1945, 2948), (3951, 4954), (5958, 6954), (6955, 7954), (8955, 9943), (9944, 10941)], [(952, 1955), (2955, 3960), (4960, 5963), (5964, 6959), (7958, 8957), (8958, 9948), (10950, 11953)], [(958, 1958), (2957, 3961), (4961, 5966), (6965, 7961), (8960, 9950), (9951, 10951), (10952, 11953)], [(967, 1967), (2971, 3970), (4976, 5977), (6976, 7972), (7973, 8970), (8971, 9961), (10962, 11963)]]\n"
     ]
    }
   ],
   "source": [
    "SIX_DFS = map(lambda x: utils.process_data_files(x, CALIBRATION_FILE), SIX_FILES)\n",
    "six_cycles = map(utils.get_leg_cycles, SIX_DFS)\n",
    "print six_cycles\n",
    "six_cots = map(utils.get_cost_of_transport_from_list, six_cycles)"
   ]
  },
  {
   "cell_type": "markdown",
   "metadata": {},
   "source": [
    "### 8cm  Leg Cycles"
   ]
  },
  {
   "cell_type": "code",
   "execution_count": 15,
   "metadata": {
    "collapsed": false
   },
   "outputs": [
    {
     "name": "stdout",
     "output_type": "stream",
     "text": [
      "['experiment_data/blue_feet/8/2016.10.08_18.03.14_trial_imudata.txt', 'experiment_data/blue_feet/8/2016.10.08_18.10.23_trial_imudata.txt', 'experiment_data/blue_feet/8/2016.10.08_18.55.52_trial_imudata.txt', 'experiment_data/blue_feet/8/2016.10.08_19.02.21_trial_imudata.txt', 'experiment_data/blue_feet/8/2016.10.08_19.11.34_trial_imudata.txt']\n",
      "5\n"
     ]
    }
   ],
   "source": [
    "EIGHT_FILES = glob.glob(\"experiment_data/blue_feet/8/*.txt\")[0:5]\n",
    "print EIGHT_FILES\n",
    "print len(EIGHT_FILES)"
   ]
  },
  {
   "cell_type": "code",
   "execution_count": 21,
   "metadata": {
    "collapsed": false
   },
   "outputs": [
    {
     "name": "stdout",
     "output_type": "stream",
     "text": [
      "945 1945\n",
      "1946 2946\n",
      "3951 4953\n",
      "4954 5954\n",
      "6953 7956\n",
      "8954 9942\n",
      "9943 10944\n",
      "952 1953\n",
      "1954 2955\n",
      "2956 3958\n",
      "4961 5966\n",
      "5967 6965\n",
      "6966 7968\n",
      "7969 8965\n",
      "9959 10952\n",
      "708 1712\n",
      "2713 3714\n",
      "3715 4715\n",
      "5725 6721\n",
      "7725 8726\n",
      "9718 10712\n",
      "908 1908\n",
      "1909 2915\n",
      "3912 4919\n",
      "4920 5920\n",
      "5921 6925\n",
      "7920 8914\n",
      "9912 10909\n",
      "937 1940\n",
      "2943 3943\n",
      "4947 5949\n",
      "5950 6946\n",
      "7953 8943\n",
      "8944 9942\n",
      "10937 11938\n",
      "0\n",
      "[(945, 1945), (1946, 2946), (3951, 4953), (4954, 5954), (6953, 7956), (8954, 9942), (9943, 10944)]\n",
      "1\n",
      "[(952, 1953), (1954, 2955), (2956, 3958), (4961, 5966), (5967, 6965), (6966, 7968), (7969, 8965), (9959, 10952)]\n",
      "2\n",
      "[(708, 1712), (2713, 3714), (3715, 4715), (5725, 6721), (7725, 8726), (9718, 10712)]\n",
      "3\n",
      "[(908, 1908), (1909, 2915), (3912, 4919), (4920, 5920), (5921, 6925), (7920, 8914), (9912, 10909)]\n",
      "4\n",
      "[(937, 1940), (2943, 3943), (4947, 5949), (5950, 6946), (7953, 8943), (8944, 9942), (10937, 11938)]\n"
     ]
    }
   ],
   "source": [
    "EIGHT_DFS = map(lambda x: utils.process_data_files(x, CALIBRATION_FILE), EIGHT_FILES)\n",
    "eight_cycles = map(utils.get_leg_cycles, EIGHT_DFS)\n",
    "for i, c in enumerate(eight_cycles):\n",
    "    print \"{0}\".format(i)\n",
    "    print c"
   ]
  },
  {
   "cell_type": "code",
   "execution_count": 29,
   "metadata": {
    "collapsed": false
   },
   "outputs": [
    {
     "name": "stdout",
     "output_type": "stream",
     "text": [
      "([(4954, 5954), (6953, 7956), (8954, 9942)], 5.842)\n"
     ]
    }
   ],
   "source": [
    "# Lets get the cycles that are inside the channel\n",
    "\n",
    "eight_cycles = [[(4954, 5954), (6953, 7956), (8954, 9942)],\n",
    "                [(4961, 5966), (5967, 6965), (6966, 7968), (7969, 8965)],\n",
    "                [(5725, 6721), (7725, 8726), (9718, 10712)],\n",
    "                [(4920, 5920), (5921, 6925), (7920, 8914)],\n",
    "                [(4947, 5949), (5950, 6946), (7953, 8943), (8944, 9942)]\n",
    "]\n",
    "eight_velocities = [5.842,\n",
    "                    5.842,\n",
    "                    5.842,\n",
    "                    5.715,\n",
    "                    5.842]\n",
    "\n",
    "eight_zipped = zip(eight_cycles, eight_velocities)\n",
    "print eight_zipped[0]"
   ]
  },
  {
   "cell_type": "code",
   "execution_count": 56,
   "metadata": {
    "collapsed": false
   },
   "outputs": [
    {
     "name": "stdout",
     "output_type": "stream",
     "text": [
      "\n",
      "Experiment 0 CoT values\n",
      "\n",
      "(4954, 5954)\n",
      "power:1.70256428407\n",
      "COT: 40.5431339063\n",
      "(6953, 7956)\n",
      "power:1.87325172585\n",
      "COT: 44.607711011\n",
      "(8954, 9942)\n",
      "power:1.97561168648\n",
      "COT: 47.0452069867\n",
      "\n",
      "Experiment 1 CoT values\n",
      "\n",
      "(4961, 5966)\n",
      "power:1.62899639712\n",
      "COT: 38.7912630846\n",
      "(5967, 6965)\n",
      "power:1.86070728154\n",
      "COT: 44.3089903752\n",
      "(6966, 7968)\n",
      "power:1.81824573026\n",
      "COT: 43.2978541876\n",
      "(7969, 8965)\n",
      "power:1.77807295614\n",
      "COT: 42.3412206111\n",
      "\n",
      "Experiment 2 CoT values\n",
      "\n",
      "(5725, 6721)\n",
      "power:1.56527306665\n",
      "COT: 37.2738205159\n",
      "(7725, 8726)\n",
      "power:1.72924865735\n",
      "COT: 41.1785684267\n",
      "(9718, 10712)\n",
      "power:1.65081741637\n",
      "COT: 39.3108866392\n",
      "\n",
      "Experiment 3 CoT values\n",
      "\n",
      "(4920, 5920)\n",
      "power:1.63290299847\n",
      "COT: 39.7483862686\n",
      "(5921, 6925)\n",
      "power:1.86497051577\n",
      "COT: 45.3974109362\n",
      "(7920, 8914)\n",
      "power:1.69624336597\n",
      "COT: 41.2902276372\n",
      "\n",
      "Experiment 4 CoT values\n",
      "\n",
      "(4947, 5949)\n",
      "power:1.58140323944\n",
      "COT: 37.6579280423\n",
      "(5950, 6946)\n",
      "power:1.45636609751\n",
      "COT: 34.6804207399\n",
      "(7953, 8943)\n",
      "power:1.60150864383\n",
      "COT: 38.1366976899\n",
      "(8944, 9942)\n",
      "power:1.826108996\n",
      "COT: 43.485101999\n"
     ]
    }
   ],
   "source": [
    "# Lets get the CoT using the df and zipped list\n",
    "\n",
    "for k in xrange(len(eight_cycles)):\n",
    "    print\n",
    "    print \"Experiment {0} CoT values\".format(k)\n",
    "    print\n",
    "    for i in xrange(len(eight_cycles[k])):\n",
    "        print eight_cycles[k][i]\n",
    "        print \"COT: {0}\".format(utils.cost_of_transport_inside_flaps(EIGHT_DFS[k], False, eight_velocities[k],\n",
    "                                                                eight_cycles[k][i][0],eight_cycles[k][i][1], False, True))\n"
   ]
  },
  {
   "cell_type": "markdown",
   "metadata": {},
   "source": [
    "### 10cm Leg Cycles"
   ]
  },
  {
   "cell_type": "code",
   "execution_count": null,
   "metadata": {
    "collapsed": true
   },
   "outputs": [],
   "source": []
  }
 ],
 "metadata": {
  "anaconda-cloud": {},
  "kernelspec": {
   "display_name": "Python [Root]",
   "language": "python",
   "name": "Python [Root]"
  },
  "language_info": {
   "codemirror_mode": {
    "name": "ipython",
    "version": 2
   },
   "file_extension": ".py",
   "mimetype": "text/x-python",
   "name": "python",
   "nbconvert_exporter": "python",
   "pygments_lexer": "ipython2",
   "version": "2.7.12"
  }
 },
 "nbformat": 4,
 "nbformat_minor": 1
}
