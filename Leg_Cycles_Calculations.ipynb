{
 "cells": [
  {
   "cell_type": "code",
   "execution_count": 6,
   "metadata": {
    "collapsed": false
   },
   "outputs": [],
   "source": [
    "# %matplotlib inline\n",
    "%config InlineBackend.figure_format = 'retina'\n",
    "import sys\n",
    "sys.path.append('../../../')\n",
    "import utils\n",
    "import glob\n",
    "# import extract_leg_cycles"
   ]
  },
  {
   "cell_type": "code",
   "execution_count": 7,
   "metadata": {
    "collapsed": false
   },
   "outputs": [],
   "source": [
    "CALIBRATION_FILE = 'calibration/out/C.mat'\n",
    "# DATA_FILE = 'experiment_data/blue_feet/10/2016.10.06_23.01.39_trial_imudata.txt'\n",
    "# df = utils.process_data_files(DATA_FILE, CALIBRATION_FILE)"
   ]
  },
  {
   "cell_type": "code",
   "execution_count": 8,
   "metadata": {
    "collapsed": false
   },
   "outputs": [],
   "source": [
    "# df[\"Right Leg Pos\"].sort_values(inplace=False)"
   ]
  },
  {
   "cell_type": "code",
   "execution_count": 9,
   "metadata": {
    "collapsed": false
   },
   "outputs": [],
   "source": [
    "# df.iloc[1:5000]"
   ]
  },
  {
   "cell_type": "code",
   "execution_count": 12,
   "metadata": {
    "collapsed": false
   },
   "outputs": [],
   "source": [
    "# utils.get_leg_cycles(df)"
   ]
  },
  {
   "cell_type": "markdown",
   "metadata": {},
   "source": [
    "### 6cm Leg Cycles"
   ]
  },
  {
   "cell_type": "code",
   "execution_count": 13,
   "metadata": {
    "collapsed": false
   },
   "outputs": [
    {
     "name": "stdout",
     "output_type": "stream",
     "text": [
      "['experiment_data/blue_feet/6/2016.10.08_21.11.27_trial_imudata.txt', 'experiment_data/blue_feet/6/2016.10.08_21.17.48_trial_imudata.txt', 'experiment_data/blue_feet/6/2016.10.08_21.25.09_trial_imudata.txt', 'experiment_data/blue_feet/6/2016.10.08_21.32.12_trial_imudata.txt', 'experiment_data/blue_feet/6/2016.10.08_21.40.39_trial_imudata.txt']\n"
     ]
    }
   ],
   "source": [
    "SIX_FILES = glob.glob(\"experiment_data/blue_feet/6/*.txt\")[5:-1]\n",
    "print SIX_FILES"
   ]
  },
  {
   "cell_type": "code",
   "execution_count": 16,
   "metadata": {
    "collapsed": false
   },
   "outputs": [
    {
     "name": "stdout",
     "output_type": "stream",
     "text": [
      "5\n",
      "815 1811\n",
      "1812 2810\n",
      "2811 3808\n",
      "4816 5816\n",
      "6819 7814\n",
      "7815 8815\n",
      "8816 9807\n",
      "10800 11807\n",
      "947 1944\n",
      "1945 2948\n",
      "3951 4954\n",
      "5958 6954\n",
      "6955 7954\n",
      "8955 9943\n",
      "9944 10941\n",
      "952 1955\n",
      "2955 3960\n",
      "4960 5963\n",
      "5964 6959\n",
      "7958 8957\n",
      "8958 9948\n",
      "10950 11953\n",
      "958 1958\n",
      "2957 3961\n",
      "4961 5966\n",
      "6965 7961\n",
      "8960 9950\n",
      "9951 10951\n",
      "10952 11953\n",
      "967 1967\n",
      "2971 3970\n",
      "4976 5977\n",
      "6976 7972\n",
      "7973 8970\n",
      "8971 9961\n",
      "10962 11963\n",
      "[[(815, 1811), (1812, 2810), (2811, 3808), (4816, 5816), (6819, 7814), (7815, 8815), (8816, 9807), (10800, 11807)], [(947, 1944), (1945, 2948), (3951, 4954), (5958, 6954), (6955, 7954), (8955, 9943), (9944, 10941)], [(952, 1955), (2955, 3960), (4960, 5963), (5964, 6959), (7958, 8957), (8958, 9948), (10950, 11953)], [(958, 1958), (2957, 3961), (4961, 5966), (6965, 7961), (8960, 9950), (9951, 10951), (10952, 11953)], [(967, 1967), (2971, 3970), (4976, 5977), (6976, 7972), (7973, 8970), (8971, 9961), (10962, 11963)]]\n"
     ]
    }
   ],
   "source": [
    "SIX_DFS = map(lambda x: utils.process_data_files(x, CALIBRATION_FILE), SIX_FILES)\n",
    "print len(SIX_DFS)\n",
    "six_cycles = map(utils.get_leg_cycles, SIX_DFS)\n",
    "print six_cycles"
   ]
  },
  {
   "cell_type": "code",
   "execution_count": 15,
   "metadata": {
    "collapsed": false
   },
   "outputs": [
    {
     "name": "stdout",
     "output_type": "stream",
     "text": [
      "0\n",
      "[(815, 1811), (1812, 2810), (2811, 3808), (4816, 5816), (6819, 7814), (7815, 8815), (8816, 9807), (10800, 11807)]\n",
      "1\n",
      "[(947, 1944), (1945, 2948), (3951, 4954), (5958, 6954), (6955, 7954), (8955, 9943), (9944, 10941)]\n",
      "2\n",
      "[(952, 1955), (2955, 3960), (4960, 5963), (5964, 6959), (7958, 8957), (8958, 9948), (10950, 11953)]\n",
      "3\n",
      "[(958, 1958), (2957, 3961), (4961, 5966), (6965, 7961), (8960, 9950), (9951, 10951), (10952, 11953)]\n",
      "4\n",
      "[(967, 1967), (2971, 3970), (4976, 5977), (6976, 7972), (7973, 8970), (8971, 9961), (10962, 11963)]\n"
     ]
    }
   ],
   "source": [
    "for i,c in enumerate(six_cycles):\n",
    "    print \"{0}\".format(i)\n",
    "    print c"
   ]
  },
  {
   "cell_type": "code",
   "execution_count": 20,
   "metadata": {
    "collapsed": false
   },
   "outputs": [
    {
     "name": "stdout",
     "output_type": "stream",
     "text": [
      "power:2.09183657323\n",
      "power:2.05662057812\n",
      "power:1.95867731719\n",
      "power:1.94647020356\n",
      "power:2.02776965315\n",
      "power:2.30826198963\n",
      "power:1.98488153496\n",
      "power:1.87530543982\n",
      "power:1.93760451784\n",
      "power:1.82945420524\n",
      "power:1.83893797569\n",
      "power:1.64101913269\n",
      "power:1.81353380094\n",
      "power:1.81964251821\n",
      "power:1.9610202488\n",
      "power:1.73487648477\n",
      "power:2.09011921284\n",
      "power:1.72721983048\n",
      "5\n",
      "[[45.827838751836268, 45.056328698758037, 42.910593211586935, 42.643160448249553], [44.424264246870813, 50.569274680096783, 43.484673750155984], [42.354728640342451, 43.761785052684459, 41.319155150701469], [41.533350937430654, 37.063253048194852, 40.959584709711599, 41.097553200915492], [44.290641264353525, 39.183069155858405, 47.206407130271451, 39.010139718400112]]\n"
     ]
    }
   ],
   "source": [
    "cots = []\n",
    "in_start_end_times = [(7000,11000),(7000,11000),(6000,10000),(7000,11000),(7000,11000)]\n",
    "v_avgs = [6.35,6.35,6.1595,6.1595,6.1595]\n",
    "\n",
    "for i in xrange(5):\n",
    "    df = SIX_DFS[i]\n",
    "    experiment = six_cycles[i]\n",
    "    v_avg = v_avgs[i]\n",
    "    interval = in_start_end_times[i]\n",
    "    cots_per_experiment = []\n",
    "    for stride in experiment:\n",
    "        if (stride[0] >= interval[0] and stride[0] <= interval[1]) or (stride[1] >= interval[0] and stride[1] <= interval[1]):\n",
    "            val = utils.cost_of_transport_inside_flaps(df, False,v_avg,stride[0],stride[1],False,True)\n",
    "            cots_per_experiment.append(val)\n",
    "    cots.append(cots_per_experiment)\n",
    "\n",
    "print len(cots)\n",
    "print cots"
   ]
  },
  {
   "cell_type": "code",
   "execution_count": null,
   "metadata": {
    "collapsed": true
   },
   "outputs": [],
   "source": []
  }
 ],
 "metadata": {
  "anaconda-cloud": {},
  "kernelspec": {
   "display_name": "Python 2",
   "language": "python",
   "name": "python2"
  },
  "language_info": {
   "codemirror_mode": {
    "name": "ipython",
    "version": 2
   },
   "file_extension": ".py",
   "mimetype": "text/x-python",
   "name": "python",
   "nbconvert_exporter": "python",
   "pygments_lexer": "ipython2",
   "version": "2.7.12"
  }
 },
 "nbformat": 4,
 "nbformat_minor": 1
}
