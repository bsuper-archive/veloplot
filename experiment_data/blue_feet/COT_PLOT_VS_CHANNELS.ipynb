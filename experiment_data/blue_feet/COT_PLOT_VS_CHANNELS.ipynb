{
 "cells": [
  {
   "cell_type": "code",
   "execution_count": 1,
   "metadata": {
    "collapsed": true
   },
   "outputs": [],
   "source": [
    "%matplotlib inline\n",
    "%config InlineBackend.figure_format = 'retina'\n",
    "import os\n",
    "import numpy as np\n",
    "import matplotlib.pyplot as plt\n",
    "import seaborn as sns\n",
    "\n",
    "sns.set_style(\"whitegrid\")\n",
    "sns.set_palette(\"bright\")"
   ]
  },
  {
   "cell_type": "code",
   "execution_count": null,
   "metadata": {
    "collapsed": true
   },
   "outputs": [],
   "source": [
    "import plotly.plotly as py\n",
    "import plotly.tools as tls\n",
    "\n",
    "# figure, axarr = plt.subplots(1) \n",
    "\n",
    "#Drag Energy Values Per Experiment\n",
    "#[4,6,8,10]cms\n",
    "\n",
    "\n",
    "y = [[49.176088989974701, 49.127876445219961, 48.560390763522506, 46.262475026546682,\n",
    "      50.572883278492654, 51.899813928824308, 49.729593057068506, 47.473630220337682,\n",
    "      57.851998496702073, 56.803933543015859, 54.981173981592235, 54.386862364642077, 49.320948882055824,\n",
    "      45.209168290665609, 46.075726550265522, 46.153582131528559, 41.50386443520209,\n",
    "      45.281843560218782, 45.528430951386746, 47.740574687646863, 48.181752876809597],\n",
    "      [],\n",
    "      [],\n",
    "    ]\n",
    "\n",
    "x = [[4]*21,]\n",
    "\n",
    "\n",
    "\n",
    "# #Power Values Per Experiment\n",
    "# #[4,6,8,10]cms\n",
    "# power_vals = [[1.97102084755,1.99502634077,1.86808611133,1.85643637775,1.81435570449],[1.95039284638,2.09782384288,1.88240106011,1.806076181,1.94570599694],\n",
    "#      [1.78791336248,1.83713072032,1.70117131369,1.67769885371,1.67869325442],[1.85854317813,1.75906400029,1.64819041147,1.65147587221,1.54153124729]]\n",
    "\n",
    "y = reduce(lambda a,b: a+b, y)\n",
    "x = reduce(lambda a,b: a+b, x)\n",
    "plt.scatter(x,y,s=100)\n",
    "\n",
    "# y4 = y[0:5]\n",
    "# y6 = y[5:10]\n",
    "# y8 = y[10:]\n",
    "\n",
    "# x4 = x[0:5]\n",
    "# x6 = x[5:10]\n",
    "# x8 = x[10:]\n",
    "\n",
    "\n",
    "# s=121\n",
    "# plt.scatter(x4, y4, color='r', s=2*s, marker='o', alpha=.4)\n",
    "# plt.scatter(x6, y6, color='g', s=2*s, marker='o', alpha=.4)\n",
    "# plt.scatter(x8, y8, color='b', s=2*s, marker='o', alpha=.4)\n",
    "# # plt.scatter(x10, y10, color='m', s=2*s, marker='o', alpha=.4)\n",
    "# text = iter(['4cm', '6cm', '8cm'])\n",
    "\n",
    "plt.ylabel('Drag Energy (mJ)')\n",
    "plt.xlabel('Channel Width (cm)')\n",
    "# mpl_fig = plt.gcf()\n",
    "# plotly_fig = tls.mpl_to_plotly( mpl_fig )\n",
    "\n",
    "# for dat in plotly_fig['data']:\n",
    "#     t = text.next()\n",
    "#     dat.update({'name': t, 'text':t})\n",
    "\n",
    "# plotly_fig['layout']['showlegend'] = True\n",
    "# py.plot(plotly_fig)\n",
    "\n",
    "\n",
    "\n",
    "# n = [4,6,8,10]\n",
    "# axarr.scatter(x,y)\n",
    "\n",
    "\n",
    "plt.show()\n",
    "\n",
    "\n",
    "\n"
   ]
  }
 ],
 "metadata": {
  "kernelspec": {
   "display_name": "Python 2",
   "language": "python",
   "name": "python2"
  },
  "language_info": {
   "codemirror_mode": {
    "name": "ipython",
    "version": 2
   },
   "file_extension": ".py",
   "mimetype": "text/x-python",
   "name": "python",
   "nbconvert_exporter": "python",
   "pygments_lexer": "ipython2",
   "version": "2.7.12"
  }
 },
 "nbformat": 4,
 "nbformat_minor": 0
}
