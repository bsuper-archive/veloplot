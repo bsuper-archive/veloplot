{
 "cells": [
  {
   "cell_type": "code",
   "execution_count": 4,
   "metadata": {
    "collapsed": true
   },
   "outputs": [],
   "source": [
    "%matplotlib inline\n",
    "%config InlineBackend.figure_format = 'retina'\n",
    "import os\n",
    "import numpy as np\n",
    "import matplotlib.pyplot as plt\n",
    "import seaborn as sns\n",
    "\n",
    "sns.set_style(\"whitegrid\")\n",
    "sns.set_palette(\"bright\")"
   ]
  },
  {
   "cell_type": "code",
   "execution_count": 5,
   "metadata": {
    "collapsed": false
   },
   "outputs": [
    {
     "data": {
      "text/plain": [
       "u'https://plot.ly/~cankoch/10'"
      ]
     },
     "execution_count": 5,
     "metadata": {},
     "output_type": "execute_result"
    }
   ],
   "source": [
    "import plotly.plotly as py\n",
    "import plotly.tools as tls\n",
    "\n",
    "# figure, axarr = plt.subplots(1)\n",
    "\n",
    "#Cost of Transport Values Per Experiment\n",
    "#[4,6,8,10]cms\n",
    "y = [[87.5495070604,87.8072135006,91.7763893449,82.2564996858,88.7392035524],[35.3764036278,35.7122351534,41.8485587181,35.5950078253,43.4821627266],\n",
    "     [0,0,0,0,0],[38.9354974587,37.2127500879,37.5270102075,38.6355424857,35.8222099458]]\n",
    "\n",
    "x = [[3.131935882/100.,3.160776506/100.,2.831661093/100.,3.139678616/100.,2.844344905/100.],[0.0672,.06773,0.05986531987,0.067508,0.053101],[0,0,0,0,0],[0.0664,0.065760,0.06109,0.05946,0.0598653]]\n",
    "\n",
    "\n",
    "\n",
    "#Power Values Per Experiment\n",
    "#[4,6,8,10]cms\n",
    "power_vals = [[1.97102084755,1.99502634077,1.86808611133,1.85643637775,1.81435570449],[1.71102002051,1.73877798035,1.80086211922,1.72731263968,1.65973540187],\n",
    "     [0,0,0,0,0],[1.85854317813,1.75906400029,1.64819041147,1.65147587221,1.54153124729]]\n",
    "\n",
    "y = reduce(lambda a,b: a+b, y)\n",
    "x = reduce(lambda a,b: a+b, x)\n",
    "\n",
    "y4 = y[0:5]\n",
    "y6 = y[5:10]\n",
    "y8 = y[10:15]\n",
    "y10 = y[15:]\n",
    "\n",
    "x4 = x[0:5]\n",
    "x6 = x[5:10]\n",
    "x8 = x[10:15]\n",
    "x10 = x[15:]\n",
    "\n",
    "s=121\n",
    "plt.scatter(x4, y4, color='r', s=2*s, marker='o', alpha=.4)\n",
    "plt.scatter(x6, y6, color='g', s=2*s, marker='o', alpha=.4)\n",
    "plt.scatter(x8, y8, color='b', s=2*s, marker='o', alpha=.4)\n",
    "plt.scatter(x10, y10, color='m', s=2*s, marker='o', alpha=.4)\n",
    "text = iter(['4cm', '6cm', '8cm', '14cm'])\n",
    "\n",
    "plt.ylabel('Cost of Transport')\n",
    "plt.xlabel('Velocity')\n",
    "mpl_fig = plt.gcf()\n",
    "plotly_fig = tls.mpl_to_plotly( mpl_fig )\n",
    "\n",
    "for dat in plotly_fig['data']:\n",
    "    t = text.next()\n",
    "    dat.update({'name': t, 'text':t})\n",
    "\n",
    "plotly_fig['layout']['showlegend'] = True\n",
    "py.plot(plotly_fig)\n",
    "\n",
    "\n",
    "\n",
    "# n = [4,6,8,10]\n",
    "# axarr.scatter(x,y)\n",
    "\n",
    "\n",
    "# plt.show()\n",
    "\n",
    "\n"
   ]
  },
  {
   "cell_type": "code",
   "execution_count": 6,
   "metadata": {
    "collapsed": false
   },
   "outputs": [
    {
     "ename": "NameError",
     "evalue": "name 'figure' is not defined",
     "output_type": "error",
     "traceback": [
      "\u001b[0;31m---------------------------------------------------------------------------\u001b[0m",
      "\u001b[0;31mNameError\u001b[0m                                 Traceback (most recent call last)",
      "\u001b[0;32m<ipython-input-6-8e27ac893909>\u001b[0m in \u001b[0;36m<module>\u001b[0;34m()\u001b[0m\n\u001b[1;32m      3\u001b[0m \u001b[0;32mif\u001b[0m \u001b[0;32mnot\u001b[0m \u001b[0mos\u001b[0m\u001b[0;34m.\u001b[0m\u001b[0mpath\u001b[0m\u001b[0;34m.\u001b[0m\u001b[0mexists\u001b[0m\u001b[0;34m(\u001b[0m\u001b[0moutput_dir\u001b[0m\u001b[0;34m)\u001b[0m\u001b[0;34m:\u001b[0m\u001b[0;34m\u001b[0m\u001b[0m\n\u001b[1;32m      4\u001b[0m             \u001b[0mos\u001b[0m\u001b[0;34m.\u001b[0m\u001b[0mmakedirs\u001b[0m\u001b[0;34m(\u001b[0m\u001b[0moutput_dir\u001b[0m\u001b[0;34m)\u001b[0m\u001b[0;34m\u001b[0m\u001b[0m\n\u001b[0;32m----> 5\u001b[0;31m \u001b[0mfigure\u001b[0m\u001b[0;34m.\u001b[0m\u001b[0msavefig\u001b[0m\u001b[0;34m(\u001b[0m\u001b[0moutput_dir\u001b[0m \u001b[0;34m+\u001b[0m \u001b[0moutput_filename\u001b[0m\u001b[0;34m,\u001b[0m \u001b[0mdpi\u001b[0m\u001b[0;34m=\u001b[0m\u001b[0;36m450\u001b[0m\u001b[0;34m)\u001b[0m\u001b[0;34m\u001b[0m\u001b[0m\n\u001b[0m",
      "\u001b[0;31mNameError\u001b[0m: name 'figure' is not defined"
     ]
    }
   ],
   "source": [
    "output_dir = \"./out/\"\n",
    "output_filename = \"COT_VS_DRAG_ENERY.png\"\n",
    "if not os.path.exists(output_dir):\n",
    "            os.makedirs(output_dir)\n",
    "figure.savefig(output_dir + output_filename, dpi=450)"
   ]
  },
  {
   "cell_type": "code",
   "execution_count": null,
   "metadata": {
    "collapsed": true
   },
   "outputs": [],
   "source": []
  }
 ],
 "metadata": {
  "kernelspec": {
   "display_name": "Python 2",
   "language": "python",
   "name": "python2"
  },
  "language_info": {
   "codemirror_mode": {
    "name": "ipython",
    "version": 2
   },
   "file_extension": ".py",
   "mimetype": "text/x-python",
   "name": "python",
   "nbconvert_exporter": "python",
   "pygments_lexer": "ipython2",
   "version": "2.7.12"
  }
 },
 "nbformat": 4,
 "nbformat_minor": 0
}
