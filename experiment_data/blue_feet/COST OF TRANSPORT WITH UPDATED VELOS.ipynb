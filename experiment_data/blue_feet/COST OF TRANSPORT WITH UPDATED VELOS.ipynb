{
 "cells": [
  {
   "cell_type": "code",
   "execution_count": 1,
   "metadata": {
    "collapsed": false
   },
   "outputs": [],
   "source": [
    "%matplotlib inline\n",
    "%config InlineBackend.figure_format = 'retina'\n",
    "import os\n",
    "import numpy as np\n",
    "import matplotlib.pyplot as plt\n",
    "import seaborn as sns\n",
    "\n",
    "sns.set_style(\"whitegrid\")\n",
    "sns.set_palette(\"bright\")"
   ]
  },
  {
   "cell_type": "code",
   "execution_count": null,
   "metadata": {
    "collapsed": true
   },
   "outputs": [],
   "source": []
  },
  {
   "cell_type": "code",
   "execution_count": 2,
   "metadata": {
    "collapsed": false
   },
   "outputs": [
    {
     "data": {
      "text/plain": [
       "u'https://plot.ly/~cankoch/26'"
      ]
     },
     "execution_count": 2,
     "metadata": {},
     "output_type": "execute_result"
    }
   ],
   "source": [
    "import plotly.plotly as py\n",
    "import plotly.tools as tls\n",
    "\n",
    "# figure, axarr = plt.subplots(1) \n",
    "\n",
    "#Cost of Transport Values Per Experiment\n",
    "#[4,6,8,10]cms\n",
    "y = [[47.9863448539,49.8032611133,57.9434442337,56.8729282494,55.8706552702,44.5166842186,46.5997740163,46.5427932931,44.873023566,46.4285184549]\n",
    "     ,[42.729097488,45.9590075208,42.5149868391,40.7911505645,43.9447610849],\n",
    "     [42.5755500373,43.7475621299,40.5099631269,40.83881415,39.9746934895,37.7521515495,43.6779530044,41.9180072326,39.6673726829]\n",
    "     ,[38.9354974587,37.2127500879,37.5270102075,38.6355424857,35.8222099458,]]\n",
    "\n",
    "x = [[5.715/100.,5.715/100.,4.572/100.,4.572/100.,4.572/100.,5.715/100.,5.715/100.,5.715/100.,5.715/100.,5.2324/100.]\n",
    "     ,[6.35/100.,6.35/100.,6.1595/100.,6.1595/100.,6.1595/100.],\n",
    "     [5.842/100.,5.842/100.,5.842/100.,5.715/100.,5.842/100.,5.842/100.,6.0325/100.,6.35/100.,6.35/100.]\n",
    "     ,[0.0664,0.065760,0.06109,0.05946,0.0598653]]\n",
    "\n",
    "\n",
    "\n",
    "#Power Values Per Experiment\n",
    "#[4,6,8,10]cms\n",
    "power_vals = [[1.97102084755,1.99502634077,1.86808611133,1.85643637775,1.81435570449],[1.95039284638,2.09782384288,1.88240106011,1.806076181,1.94570599694],\n",
    "     [1.78791336248,1.83713072032,1.70117131369,1.67769885371,1.67869325442],[1.85854317813,1.75906400029,1.64819041147,1.65147587221,1.54153124729]]\n",
    "\n",
    "y = reduce(lambda a,b: a+b, y)\n",
    "x = reduce(lambda a,b: a+b, x)\n",
    "\n",
    "y4 = y[0:10]\n",
    "y6 = y[10:15]\n",
    "y8 = y[15:24]\n",
    "y10 = y[24:]\n",
    "\n",
    "x4 = x[0:10]\n",
    "x6 = x[10:15]\n",
    "x8 = x[15:24]\n",
    "x10 = x[24:]\n",
    "\n",
    "s=121\n",
    "plt.scatter(x4, y4, color='r', s=2*s, marker='o', alpha=.4)\n",
    "plt.scatter(x6, y6, color='g', s=2*s, marker='o', alpha=.4)\n",
    "plt.scatter(x8, y8, color='b', s=2*s, marker='o', alpha=.4)\n",
    "plt.scatter(x10, y10, color='m', s=2*s, marker='o', alpha=.4)\n",
    "text = iter(['4cm', '6cm', '8cm', '10cm'])\n",
    "\n",
    "plt.ylabel('Cost of Transport')\n",
    "plt.xlabel('Velocity')\n",
    "mpl_fig = plt.gcf()\n",
    "plotly_fig = tls.mpl_to_plotly( mpl_fig )\n",
    "\n",
    "for dat in plotly_fig['data']:\n",
    "    t = text.next()\n",
    "    dat.update({'name': t, 'text':t})\n",
    "\n",
    "plotly_fig['layout']['showlegend'] = True\n",
    "py.plot(plotly_fig)\n",
    "\n",
    "\n",
    "\n",
    "# n = [4,6,8,10]\n",
    "# axarr.scatter(x,y)\n",
    "\n",
    "\n",
    "# plt.show()\n",
    "\n",
    "\n",
    "\n"
   ]
  },
  {
   "cell_type": "code",
   "execution_count": null,
   "metadata": {
    "collapsed": true
   },
   "outputs": [],
   "source": []
  }
 ],
 "metadata": {
  "kernelspec": {
   "display_name": "Python 2",
   "language": "python",
   "name": "python2"
  },
  "language_info": {
   "codemirror_mode": {
    "name": "ipython",
    "version": 2
   },
   "file_extension": ".py",
   "mimetype": "text/x-python",
   "name": "python",
   "nbconvert_exporter": "python",
   "pygments_lexer": "ipython2",
   "version": "2.7.12"
  }
 },
 "nbformat": 4,
 "nbformat_minor": 0
}
