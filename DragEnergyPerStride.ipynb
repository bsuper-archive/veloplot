{
 "cells": [
  {
   "cell_type": "code",
   "execution_count": 1,
   "metadata": {
    "collapsed": true
   },
   "outputs": [],
   "source": [
    "%matplotlib inline\n",
    "%config InlineBackend.figure_format = 'retina'\n",
    "import sys\n",
    "sys.path.append('../')\n",
    "import utils\n",
    "import calibration_utils as calibration\n",
    "import matplotlib.pyplot as plt\n",
    "import scipy\n",
    "import seaborn as sns\n",
    "import pandas as pd\n",
    "import numpy as np\n",
    "from scipy import stats\n",
    "import glob\n",
    "\n",
    "CALIBRATION_FILE = 'calibration/out/C.mat'\n",
    "sns.set_style(\"whitegrid\")\n",
    "sns.set_style(\"ticks\",{'axes.grid' : False, 'grid.linestyle': '--', 'grid.color':'black'})\n",
    "sns.set_palette(\"bright\")\n",
    "\n",
    "all_drags= {}"
   ]
  },
  {
   "cell_type": "markdown",
   "metadata": {},
   "source": [
    "### 4cm data files"
   ]
  },
  {
   "cell_type": "code",
   "execution_count": 2,
   "metadata": {
    "collapsed": false
   },
   "outputs": [
    {
     "name": "stdout",
     "output_type": "stream",
     "text": [
      "5\n",
      "5\n",
      "{0: [(6500, 7500), (10500, 11500)], 1: [(6500, 7500), (10500, 11500)], 2: [(6500, 7500), (11500, 12500)], 3: [(6500, 7500), (10500, 11500)], 4: [(7500, 8500), (11500, 12500)]}\n",
      "drag energy (mJ): -13.2523152307\n",
      "drag energy (mJ): -11.9196968277\n",
      "drag energy (mJ): -12.8903634363\n",
      "drag energy (mJ): -5.92376699153\n",
      "drag energy (mJ): -14.0778931969\n",
      "drag energy (mJ): -13.0143115455\n",
      "drag energy (mJ): -10.2427146872\n",
      "drag energy (mJ): -3.2121528375\n",
      "drag energy (mJ): -11.5725159306\n",
      "drag energy (mJ): -11.0846479833\n",
      "drag energy (mJ): -9.81165082572\n",
      "drag energy (mJ): -4.96889261412\n",
      "drag energy (mJ): -1.46210821518\n",
      "drag energy (mJ): -14.5093540869\n",
      "drag energy (mJ): -11.6443175774\n",
      "drag energy (mJ): -10.9947110631\n",
      "drag energy (mJ): -4.25619440471\n",
      "drag energy (mJ): -11.3123542393\n",
      "drag energy (mJ): -8.99810815847\n",
      "drag energy (mJ): -4.55560959992\n",
      "drag energy (mJ): -1.8419988129\n",
      "5\n",
      "[[-13.252315230706195, -11.919696827729494, -12.890363436314072, -5.9237669915277555], [-14.077893196869185, -13.014311545475438, -10.242714687185343, -3.2121528374999806], [-11.572515930644965, -11.084647983347876, -9.8116508257242447, -4.9688926141225123, -1.4621082151801998], [-14.509354086931475, -11.644317577440104, -10.994711063107772, -4.2561944047089311], [-11.312354239281479, -8.9981081584730447, -4.5556095999220307, -1.8419988129044929]]\n",
      "[-13.252315230706195, -11.919696827729494, -12.890363436314072, -5.9237669915277555, -14.077893196869185, -13.014311545475438, -10.242714687185343, -3.2121528374999806, -11.572515930644965, -11.084647983347876, -9.8116508257242447, -4.9688926141225123, -1.4621082151801998, -14.509354086931475, -11.644317577440104, -10.994711063107772, -4.2561944047089311, -11.312354239281479, -8.9981081584730447, -4.5556095999220307, -1.8419988129044929]\n"
     ]
    }
   ],
   "source": [
    "FOUR_FILES = glob.glob(\"experiment_data/blue_feet/4/important_experiments/*.txt\")\n",
    "print len(FOUR_FILES)\n",
    "FOUR_DFS = map(lambda x: utils.process_data_files(x, CALIBRATION_FILE), FOUR_FILES)\n",
    "print len(FOUR_DFS)\n",
    "# four_cycles = map(utils.get_leg_cycles, FOUR_DFS)\n",
    "# four_cycles_sorted = sorted(four_cycles)\n",
    "# inside_channel=[]\n",
    "\n",
    "interval_times = [[(6500,7500),(10500,11500)],[(6500,7500),(10500,11500)],[(6500,7500),(11500,12500)],\n",
    "                  [(6500,7500),(10500,11500)],[(7500,8500),(11500,12500)]]\n",
    "\n",
    "intervals_dict = {}\n",
    "for i in xrange(len(interval_times)):\n",
    "    intervals_dict[i] = interval_times[i]\n",
    "    \n",
    "print intervals_dict\n",
    "\n",
    "four_drags = []\n",
    "i = 0\n",
    "for df in FOUR_DFS:\n",
    "    start = df['Right Leg Pos'][intervals_dict[i][0][0]:intervals_dict[i][0][1]].argmax()\n",
    "    end = df['Right Leg Pos'][intervals_dict[i][1][0]:intervals_dict[i][1][1]].argmax()\n",
    "    starts = np.arange(start, end, step=1000)\n",
    "    ends = np.arange(start+1000, end+1000, step=1000)\n",
    "    intervals = np.vstack((starts, ends)).T\n",
    "    drags = utils.get_drag_energy_from_list(df, False, intervals)\n",
    "    four_drags.append(drags)\n",
    "    i+=1\n",
    "\n",
    "print len(four_drags)\n",
    "print four_drags\n",
    "four_drags_flattened=reduce(lambda x,y: x+y,four_drags)\n",
    "print four_drags_flattened\n",
    "all_drags[\"4\"]=four_drags_flattened\n"
   ]
  },
  {
   "cell_type": "markdown",
   "metadata": {},
   "source": [
    "### 6cm data files"
   ]
  },
  {
   "cell_type": "code",
   "execution_count": 3,
   "metadata": {
    "collapsed": false
   },
   "outputs": [
    {
     "name": "stdout",
     "output_type": "stream",
     "text": [
      "5\n",
      "5\n",
      "{0: [(6500, 7000), (10000, 11500)], 1: [(6500, 7000), (11000, 11500)], 2: [(6000, 6500), (9500, 10000)], 3: [(6500, 7500), (11000, 11500)], 4: [(6500, 7500), (11000, 12500)]}\n",
      "drag energy (mJ): -9.33323530857\n",
      "drag energy (mJ): -5.77990478406\n",
      "drag energy (mJ): -2.11602981557\n",
      "drag energy (mJ): -1.55487397517\n",
      "drag energy (mJ): -5.13065427325\n",
      "drag energy (mJ): -4.2360835306\n",
      "drag energy (mJ): -1.46718293491\n",
      "drag energy (mJ): -3.06373219195\n",
      "drag energy (mJ): -0.780124750047\n",
      "drag energy (mJ): -7.0847868849\n",
      "drag energy (mJ): -4.69937966337\n",
      "drag energy (mJ): -2.83215367758\n",
      "drag energy (mJ): -3.82875250005\n",
      "drag energy (mJ): -5.62699849088\n",
      "drag energy (mJ): -2.39733577967\n",
      "drag energy (mJ): 0.975677613626\n",
      "drag energy (mJ): -1.76024741204\n",
      "drag energy (mJ): 0.452284772701\n",
      "drag energy (mJ): -4.27643025872\n",
      "drag energy (mJ): -2.25041558304\n",
      "drag energy (mJ): -1.28768895738\n",
      "drag energy (mJ): -3.96586563865\n",
      "drag energy (mJ): -2.52665939001\n",
      "5\n",
      "[[-9.333235308570341, -5.7799047840550886, -2.1160298155691564, -1.5548739751736242], [-5.1306542732498324, -4.2360835306034383, -1.4671829349057819, -3.0637321919540854, -0.78012475004748738], [-7.0847868849001063, -4.699379663370169, -2.832153677581204, -3.8287525000537999], [-5.6269984908801272, -2.3973357796705663, 0.97567761362626138, -1.7602474120383058, 0.45228477270056044], [-4.2764302587211152, -2.2504155830364749, -1.2876889573764927, -3.9658656386482911, -2.5266593900147369]]\n",
      "[-9.333235308570341, -5.7799047840550886, -2.1160298155691564, -1.5548739751736242, -5.1306542732498324, -4.2360835306034383, -1.4671829349057819, -3.0637321919540854, -0.78012475004748738, -7.0847868849001063, -4.699379663370169, -2.832153677581204, -3.8287525000537999, -5.6269984908801272, -2.3973357796705663, 0.97567761362626138, -1.7602474120383058, 0.45228477270056044, -4.2764302587211152, -2.2504155830364749, -1.2876889573764927, -3.9658656386482911, -2.5266593900147369]\n"
     ]
    }
   ],
   "source": [
    "SIX_FILES = glob.glob(\"experiment_data/blue_feet/6/important_experiments/*.txt\")\n",
    "print len(SIX_FILES)\n",
    "SIX_DFS = map(lambda x: utils.process_data_files(x, CALIBRATION_FILE), SIX_FILES)\n",
    "print len(SIX_DFS)\n",
    "\n",
    "interval_times = [[(6500,7000),(10000,11500)],[(6500,7000),(11000,11500)],[(6000,6500),(9500,10000)],\n",
    "                  [(6500,7500),(11000,11500)],[(6500,7500),(11000,12500)]]\n",
    "\n",
    "intervals_dict = {}\n",
    "for i in xrange(len(interval_times)):\n",
    "    intervals_dict[i] = interval_times[i]\n",
    "    \n",
    "print intervals_dict\n",
    "\n",
    "six_drags = []\n",
    "i = 0\n",
    "for df in SIX_DFS:\n",
    "    start = df['Right Leg Pos'][intervals_dict[i][0][0]:intervals_dict[i][0][1]].argmax()\n",
    "    end = df['Right Leg Pos'][intervals_dict[i][1][0]:intervals_dict[i][1][1]].argmax()\n",
    "    starts = np.arange(start, end, step=1000)\n",
    "    ends = np.arange(start+1000, end+1000, step=1000)\n",
    "    intervals = np.vstack((starts, ends)).T\n",
    "    drags = utils.get_drag_energy_from_list(df, False, intervals)\n",
    "    six_drags.append(drags)\n",
    "    i+=1\n",
    "\n",
    "print len(six_drags)\n",
    "print six_drags\n",
    "six_drags_flattened=reduce(lambda x,y: x+y,six_drags)\n",
    "print six_drags_flattened\n",
    "all_drags[\"6\"]=six_drags_flattened"
   ]
  },
  {
   "cell_type": "markdown",
   "metadata": {},
   "source": [
    "### 8cm data files"
   ]
  },
  {
   "cell_type": "code",
   "execution_count": 4,
   "metadata": {
    "collapsed": false
   },
   "outputs": [
    {
     "name": "stdout",
     "output_type": "stream",
     "text": [
      "5\n",
      "5\n",
      "{0: [(6000, 7500), (10000, 11500)], 1: [(6000, 7500), (10000, 11500)], 2: [(3000, 3500), (8000, 10000)], 3: [(4000, 5500), (9000, 9500)], 4: [(6000, 6500), (9000, 10000)]}\n",
      "drag energy (mJ): -1.83914071526\n",
      "drag energy (mJ): -1.42947976495\n",
      "drag energy (mJ): -0.511720891373\n",
      "drag energy (mJ): -2.52082323445\n",
      "drag energy (mJ): -1.16065426389\n",
      "drag energy (mJ): -3.67188898631\n",
      "drag energy (mJ): -2.36087403862\n",
      "drag energy (mJ): -2.42097239015\n",
      "drag energy (mJ): -2.23136636211\n",
      "drag energy (mJ): -1.88437355377\n",
      "drag energy (mJ): 0.278127007301\n",
      "drag energy (mJ): -3.42134111268\n",
      "drag energy (mJ): -1.16720652952\n",
      "drag energy (mJ): -0.833323088804\n",
      "drag energy (mJ): -2.63132308447\n",
      "drag energy (mJ): -2.04664466506\n",
      "drag energy (mJ): -1.52850898579\n",
      "drag energy (mJ): -0.111395460829\n",
      "drag energy (mJ): -2.41609919824\n",
      "drag energy (mJ): -3.86802030246\n",
      "drag energy (mJ): -0.906054365116\n",
      "drag energy (mJ): -2.8603201049\n",
      "drag energy (mJ): -2.13845818038\n",
      "5\n",
      "[[-1.8391407152613284, -1.4294797649454323, -0.51172089137324162, -2.5208232344482098], [-1.1606542638949953, -3.6718889863117696, -2.3608740386193428, -2.4209723901465194], [-2.2313663621140454, -1.8843735537668771, 0.27812700730057593, -3.4213411126832498, -1.1672065295221299, -0.83332308880417194], [-2.6313230844671249, -2.046644665056097, -1.5285089857928886, -0.11139546082944032, -2.4160991982370228], [-3.8680203024638469, -0.90605436511622195, -2.8603201048995452, -2.1384581803811082]]\n",
      "[-1.8391407152613284, -1.4294797649454323, -0.51172089137324162, -2.5208232344482098, -1.1606542638949953, -3.6718889863117696, -2.3608740386193428, -2.4209723901465194, -2.2313663621140454, -1.8843735537668771, 0.27812700730057593, -3.4213411126832498, -1.1672065295221299, -0.83332308880417194, -2.6313230844671249, -2.046644665056097, -1.5285089857928886, -0.11139546082944032, -2.4160991982370228, -3.8680203024638469, -0.90605436511622195, -2.8603201048995452, -2.1384581803811082]\n"
     ]
    }
   ],
   "source": [
    "EIGHT_FILES = glob.glob(\"experiment_data/blue_feet/8/important_experiments/*.txt\")\n",
    "print len(EIGHT_FILES)\n",
    "EIGHT_DFS = map(lambda x: utils.process_data_files(x, CALIBRATION_FILE), EIGHT_FILES)\n",
    "print len(EIGHT_DFS)\n",
    "\n",
    "interval_times = [[(6000,7500),(10000,11500)],[(6000,7500),(10000,11500)],[(3000,3500),(8000,10000)],\n",
    "                  [(4000,5500),(9000,9500)],[(6000,6500),(9000,10000)]]\n",
    "\n",
    "intervals_dict = {}\n",
    "for i in xrange(len(interval_times)):\n",
    "    intervals_dict[i] = interval_times[i]\n",
    "    \n",
    "print intervals_dict\n",
    "\n",
    "eight_drags = []\n",
    "i = 0\n",
    "for df in EIGHT_DFS:\n",
    "    start = df['Right Leg Pos'][intervals_dict[i][0][0]:intervals_dict[i][0][1]].argmax()\n",
    "    end = df['Right Leg Pos'][intervals_dict[i][1][0]:intervals_dict[i][1][1]].argmax()\n",
    "    starts = np.arange(start, end, step=1000)\n",
    "    ends = np.arange(start+1000, end+1000, step=1000)\n",
    "    intervals = np.vstack((starts, ends)).T\n",
    "    drags = utils.get_drag_energy_from_list(df, False, intervals)\n",
    "    eight_drags.append(drags)\n",
    "    i+=1\n",
    "\n",
    "print len(eight_drags)\n",
    "print eight_drags\n",
    "eight_drags_flattened=reduce(lambda x,y: x+y,eight_drags)\n",
    "print eight_drags_flattened\n",
    "all_drags[\"8\"]=eight_drags_flattened"
   ]
  },
  {
   "cell_type": "markdown",
   "metadata": {},
   "source": [
    "### 10 cm data files "
   ]
  },
  {
   "cell_type": "code",
   "execution_count": 5,
   "metadata": {
    "collapsed": false
   },
   "outputs": [
    {
     "name": "stdout",
     "output_type": "stream",
     "text": [
      "5\n",
      "5\n",
      "{0: [(4000, 4500), (7500, 8500)], 1: [(4000, 4500), (7500, 8500)], 2: [(5500, 6500), (9000, 9500)], 3: [(7500, 8500), (11000, 11500)], 4: [(3000, 4500), (7000, 7500)]}\n",
      "drag energy (mJ): 2.89620313219\n",
      "drag energy (mJ): 6.24879459248\n",
      "drag energy (mJ): 2.68349708588\n",
      "drag energy (mJ): 3.86624997424\n",
      "drag energy (mJ): -2.83738186015\n",
      "drag energy (mJ): 1.9034437178\n",
      "drag energy (mJ): 1.95880734778\n",
      "drag energy (mJ): 0.384452806674\n",
      "drag energy (mJ): -4.12827095945\n",
      "drag energy (mJ): -4.52487388206\n",
      "drag energy (mJ): -3.40242887603\n",
      "drag energy (mJ): -1.20307886373\n",
      "drag energy (mJ): -2.36981301033\n",
      "drag energy (mJ): -3.24477008629\n",
      "drag energy (mJ): -3.31029982416\n",
      "drag energy (mJ): -2.33519701042\n",
      "drag energy (mJ): -0.129072087685\n",
      "drag energy (mJ): -0.975845251819\n",
      "drag energy (mJ): -0.728078096732\n",
      "drag energy (mJ): -1.23812697644\n",
      "5\n",
      "[[2.8962031321912018, 6.2487945924768162, 2.683497085876771, 3.8662499742354504], [-2.8373818601547431, 1.9034437177991494, 1.9588073477801553, 0.38445280667415543], [-4.1282709594490026, -4.5248738820622689, -3.4024288760322006, -1.2030788637317655], [-2.3698130103337554, -3.2447700862935975, -3.3102998241612438, -2.3351970104157864], [-0.12907208768468773, -0.97584525181855186, -0.72807809673231361, -1.2381269764431084]]\n",
      "[2.8962031321912018, 6.2487945924768162, 2.683497085876771, 3.8662499742354504, -2.8373818601547431, 1.9034437177991494, 1.9588073477801553, 0.38445280667415543, -4.1282709594490026, -4.5248738820622689, -3.4024288760322006, -1.2030788637317655, -2.3698130103337554, -3.2447700862935975, -3.3102998241612438, -2.3351970104157864, -0.12907208768468773, -0.97584525181855186, -0.72807809673231361, -1.2381269764431084]\n"
     ]
    }
   ],
   "source": [
    "TEN_FILES = glob.glob(\"experiment_data/blue_feet/10/important_experiments/*.txt\")\n",
    "print len(TEN_FILES)\n",
    "TEN_DFS = map(lambda x: utils.process_data_files(x, CALIBRATION_FILE), TEN_FILES)\n",
    "print len(TEN_DFS)\n",
    "\n",
    "interval_times = [[(4000,4500),(7500,8500)],[(4000,4500),(7500,8500)],[(5500,6500),(9000,9500)],\n",
    "                  [(7500,8500),(11000,11500)],[(3000,4500),(7000,7500)]]\n",
    "\n",
    "intervals_dict = {}\n",
    "for i in xrange(len(interval_times)):\n",
    "    intervals_dict[i] = interval_times[i]\n",
    "    \n",
    "print intervals_dict\n",
    "\n",
    "ten_drags = []\n",
    "i = 0\n",
    "for df in TEN_DFS:\n",
    "    start = df['Right Leg Pos'][intervals_dict[i][0][0]:intervals_dict[i][0][1]].argmax()\n",
    "    end = df['Right Leg Pos'][intervals_dict[i][1][0]:intervals_dict[i][1][1]].argmax()\n",
    "    starts = np.arange(start, end, step=1000)\n",
    "    ends = np.arange(start+1000, end+1000, step=1000)\n",
    "    intervals = np.vstack((starts, ends)).T\n",
    "    drags = utils.get_drag_energy_from_list(df, False, intervals)\n",
    "    ten_drags.append(drags)\n",
    "    i+=1\n",
    "\n",
    "print len(ten_drags)\n",
    "print ten_drags\n",
    "ten_drags_flattened=reduce(lambda x,y: x+y,ten_drags)\n",
    "print ten_drags_flattened\n",
    "all_drags[\"10\"]=ten_drags_flattened"
   ]
  },
  {
   "cell_type": "markdown",
   "metadata": {},
   "source": [
    "### 14cm data files "
   ]
  },
  {
   "cell_type": "code",
   "execution_count": 6,
   "metadata": {
    "collapsed": false
   },
   "outputs": [
    {
     "name": "stdout",
     "output_type": "stream",
     "text": [
      "4\n",
      "4\n",
      "{0: [(3500, 4500), (6500, 7000)], 1: [(3500, 4500), (6500, 7000)], 2: [(3500, 4500), (6500, 7000)], 3: [(3500, 4500), (6500, 7000)]}\n",
      "drag energy (mJ): 0.370678244473\n",
      "drag energy (mJ): 0.246028041345\n",
      "drag energy (mJ): -0.132276345538\n",
      "drag energy (mJ): -0.622774279311\n",
      "drag energy (mJ): -4.96805558286\n",
      "drag energy (mJ): -5.2346018049\n",
      "drag energy (mJ): -5.62835658334\n",
      "drag energy (mJ): -5.96250496282\n",
      "drag energy (mJ): -3.48542648383\n",
      "drag energy (mJ): -4.12013979305\n",
      "drag energy (mJ): -4.5425685207\n",
      "drag energy (mJ): -4.77522733882\n",
      "drag energy (mJ): -3.85432608453\n",
      "drag energy (mJ): -4.06856279681\n",
      "drag energy (mJ): -4.16772369863\n",
      "drag energy (mJ): -4.88624541084\n",
      "4\n",
      "[[0.37067824447341452, 0.24602804134459358, -0.13227634553822282, -0.62277427931055074], [-4.9680555828640776, -5.2346018048950169, -5.6283565833359042, -5.9625049628189712], [-3.4854264838313771, -4.1201397930526289, -4.5425685207033615, -4.7752273388225275], [-3.8543260845327563, -4.0685627968108236, -4.1677236986276336, -4.8862454108397797]]\n",
      "[0.37067824447341452, 0.24602804134459358, -0.13227634553822282, -0.62277427931055074, -4.9680555828640776, -5.2346018048950169, -5.6283565833359042, -5.9625049628189712, -3.4854264838313771, -4.1201397930526289, -4.5425685207033615, -4.7752273388225275, -3.8543260845327563, -4.0685627968108236, -4.1677236986276336, -4.8862454108397797]\n"
     ]
    }
   ],
   "source": [
    "FOURTEEN_FILES = glob.glob(\"experiment_data/blue_feet/test_chasis_movement/14/important_experiments/*.txt\")\n",
    "print len(FOURTEEN_FILES)\n",
    "FOURTEEN_DFS = map(lambda x: utils.process_data_files(x, CALIBRATION_FILE), FOURTEEN_FILES)\n",
    "print len(FOURTEEN_DFS)\n",
    "\n",
    "interval_times = [[(3500,4500),(6500,7000)],[(3500,4500),(6500,7000)],[(3500,4500),(6500,7000)],\n",
    "                  [(3500,4500),(6500,7000)]]\n",
    "\n",
    "intervals_dict = {}\n",
    "for i in xrange(len(interval_times)):\n",
    "    intervals_dict[i] = interval_times[i]\n",
    "    \n",
    "print intervals_dict\n",
    "\n",
    "fourteen_drags = []\n",
    "i = 0\n",
    "for df in FOURTEEN_DFS:\n",
    "    start = df['Right Leg Pos'][intervals_dict[i][0][0]:intervals_dict[i][0][1]].argmax()\n",
    "    end = df['Right Leg Pos'][intervals_dict[i][1][0]:intervals_dict[i][1][1]].argmax()\n",
    "    starts = np.arange(start, end, step=1000)\n",
    "    ends = np.arange(start+1000, end+1000, step=1000)\n",
    "    intervals = np.vstack((starts, ends)).T\n",
    "    drags = utils.get_drag_energy_from_list(df, False, intervals)\n",
    "    fourteen_drags.append(drags)\n",
    "    i+=1\n",
    "\n",
    "print len(fourteen_drags)\n",
    "print fourteen_drags\n",
    "fourteen_drags_flattened=reduce(lambda x,y: x+y,fourteen_drags)\n",
    "print fourteen_drags_flattened\n",
    "all_drags[\"free\"]=fourteen_drags_flattened"
   ]
  },
  {
   "cell_type": "code",
   "execution_count": 7,
   "metadata": {
    "collapsed": false
   },
   "outputs": [
    {
     "data": {
      "text/plain": [
       "[<matplotlib.text.Text at 0x102824350>,\n",
       " <matplotlib.text.Text at 0x10280c310>,\n",
       " <matplotlib.text.Text at 0x10cba5550>,\n",
       " <matplotlib.text.Text at 0x10cba5bd0>,\n",
       " <matplotlib.text.Text at 0x10cbaf350>]"
      ]
     },
     "execution_count": 7,
     "metadata": {},
     "output_type": "execute_result"
    },
    {
     "data": {
      "image/png": "[encoded data removed]",
      "text/plain": [
       "<matplotlib.figure.Figure at 0x1029a5910>"
      ]
     },
     "metadata": {
      "image/png": {
       "height": 377,
       "width": 543
      }
     },
     "output_type": "display_data"
    }
   ],
   "source": [
    "# drags={'4':[132.5231523,119.1969683,128.9036344,59.23766992,140.778932,130.1431155,102.4271469,32.12152838,\n",
    "#    115.7251593,110.8464798,98.11650826,49.68892614,14.62108215,145.0935409,116.4431758,109.9471106,42.56194405],\n",
    "#    '6':[93.33235309,57.79904784,21.16029816,15.54873975,53.89148575,37.46332675,34.93004305,13.03388774,\n",
    "#    70.84786885,46.99379663,28.32153678,38.287525,56.26998491,23.9733578,9.756776136,17.60247412,4.522847727,\n",
    "#    42.76430259,22.50415583,12.87688957,39.65865639,25.2665939],\n",
    "#    '8':[18.39140715,14.29479765,5.117208914,25.20823234,11.60654264,36.71888986,23.60874039,24.2097239,\n",
    "#    22.31366362,18.84373554,2.781270073,34.21341113,11.6720653,32.89153856,25.58305831,19.10636232,24.16099198,\n",
    "#    38.68020302,9.060543651,28.60320105,21.3845818],\n",
    "#    '10':[28.96203132,62.48794592,26.83497086,38.66249974,28.3738186,19.03443718,19.58807348,3.844528067,\n",
    "#    41.28270959,45.24873882,34.02428876,12.03078864,23.6981301,32.44770086,33.10299824,23.3519701,\n",
    "#     1.290720877,9.758452518,7.280780967,12.38126976],\n",
    "#    'free':[3.706782445,2.460280413,1.322763455,6.227742793,49.68055583,52.34601805,56.28356583,59.62504963,\n",
    "#    34.85426484,41.20139793,45.42568521,47.75227339,38.54326085,40.68562797,41.67723699,48.86245411]}\n",
    "\n",
    "drags=all_drags\n",
    "# plt.title(\"Cost of Transport/Stride for 4, 6, 8, 10, and 12cm (free)\")\n",
    "ax = plt.axes()\n",
    "ax.xaxis.grid(True)\n",
    "# plt.scatter([4]*len(cot['4']), cot['4'], s=100)\n",
    "# plt.scatter([6]*len(cot['6']), cot['6'], s=100)\n",
    "# plt.scatter([8]*len(cot['8']), cot['8'], s=100)\n",
    "# plt.scatter([10]*len(cot['10']), cot['10'], s=100)\n",
    "# plt.scatter([12]*len(cot['free']), cot['free'], s=100)\n",
    "my_xticks=[\"-2\",\"0\",\"1\",\"2\",\"3\"]\n",
    "plt.scatter([3]*len(drags['4']), drags['4'], s=100,c='b')\n",
    "plt.scatter([2]*len(drags['6']), drags['6'], s=100,c='b')\n",
    "plt.scatter([1]*len(drags['8']), drags['8'], s=100,c='b')\n",
    "plt.scatter([0]*len(drags['10']), drags['10'], s=100,c='b')\n",
    "plt.scatter([-1]*len(drags['free']), drags['free'], s=100,c='b')\n",
    "# plt.rc('grid', linestyle=\":\", color='black')\n",
    "xfont = {'fontname':'Times New Roman'}\n",
    "ax.set_ylabel(\"Drag Energy Per Stride (mJ)\",fontdict=xfont, fontsize=24)\n",
    "ax.set_xlabel(\"Deflection (cm)\",fontdict=xfont,fontsize=24)\n",
    "ax.tick_params(axis='both', which='both', labelsize=24)\n",
    "ax.set_xticks((-1,0,1,2,3))\n",
    "ax.set_xticklabels(my_xticks)\n",
    "\n",
    "\n",
    "\n",
    "\n",
    "\n",
    "\n"
   ]
  },
  {
   "cell_type": "code",
   "execution_count": null,
   "metadata": {
    "collapsed": true
   },
   "outputs": [],
   "source": []
  },
  {
   "cell_type": "code",
   "execution_count": null,
   "metadata": {
    "collapsed": true
   },
   "outputs": [],
   "source": []
  }
 ],
 "metadata": {
  "kernelspec": {
   "display_name": "Python 2",
   "language": "python",
   "name": "python2"
  },
  "language_info": {
   "codemirror_mode": {
    "name": "ipython",
    "version": 2
   },
   "file_extension": ".py",
   "mimetype": "text/x-python",
   "name": "python",
   "nbconvert_exporter": "python",
   "pygments_lexer": "ipython2",
   "version": "2.7.13"
  }
 },
 "nbformat": 4,
 "nbformat_minor": 2
}
