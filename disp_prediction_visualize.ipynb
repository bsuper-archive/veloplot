{
 "cells": [
  {
   "cell_type": "code",
   "execution_count": 1,
   "metadata": {
    "collapsed": false
   },
   "outputs": [
    {
     "name": "stderr",
     "output_type": "stream",
     "text": [
      "/Users/Can/venv/lib/python2.7/site-packages/matplotlib/font_manager.py:273: UserWarning: Matplotlib is building the font cache using fc-list. This may take a moment.\n",
      "  warnings.warn('Matplotlib is building the font cache using fc-list. This may take a moment.')\n"
     ]
    }
   ],
   "source": [
    "%matplotlib inline\n",
    "%config InlineBackend.figure_format = 'retina'\n",
    "import utils\n",
    "import featurizer\n",
    "import matplotlib.pyplot as plt\n",
    "import numpy as np\n",
    "from scipy import signal\n",
    "import classify\n",
    "from sklearn import preprocessing\n",
    "from sklearn.preprocessing import StandardScaler\n",
    "import copy\n",
    "CALIBRATION_FILE = \"N_matrix_trial9.mat\"\n",
    "TEST_FOLDER = \"test/\"\n",
    "TEST_FILE = TEST_FOLDER + \"/sliding11.txt\""
   ]
  },
  {
   "cell_type": "code",
   "execution_count": 2,
   "metadata": {
    "collapsed": false
   },
   "outputs": [
    {
     "name": "stdout",
     "output_type": "stream",
     "text": [
      "Index([u'time', u'Right Leg Pos', u'Left Leg Pos', u'Commanded Right Leg Pos',\n",
      "       u'Commanded Left Leg Pos', u'DCR', u'DCL', u'GyroX', u'GyroY', u'GyroZ',\n",
      "       u'AX', u'AY', u'AZ', u'RBEMF', u'LBEMF', u'VBatt', u'S1', u'S2', u'S3',\n",
      "       u'S4', u'S5', u'S6', u'S7', u'S8'],\n",
      "      dtype='object')\n",
      "38\n"
     ]
    }
   ],
   "source": [
    "#First we need to featurize the experiment.\n",
    "df = utils.process_data_files(TEST_FILE, CALIBRATION_FILE)\n",
    "df_segs = featurizer.segment(df)\n",
    "print len(df_segs)\n",
    "\n",
    "test_data = []\n",
    "for df_seg in df_segs:\n",
    "    test_data.append(featurizer.featurize(df_seg))\n",
    "    \n",
    "# print len(test_data)\n",
    "# print test_data[0].shape\n",
    "test_data_copy = copy.deepcopy(test_data)"
   ]
  },
  {
   "cell_type": "code",
   "execution_count": 3,
   "metadata": {
    "collapsed": false,
    "scrolled": false
   },
   "outputs": [
    {
     "name": "stdout",
     "output_type": "stream",
     "text": [
      "\n",
      "Running Random Forests...\n",
      "CTL size: 117 ACT size: 99\n",
      "10-fold CV Acc Mean:  0.930952380952 Scores:  [ 1.          1.          0.95454545  0.81818182  0.95454545  0.90909091\n",
      "  0.86363636  0.95238095  0.85714286  1.        ]\n",
      "OOB score: 0.935185185185\n",
      "Feature Importances:\n",
      "[('Fy_energy', 0.0013265310522812186), ('Mx_skew', 0.0013783577444485778), ('Mz_skew', 0.0015137866110879901), ('Fz_entropy', 0.0017981636746559832), ('AX_std', 0.00194313602163936), ('AX_mean', 0.0019915115710678103), ('Fz_skew', 0.0021401406669708141), ('M_mag_std', 0.0022446080689925317), ('Fy_kurtosis', 0.0024169805557389809), ('F_mag_kurtosis', 0.0026053581116786493), ('F_mag_max', 0.0029080844847794184), ('Mz_energy', 0.0029565375528493197), ('Fx_std', 0.0029848107165786038), ('My_skew', 0.003048513412340431), ('Mz_std', 0.003059946788579035), ('Fz_max', 0.0030874974999231791), ('AX_min', 0.0030964591584190055), ('Mz_min', 0.0032242057879693299), ('My_entropy', 0.0033420853826374593), ('M_mag_max', 0.0034366819867236893), ('My_kurtosis', 0.0036864460625301186), ('Fx_energy', 0.0037308599521854191), ('Fy_skew', 0.0039181182298732636), ('Fz_kurtosis', 0.0039604230359365257), ('Mx_max', 0.0040349711151062414), ('F_mag_energy', 0.0041142983126445532), ('F_mag_skew', 0.004207554144252946), ('M_mag_kurtosis', 0.004227428163341612), ('Fy_mean', 0.0043923801882548089), ('M_mag_skew', 0.004406786375072521), ('F_mag_std', 0.0044422915285436413), ('Fy_min', 0.0047285455133298897), ('Mz_kurtosis', 0.0047958181105130929), ('Fx_max', 0.0057718856317456558), ('AX_kurtosis', 0.0059021910683564561), ('My_mean', 0.0060868107050979312), ('Fx_kurtosis', 0.0061653543905510928), ('Fx_skew', 0.0062407792582659417), ('Mz_entropy', 0.0074548776032681788), ('Fy_entropy', 0.0074784053792183447), ('Mx_kurtosis', 0.007782367646133069), ('Fy_max', 0.0087791984341389576), ('M_mag_mean', 0.008926770109444402), ('Fx_min', 0.0093272606890583559), ('My_max', 0.010909892315765075), ('My_energy', 0.011344315526990292), ('M_mag_entropy', 0.011429006549541628), ('Fz_mean', 0.011680289049550057), ('M_mag_min', 0.013100369072773293), ('Mx_std', 0.013172616135908748), ('M_mag_energy', 0.013456455419076651), ('Mz_mean', 0.01664921012319109), ('F_mag_mean', 0.017018481151770952), ('Fx_entropy', 0.017197969757041152), ('Mx_entropy', 0.017727493252035841), ('F_mag_entropy', 0.019298917998720092), ('Fz_min', 0.019513552543238465), ('Fz_std', 0.020258769743418514), ('Mz_max', 0.021864877623513111), ('Fy_std', 0.023152742618768679), ('F_mag_min', 0.030113329700505512), ('My_std', 0.035212592067500138), ('Fz_energy', 0.03741342138462761), ('My_min', 0.044597472850920278), ('AX_max', 0.047034901557097462), ('Mx_mean', 0.054766685764465833), ('Fx_mean', 0.05838680785339035), ('AX_skew', 0.073832892408657008), ('Mx_energy', 0.08125598868952616), ('Mx_min', 0.094545730345781565)]\n",
      "len(predicted_labels): 38\n",
      "predicted labels: [1 0 1 1 1 1 1 1 1 1 1 1 1 1 1 1 1 1 1 1 1 1 1 1 1 1 1 1 1 1 1 1 1 1 1 1 0\n",
      " 1]\n"
     ]
    }
   ],
   "source": [
    "#Random Forest Prediction\n",
    "random_forest_predictions = classify.predict_random_forests(test_data)"
   ]
  },
  {
   "cell_type": "code",
   "execution_count": null,
   "metadata": {
    "collapsed": false,
    "scrolled": false
   },
   "outputs": [],
   "source": [
    "cdict = {\n",
    "  'red'  :  [],\n",
    "  'blue' :  []\n",
    "}\n",
    "\n",
    "for i in xrange(len(df_segs)):\n",
    "    time_min = \n",
    "    color = 'b'\n",
    "    if random_forest_predictions[i] == 1:\n",
    "        color = 'r'\n",
    "        \n",
    "    plt.plot(df_segs[i][\"time\"], df_segs[i][\"F_mag\"],color=color)\n",
    "    plt.xlabel(\"Time (s)\")\n",
    "    plt.ylabel(\"Force (N)\")\n",
    "    plt.show()"
   ]
  },
  {
   "cell_type": "code",
   "execution_count": null,
   "metadata": {
    "collapsed": false
   },
   "outputs": [],
   "source": [
    "utils.plot_columns(df, [[\"Fx\", \"Fy\", \"Fz\"], \"F_mag\", [\"Mx\", \"My\", \"Mz\"], \"M_mag\", [\"AX\", \"AY\", \"AZ\"], \"A_mag\", [\"GyroX\", \"GyroY\", \"GyroZ\"], \"Gyro_mag\"], display=True, save_figure=False, output_filename=\"FMAG.png\")\n"
   ]
  },
  {
   "cell_type": "code",
   "execution_count": 4,
   "metadata": {
    "collapsed": false
   },
   "outputs": [
    {
     "name": "stdout",
     "output_type": "stream",
     "text": [
      "\n",
      "Running XGB Trees...\n",
      "CTL size: 117 ACT size: 99\n",
      "10-fold CV Acc Mean:  0.939350649351 Scores:  [ 0.90909091  1.          0.95454545  0.90909091  0.95454545  0.90909091\n",
      "  1.          0.85714286  1.          0.9       ]\n",
      "Feature Importances:\n",
      "[('F_mag_mean', 0.0010448138107755729), ('My_entropy', 0.0014745461037863595), ('Mx_skew', 0.0017817423670558193), ('Fz_skew', 0.0018994986581687145), ('Fy_kurtosis', 0.0019843267679125055), ('Fy_energy', 0.0021311426289411205), ('AX_mean', 0.0021672557248117682), ('Fz_entropy', 0.0021890700940414205), ('F_mag_kurtosis', 0.0022474768727891708), ('Fx_energy', 0.0024601716689595979), ('Mz_energy', 0.0027438362062716408), ('Mz_max', 0.0031304453727235716), ('My_skew', 0.0036928140851114439), ('Mz_skew', 0.0038370145771720208), ('Mz_kurtosis', 0.0039726012051334685), ('AX_min', 0.0044577937831529572), ('Fy_std', 0.0045576699320952598), ('My_max', 0.0047549212581587284), ('M_mag_std', 0.0047628776447068118), ('Fz_max', 0.0048252134774070645), ('Fz_kurtosis', 0.0057201354163981559), ('F_mag_skew', 0.0057297404498354819), ('Fy_max', 0.0057410337531535018), ('Fy_min', 0.0059964423427617776), ('Fx_std', 0.0062763108617252461), ('Fx_max', 0.0067576400227593149), ('My_mean', 0.0069620484414565607), ('Fz_energy', 0.0078557727809175776), ('AX_std', 0.0087331026888400679), ('M_mag_skew', 0.0088147357549348826), ('F_mag_max', 0.0093100998088068449), ('My_kurtosis', 0.0095847095493866667), ('Mz_std', 0.011651161249988565), ('Mx_kurtosis', 0.012066856874765748), ('Fz_std', 0.01226834168489197), ('AX_kurtosis', 0.012569629463407844), ('Mx_std', 0.012578390371693166), ('AX_max', 0.012676503463750401), ('M_mag_max', 0.012847561486567904), ('Mx_max', 0.012858030701715173), ('Fy_mean', 0.01306341298775352), ('M_mag_kurtosis', 0.013132885593689659), ('M_mag_entropy', 0.013539477625806049), ('Mz_entropy', 0.01359100346237661), ('F_mag_entropy', 0.01377906399675672), ('My_energy', 0.01432014561062504), ('Mz_min', 0.014667777518050575), ('M_mag_mean', 0.015899938132148229), ('Fx_min', 0.015943600331334642), ('F_mag_std', 0.016186572172082348), ('M_mag_energy', 0.016295660024639374), ('F_mag_min', 0.017299273439148076), ('Fx_kurtosis', 0.017786061415068433), ('Fx_skew', 0.018003233923939318), ('Fz_min', 0.019478609056992391), ('Fz_mean', 0.020200299909286512), ('My_std', 0.020799347615006819), ('F_mag_energy', 0.021678109105521329), ('Fx_entropy', 0.022933276154872728), ('M_mag_min', 0.023402419840590095), ('Fy_skew', 0.024047367318902387), ('Mz_mean', 0.02489295065837482), ('Mx_min', 0.025266218325067809), ('Mx_energy', 0.025877086860869501), ('Mx_mean', 0.025908986208305569), ('Mx_entropy', 0.02737352396193464), ('Fx_mean', 0.032125915104187469), ('AX_skew', 0.041678983463745531), ('Fy_entropy', 0.063578153988940164), ('My_min', 0.065137166787051767)]\n",
      "len(predicted_labels): 38\n",
      "predicted labels: [1 1 1 1 1 1 1 1 1 1 1 1 1 1 1 1 1 1 1 1 1 1 0 0 0 0 1 1 1 1 1 1 1 1 1 1 1\n",
      " 1]\n"
     ]
    }
   ],
   "source": [
    "# XGB Predictions\n",
    "test_data = copy.deepcopy(test_data_copy)\n",
    "xgb_predictions = classify.predict_xgb_trees(test_data)"
   ]
  },
  {
   "cell_type": "code",
   "execution_count": 5,
   "metadata": {
    "collapsed": false
   },
   "outputs": [
    {
     "name": "stdout",
     "output_type": "stream",
     "text": [
      "\n",
      "Running SVC...\n",
      "CTL size: 117 ACT size: 99\n",
      "10-fold CV Acc Mean:  0.949112554113 Scores:  [ 0.90909091  0.95454545  0.90909091  1.          0.95454545  0.95454545\n",
      "  0.95454545  0.95238095  0.95238095  0.95      ]\n",
      "predicted labels: [0 0 0 0 0 0 0 0 0 0 0 0 0 0 0 0 0 0 0 0 0 0 0 0 0 0 0 0 0 0 0 0 0 0 0 0 0\n",
      " 0]\n"
     ]
    }
   ],
   "source": [
    "# SVC Predictions\n",
    "test_data = copy.deepcopy(test_data_copy)\n",
    "svc_predictions = classify.predict_svc(test_data)"
   ]
  },
  {
   "cell_type": "code",
   "execution_count": 7,
   "metadata": {
    "collapsed": false,
    "scrolled": false
   },
   "outputs": [
    {
     "name": "stdout",
     "output_type": "stream",
     "text": [
      "(38, 70)\n",
      "\n",
      "Running Neural Network...\n",
      "CTL size: 117 ACT size: 99\n",
      "Step #1, avg. loss: 1.01757\n",
      "Step #101, epoch #50, avg. loss: 0.12096\n",
      "Step #201, epoch #100, avg. loss: 0.01949\n",
      "Step #301, epoch #150, avg. loss: 0.00737\n",
      "Step #401, epoch #200, avg. loss: 0.00405\n",
      "Step #501, epoch #250, avg. loss: 0.00264\n",
      "Step #601, epoch #300, avg. loss: 0.00191\n",
      "Step #701, epoch #350, avg. loss: 0.00147\n",
      "Step #801, epoch #400, avg. loss: 0.00118\n",
      "Step #901, epoch #450, avg. loss: 0.00097\n",
      "Step #1, avg. loss: 1.12548\n",
      "Step #101, epoch #50, avg. loss: 0.11390\n",
      "Step #201, epoch #100, avg. loss: 0.01764\n",
      "Step #301, epoch #150, avg. loss: 0.00679\n",
      "Step #401, epoch #200, avg. loss: 0.00371\n",
      "Step #501, epoch #250, avg. loss: 0.00243\n",
      "Step #601, epoch #300, avg. loss: 0.00177\n",
      "Step #701, epoch #350, avg. loss: 0.00134\n",
      "Step #801, epoch #400, avg. loss: 0.00108\n",
      "Step #901, epoch #450, avg. loss: 0.00089\n",
      "Step #1, avg. loss: 1.07794\n",
      "Step #101, epoch #50, avg. loss: 0.12374\n",
      "Step #201, epoch #100, avg. loss: 0.02056\n",
      "Step #301, epoch #150, avg. loss: 0.00784\n",
      "Step #401, epoch #200, avg. loss: 0.00428\n",
      "Step #501, epoch #250, avg. loss: 0.00279\n",
      "Step #601, epoch #300, avg. loss: 0.00203\n",
      "Step #701, epoch #350, avg. loss: 0.00154\n",
      "Step #801, epoch #400, avg. loss: 0.00124\n",
      "Step #901, epoch #450, avg. loss: 0.00102\n",
      "Step #1, avg. loss: 0.90782\n",
      "Step #101, epoch #50, avg. loss: 0.12776\n",
      "Step #201, epoch #100, avg. loss: 0.02098\n",
      "Step #301, epoch #150, avg. loss: 0.00780\n",
      "Step #401, epoch #200, avg. loss: 0.00421\n",
      "Step #501, epoch #250, avg. loss: 0.00272\n",
      "Step #601, epoch #300, avg. loss: 0.00196\n",
      "Step #701, epoch #350, avg. loss: 0.00150\n",
      "Step #801, epoch #400, avg. loss: 0.00120\n",
      "Step #901, epoch #450, avg. loss: 0.00099\n",
      "Step #1, avg. loss: 0.87685\n",
      "Step #101, epoch #50, avg. loss: 0.12286\n",
      "Step #201, epoch #100, avg. loss: 0.02141\n",
      "Step #301, epoch #150, avg. loss: 0.00805\n",
      "Step #401, epoch #200, avg. loss: 0.00436\n",
      "Step #501, epoch #250, avg. loss: 0.00283\n",
      "Step #601, epoch #300, avg. loss: 0.00203\n",
      "Step #701, epoch #350, avg. loss: 0.00156\n",
      "Step #801, epoch #400, avg. loss: 0.00125\n",
      "Step #901, epoch #450, avg. loss: 0.00104\n",
      "Step #1, avg. loss: 0.89539\n",
      "Step #101, epoch #50, avg. loss: 0.11558\n",
      "Step #201, epoch #100, avg. loss: 0.01669\n",
      "Step #301, epoch #150, avg. loss: 0.00622\n",
      "Step #401, epoch #200, avg. loss: 0.00340\n",
      "Step #501, epoch #250, avg. loss: 0.00224\n",
      "Step #601, epoch #300, avg. loss: 0.00162\n",
      "Step #701, epoch #350, avg. loss: 0.00124\n",
      "Step #801, epoch #400, avg. loss: 0.00101\n",
      "Step #901, epoch #450, avg. loss: 0.00084\n",
      "Step #1, avg. loss: 0.96047\n",
      "Step #101, epoch #50, avg. loss: 0.11959\n",
      "Step #201, epoch #100, avg. loss: 0.01940\n",
      "Step #301, epoch #150, avg. loss: 0.00721\n",
      "Step #401, epoch #200, avg. loss: 0.00392\n",
      "Step #501, epoch #250, avg. loss: 0.00257\n",
      "Step #601, epoch #300, avg. loss: 0.00186\n",
      "Step #701, epoch #350, avg. loss: 0.00142\n",
      "Step #801, epoch #400, avg. loss: 0.00114\n",
      "Step #901, epoch #450, avg. loss: 0.00095\n",
      "Step #1, avg. loss: 1.09740\n",
      "Step #101, epoch #50, avg. loss: 0.11591\n",
      "Step #201, epoch #100, avg. loss: 0.01817\n",
      "Step #301, epoch #150, avg. loss: 0.00681\n",
      "Step #401, epoch #200, avg. loss: 0.00372\n",
      "Step #501, epoch #250, avg. loss: 0.00243\n",
      "Step #601, epoch #300, avg. loss: 0.00177\n",
      "Step #701, epoch #350, avg. loss: 0.00136\n",
      "Step #801, epoch #400, avg. loss: 0.00110\n",
      "Step #901, epoch #450, avg. loss: 0.00091\n",
      "Step #1, avg. loss: 0.89616\n",
      "Step #101, epoch #50, avg. loss: 0.12010\n",
      "Step #201, epoch #100, avg. loss: 0.01829\n",
      "Step #301, epoch #150, avg. loss: 0.00702\n",
      "Step #401, epoch #200, avg. loss: 0.00384\n",
      "Step #501, epoch #250, avg. loss: 0.00251\n",
      "Step #601, epoch #300, avg. loss: 0.00181\n",
      "Step #701, epoch #350, avg. loss: 0.00139\n",
      "Step #801, epoch #400, avg. loss: 0.00112\n",
      "Step #901, epoch #450, avg. loss: 0.00093\n",
      "Step #1, avg. loss: 1.05046\n",
      "Step #101, epoch #50, avg. loss: 0.11947\n",
      "Step #201, epoch #100, avg. loss: 0.01952\n",
      "Step #301, epoch #150, avg. loss: 0.00742\n",
      "Step #401, epoch #200, avg. loss: 0.00403\n",
      "Step #501, epoch #250, avg. loss: 0.00264\n",
      "Step #601, epoch #300, avg. loss: 0.00190\n",
      "Step #701, epoch #350, avg. loss: 0.00146\n",
      "Step #801, epoch #400, avg. loss: 0.00117\n",
      "Step #901, epoch #450, avg. loss: 0.00097\n",
      "10-fold CV Acc Mean:  0.921645021645 Scores:  [0.95454545454545459, 0.86363636363636365, 0.95454545454545459, 0.95454545454545459, 0.90909090909090906, 0.81818181818181823, 0.95238095238095233, 0.90476190476190477, 0.95238095238095233, 0.95238095238095233]\n",
      "Step #1, avg. loss: 1.03608\n",
      "Step #101, epoch #33, avg. loss: 0.12800\n",
      "Step #201, epoch #67, avg. loss: 0.02296\n",
      "Step #301, epoch #100, avg. loss: 0.00852\n",
      "Step #401, epoch #133, avg. loss: 0.00466\n",
      "Step #501, epoch #167, avg. loss: 0.00288\n",
      "Step #601, epoch #200, avg. loss: 0.00195\n",
      "Step #701, epoch #233, avg. loss: 0.00162\n",
      "Step #801, epoch #267, avg. loss: 0.00129\n",
      "Step #901, epoch #300, avg. loss: 0.00109\n",
      "len(predicted_labels): 38\n",
      "predicted labels: [1 0 0 0 0 0 0 0 0 0 0 1 0 1 1 1 1 1 0 0 0 1 1 1 1 1 1 1 0 0 0 0 0 0 0 0 0\n",
      " 0]\n"
     ]
    }
   ],
   "source": [
    "# dnn predictions\n",
    "test_data = copy.deepcopy(test_data_copy)\n",
    "test_data = np.array(test_data)\n",
    "print test_data.shape\n",
    "dnn_predictions = classify.predict_dnn(test_data)"
   ]
  },
  {
   "cell_type": "code",
   "execution_count": null,
   "metadata": {
    "collapsed": true
   },
   "outputs": [],
   "source": [
    "[1 0 0 0 0 0 0 0 0 0 0 1 0 1 1 1 1 1 0 0 1 1 1 1 1 1 1 1 0 0 0 0 0 0 0 0 0\n",
    " 0]"
   ]
  }
 ],
 "metadata": {
  "kernelspec": {
   "display_name": "Python 2",
   "language": "python",
   "name": "python2"
  },
  "language_info": {
   "codemirror_mode": {
    "name": "ipython",
    "version": 2
   },
   "file_extension": ".py",
   "mimetype": "text/x-python",
   "name": "python",
   "nbconvert_exporter": "python",
   "pygments_lexer": "ipython2",
   "version": "2.7.11"
  }
 },
 "nbformat": 4,
 "nbformat_minor": 0
}
