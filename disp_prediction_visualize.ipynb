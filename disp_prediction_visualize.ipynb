{
 "cells": [
  {
   "cell_type": "code",
   "execution_count": 1,
   "metadata": {
    "collapsed": false
   },
   "outputs": [
    {
     "name": "stderr",
     "output_type": "stream",
     "text": [
      "/Users/Can/venv/lib/python2.7/site-packages/matplotlib/font_manager.py:273: UserWarning: Matplotlib is building the font cache using fc-list. This may take a moment.\n",
      "  warnings.warn('Matplotlib is building the font cache using fc-list. This may take a moment.')\n"
     ]
    }
   ],
   "source": [
    "%matplotlib inline\n",
    "%config InlineBackend.figure_format = 'retina'\n",
    "import utils\n",
    "import featurizer\n",
    "import matplotlib.pyplot as plt\n",
    "import numpy as np\n",
    "from scipy import signal\n",
    "import classify\n",
    "\n",
    "CALIBRATION_FILE = \"N_matrix_trial9.mat\"\n",
    "TEST_FOLDER = \"test/\"\n",
    "TEST_FILE = TEST_FOLDER + \"/sliding11.txt\""
   ]
  },
  {
   "cell_type": "code",
   "execution_count": 2,
   "metadata": {
    "collapsed": false
   },
   "outputs": [
    {
     "name": "stdout",
     "output_type": "stream",
     "text": [
      "Index([u'time', u'Right Leg Pos', u'Left Leg Pos', u'Commanded Right Leg Pos',\n",
      "       u'Commanded Left Leg Pos', u'DCR', u'DCL', u'GyroX', u'GyroY', u'GyroZ',\n",
      "       u'AX', u'AY', u'AZ', u'RBEMF', u'LBEMF', u'VBatt', u'S1', u'S2', u'S3',\n",
      "       u'S4', u'S5', u'S6', u'S7', u'S8'],\n",
      "      dtype='object')\n",
      "38\n",
      "38\n",
      "(70,)\n"
     ]
    }
   ],
   "source": [
    "#First we need to featurize the experiment.\n",
    "df = utils.process_data_files(TEST_FILE, CALIBRATION_FILE)\n",
    "df_segs = featurizer.segment(df)\n",
    "print len(df_segs)\n",
    "\n",
    "test_data = []\n",
    "for df_seg in df_segs:\n",
    "    test_data.append(featurizer.featurize(df_seg))\n",
    "print len(test_data)\n",
    "print test_data[0].shape"
   ]
  },
  {
   "cell_type": "code",
   "execution_count": 9,
   "metadata": {
    "collapsed": false,
    "scrolled": false
   },
   "outputs": [
    {
     "name": "stdout",
     "output_type": "stream",
     "text": [
      "\n",
      "Running Random Forests...\n",
      "CTL size: 117 ACT size: 99\n",
      "10-fold CV Acc Mean:  0.935476190476 Scores:  [ 0.90909091  1.          0.95454545  0.90909091  0.90909091  0.86363636\n",
      "  0.95454545  0.9047619   1.          0.95      ]\n",
      "OOB score: 0.939814814815\n",
      "Feature Importances:\n",
      "[('Mz_skew', 0.0018672491527214263), ('Fy_kurtosis', 0.0021900783266025751), ('M_mag_std', 0.0022177640499807046), ('AX_mean', 0.002292458316901834), ('F_mag_kurtosis', 0.0023381297798243119), ('Fy_energy', 0.0023901216194434269), ('M_mag_skew', 0.0024308401386606425), ('AX_min', 0.002611321164876659), ('Fz_max', 0.0026687334441054689), ('Mx_skew', 0.002676151592262371), ('F_mag_max', 0.0027050499005588109), ('F_mag_std', 0.0027486282352196367), ('My_entropy', 0.0029154851911394769), ('Fz_skew', 0.0032034837519309433), ('Fx_std', 0.0032063293279841671), ('My_kurtosis', 0.0032246007242081381), ('Mz_energy', 0.0034461561772506388), ('Fx_energy', 0.0034764452445575061), ('Fy_skew', 0.0037073593775767909), ('Fz_kurtosis', 0.0037791440908984675), ('Mz_min', 0.0039320421096468395), ('Mz_std', 0.0039951112572756079), ('My_skew', 0.004050335925803044), ('Fz_entropy', 0.0040548685973302492), ('AX_std', 0.004401217131738161), ('Fx_skew', 0.0045266241644166174), ('M_mag_kurtosis', 0.0045744255871733161), ('F_mag_skew', 0.0046360429511616104), ('Mz_max', 0.0047776284040139559), ('AX_kurtosis', 0.0049746417744989876), ('My_mean', 0.0050818060340645588), ('Fy_min', 0.0051479963083361701), ('Mz_kurtosis', 0.0055394085314100019), ('Mx_kurtosis', 0.0055623707623706099), ('M_mag_max', 0.0058841158477330492), ('Fy_mean', 0.0060622038897710463), ('Fy_entropy', 0.0070242970425799947), ('Fx_min', 0.0075378798847332814), ('Fx_kurtosis', 0.0075389020191227885), ('Fx_entropy', 0.008049888698956285), ('Fy_max', 0.0081441454523747958), ('Fy_std', 0.0082091512865392329), ('Mz_entropy', 0.0090646043269670025), ('F_mag_energy', 0.0090664139195162745), ('Mx_max', 0.010078198468954379), ('Mx_std', 0.010608698037961529), ('M_mag_entropy', 0.010777956450800258), ('Fx_max', 0.010886912799145079), ('My_max', 0.01110329437497498), ('Mx_entropy', 0.011936522878706312), ('M_mag_min', 0.012647181185935535), ('M_mag_energy', 0.012929169732837406), ('F_mag_entropy', 0.016365840931793364), ('My_energy', 0.018337508502137244), ('F_mag_min', 0.018566520154594229), ('F_mag_mean', 0.020182614345335324), ('Fz_mean', 0.020492211173137521), ('Mz_mean', 0.021786346026589305), ('M_mag_mean', 0.022939249125537128), ('Fz_energy', 0.027205116249646007), ('Fz_min', 0.028271160392197854), ('Fz_std', 0.029914138153831028), ('AX_max', 0.032021414620447955), ('My_std', 0.0348185921816066), ('My_min', 0.047980048845043609), ('Mx_mean', 0.052820404882415878), ('Fx_mean', 0.067189465710581514), ('AX_skew', 0.074207831379952807), ('Mx_energy', 0.086761346448388371), ('Mx_min', 0.091240605433211233)]\n",
      "len(predicted_labels): 38\n",
      "predicted labels: [1 0 0 0 1 1 1 1 1 0 1 0 1 1 1 1 1 1 1 1 1 1 1 1 1 1 1 1 0 0 0 1 0 0 1 0 0\n",
      " 0]\n"
     ]
    }
   ],
   "source": [
    "#Random Forest Prediction\n",
    "\n",
    "random_forest_predictions = classify.predict_random_forests(test_data)\n"
   ]
  },
  {
   "cell_type": "code",
   "execution_count": 7,
   "metadata": {
    "collapsed": false
   },
   "outputs": [
    {
     "name": "stdout",
     "output_type": "stream",
     "text": [
      "\n",
      "Running XGB Trees...\n",
      "CTL size: 117 ACT size: 99\n",
      "10-fold CV Acc Mean:  0.934805194805 Scores:  [ 0.95454545  0.86363636  0.90909091  0.95454545  0.90909091  1.          1.\n",
      "  0.95238095  0.9047619   0.9       ]\n",
      "Feature Importances:\n",
      "[('Mz_skew', 0.00050819544177272899), ('Mx_skew', 0.00054760524810346849), ('AX_min', 0.00057041906778709957), ('Fz_max', 0.00059649183711554213), ('Fz_skew', 0.00071694280118968418), ('Fy_kurtosis', 0.0008241512232808726), ('Fy_energy', 0.0013632687122387269), ('Fx_energy', 0.0023003919012869857), ('Fz_entropy', 0.0031266746527040578), ('Fy_std', 0.0034627323260885009), ('Mz_energy', 0.003806163406301956), ('My_entropy', 0.0039370399190784772), ('Fy_max', 0.0042944675712108917), ('Fx_std', 0.0044617835180749193), ('Fz_kurtosis', 0.005020464981252558), ('My_mean', 0.0051462141644236558), ('F_mag_kurtosis', 0.0053647963572625154), ('M_mag_std', 0.0056490690169042016), ('AX_mean', 0.0059100266436203971), ('My_kurtosis', 0.0059738491567607266), ('My_skew', 0.0065288822526788108), ('AX_std', 0.0069217682804873547), ('F_mag_std', 0.0072796197875037725), ('Mx_max', 0.0077090334235653743), ('Fx_max', 0.0077436550826771146), ('M_mag_entropy', 0.0078153218113655165), ('M_mag_skew', 0.0081505482680378789), ('Fz_energy', 0.0086156612860948494), ('Mz_kurtosis', 0.0087091253431320903), ('Mz_max', 0.0089535544017635225), ('M_mag_max', 0.0090780475931282103), ('F_mag_skew', 0.0093155334799010104), ('Fy_min', 0.0096295463453975258), ('Mx_std', 0.010037520131016435), ('F_mag_mean', 0.010375124408717891), ('Fx_kurtosis', 0.01057547638457855), ('Mx_kurtosis', 0.010776556011127788), ('M_mag_kurtosis', 0.010808142916474393), ('Mz_min', 0.012843884483916868), ('Mz_std', 0.012991758170692369), ('F_mag_max', 0.013551120851104312), ('Mz_entropy', 0.013770810235079499), ('AX_max', 0.013873275095941827), ('AX_kurtosis', 0.014176927373545777), ('Fx_skew', 0.014397711937955238), ('Fy_mean', 0.014754441092549104), ('F_mag_energy', 0.015029166764435114), ('F_mag_entropy', 0.015056433641638865), ('Fx_min', 0.015631834172569151), ('Mx_min', 0.015785753941412205), ('Fz_std', 0.016245759789152488), ('My_energy', 0.017055637109128649), ('M_mag_energy', 0.017094782706558669), ('M_mag_mean', 0.017172462284811809), ('Mx_mean', 0.018066239386012407), ('Fz_min', 0.01809132971759958), ('My_max', 0.01817465554849371), ('F_mag_min', 0.021110808995272831), ('Fz_mean', 0.021242075554121071), ('Mz_mean', 0.021255916441865651), ('M_mag_min', 0.022194014429196603), ('Fx_mean', 0.023645118326655837), ('Mx_energy', 0.024078581258519995), ('Fy_skew', 0.026936740243332546), ('My_std', 0.028576233250626623), ('Fx_entropy', 0.029905293304634154), ('Mx_entropy', 0.03055964671860734), ('AX_skew', 0.042759739031963034), ('Fy_entropy', 0.057539013707164938), ('My_min', 0.068828969281335667)]\n",
      "len(predicted_labels): 38\n",
      "predicted labels: [1 1 1 1 1 1 1 1 1 1 1 1 1 1 1 1 1 1 1 1 0 0 0 0 0 0 1 1 1 1 1 1 1 1 1 1 1\n",
      " 1]\n"
     ]
    }
   ],
   "source": [
    "# XGB Predictions\n",
    "\n",
    "xgb_predictions = classify.predict_xgb_trees(test_data)"
   ]
  },
  {
   "cell_type": "code",
   "execution_count": 5,
   "metadata": {
    "collapsed": false
   },
   "outputs": [
    {
     "name": "stdout",
     "output_type": "stream",
     "text": [
      "\n",
      "Running SVC...\n",
      "CTL size: 117 ACT size: 99\n",
      "10-fold CV Acc Mean:  0.939805194805 Scores:  [ 1.          0.90909091  1.          0.95454545  0.90909091  0.95454545\n",
      "  0.86363636  0.95238095  0.9047619   0.95      ]\n",
      "predicted labels: [0 0 0 0 0 0 0 0 0 0 0 0 0 0 0 0 0 0 0 0 0 0 0 0 0 0 0 0 0 0 0 0 0 0 0 0 0\n",
      " 0]\n"
     ]
    }
   ],
   "source": [
    "# SVC Predictions\n",
    "\n",
    "svc_predictions = classify.predict_svc(test_data)\n"
   ]
  },
  {
   "cell_type": "code",
   "execution_count": 12,
   "metadata": {
    "collapsed": false,
    "scrolled": false
   },
   "outputs": [
    {
     "name": "stdout",
     "output_type": "stream",
     "text": [
      "(38, 70)\n",
      "\n",
      "Running Neural Network...\n",
      "CTL size: 117 ACT size: 99\n",
      "Step #1, avg. loss: 0.97720\n",
      "Step #101, epoch #50, avg. loss: 0.11603\n",
      "Step #201, epoch #100, avg. loss: 0.01916\n",
      "Step #301, epoch #150, avg. loss: 0.00727\n",
      "Step #401, epoch #200, avg. loss: 0.00390\n",
      "Step #501, epoch #250, avg. loss: 0.00251\n",
      "Step #601, epoch #300, avg. loss: 0.00180\n",
      "Step #701, epoch #350, avg. loss: 0.00139\n",
      "Step #801, epoch #400, avg. loss: 0.00111\n",
      "Step #901, epoch #450, avg. loss: 0.00092\n",
      "Step #1, avg. loss: 1.01780\n",
      "Step #101, epoch #50, avg. loss: 0.11223\n",
      "Step #201, epoch #100, avg. loss: 0.01745\n",
      "Step #301, epoch #150, avg. loss: 0.00675\n",
      "Step #401, epoch #200, avg. loss: 0.00371\n",
      "Step #501, epoch #250, avg. loss: 0.00242\n",
      "Step #601, epoch #300, avg. loss: 0.00176\n",
      "Step #701, epoch #350, avg. loss: 0.00135\n",
      "Step #801, epoch #400, avg. loss: 0.00108\n",
      "Step #901, epoch #450, avg. loss: 0.00090\n",
      "Step #1, avg. loss: 1.01889\n",
      "Step #101, epoch #50, avg. loss: 0.11934\n",
      "Step #201, epoch #100, avg. loss: 0.01798\n",
      "Step #301, epoch #150, avg. loss: 0.00709\n",
      "Step #401, epoch #200, avg. loss: 0.00389\n",
      "Step #501, epoch #250, avg. loss: 0.00255\n",
      "Step #601, epoch #300, avg. loss: 0.00185\n",
      "Step #701, epoch #350, avg. loss: 0.00143\n",
      "Step #801, epoch #400, avg. loss: 0.00115\n",
      "Step #901, epoch #450, avg. loss: 0.00095\n",
      "Step #1, avg. loss: 1.03271\n",
      "Step #101, epoch #50, avg. loss: 0.11975\n",
      "Step #201, epoch #100, avg. loss: 0.02074\n",
      "Step #301, epoch #150, avg. loss: 0.00769\n",
      "Step #401, epoch #200, avg. loss: 0.00415\n",
      "Step #501, epoch #250, avg. loss: 0.00268\n",
      "Step #601, epoch #300, avg. loss: 0.00195\n",
      "Step #701, epoch #350, avg. loss: 0.00148\n",
      "Step #801, epoch #400, avg. loss: 0.00119\n",
      "Step #901, epoch #450, avg. loss: 0.00099\n",
      "Step #1, avg. loss: 0.95162\n",
      "Step #101, epoch #50, avg. loss: 0.12557\n",
      "Step #201, epoch #100, avg. loss: 0.02040\n",
      "Step #301, epoch #150, avg. loss: 0.00765\n",
      "Step #401, epoch #200, avg. loss: 0.00417\n",
      "Step #501, epoch #250, avg. loss: 0.00270\n",
      "Step #601, epoch #300, avg. loss: 0.00196\n",
      "Step #701, epoch #350, avg. loss: 0.00151\n",
      "Step #801, epoch #400, avg. loss: 0.00121\n",
      "Step #901, epoch #450, avg. loss: 0.00100\n",
      "Step #1, avg. loss: 1.07707\n",
      "Step #101, epoch #50, avg. loss: 0.11485\n",
      "Step #201, epoch #100, avg. loss: 0.01945\n",
      "Step #301, epoch #150, avg. loss: 0.00758\n",
      "Step #401, epoch #200, avg. loss: 0.00421\n",
      "Step #501, epoch #250, avg. loss: 0.00275\n",
      "Step #601, epoch #300, avg. loss: 0.00200\n",
      "Step #701, epoch #350, avg. loss: 0.00153\n",
      "Step #801, epoch #400, avg. loss: 0.00122\n",
      "Step #901, epoch #450, avg. loss: 0.00102\n",
      "Step #1, avg. loss: 0.99990\n",
      "Step #101, epoch #50, avg. loss: 0.12048\n",
      "Step #201, epoch #100, avg. loss: 0.02018\n",
      "Step #301, epoch #150, avg. loss: 0.00759\n",
      "Step #401, epoch #200, avg. loss: 0.00411\n",
      "Step #501, epoch #250, avg. loss: 0.00267\n",
      "Step #601, epoch #300, avg. loss: 0.00192\n",
      "Step #701, epoch #350, avg. loss: 0.00147\n",
      "Step #801, epoch #400, avg. loss: 0.00118\n",
      "Step #901, epoch #450, avg. loss: 0.00097\n",
      "Step #1, avg. loss: 1.03600\n",
      "Step #101, epoch #50, avg. loss: 0.12597\n",
      "Step #201, epoch #100, avg. loss: 0.02067\n",
      "Step #301, epoch #150, avg. loss: 0.00770\n",
      "Step #401, epoch #200, avg. loss: 0.00421\n",
      "Step #501, epoch #250, avg. loss: 0.00276\n",
      "Step #601, epoch #300, avg. loss: 0.00198\n",
      "Step #701, epoch #350, avg. loss: 0.00152\n",
      "Step #801, epoch #400, avg. loss: 0.00121\n",
      "Step #901, epoch #450, avg. loss: 0.00101\n",
      "Step #1, avg. loss: 1.01305\n",
      "Step #101, epoch #50, avg. loss: 0.12462\n",
      "Step #201, epoch #100, avg. loss: 0.01873\n",
      "Step #301, epoch #150, avg. loss: 0.00673\n",
      "Step #401, epoch #200, avg. loss: 0.00363\n",
      "Step #501, epoch #250, avg. loss: 0.00236\n",
      "Step #601, epoch #300, avg. loss: 0.00170\n",
      "Step #701, epoch #350, avg. loss: 0.00130\n",
      "Step #801, epoch #400, avg. loss: 0.00105\n",
      "Step #901, epoch #450, avg. loss: 0.00087\n",
      "Step #1, avg. loss: 1.01806\n",
      "Step #101, epoch #50, avg. loss: 0.11701\n",
      "Step #201, epoch #100, avg. loss: 0.01809\n",
      "Step #301, epoch #150, avg. loss: 0.00667\n",
      "Step #401, epoch #200, avg. loss: 0.00366\n",
      "Step #501, epoch #250, avg. loss: 0.00238\n",
      "Step #601, epoch #300, avg. loss: 0.00173\n",
      "Step #701, epoch #350, avg. loss: 0.00133\n",
      "Step #801, epoch #400, avg. loss: 0.00108\n",
      "Step #901, epoch #450, avg. loss: 0.00089\n",
      "10-fold CV Acc Mean:  0.930735930736 Scores:  [0.90909090909090906, 0.90909090909090906, 0.95454545454545459, 0.90909090909090906, 0.95454545454545459, 0.90909090909090906, 0.95238095238095233, 1.0, 0.95238095238095233, 0.8571428571428571]\n",
      "len(predicted_labels): 38\n",
      "predicted labels: [1 0 0 0 0 0 0 0 0 0 0 1 0 1 1 1 1 1 0 0 0 1 1 1 1 1 1 1 0 0 0 0 0 0 0 0 0\n",
      " 0]\n"
     ]
    }
   ],
   "source": [
    "# dnn predictions\n",
    "test_data = np.array(test_data)\n",
    "print test_data.shape\n",
    "dnn_predictions = classify.predict_dnn(test_data)"
   ]
  },
  {
   "cell_type": "code",
   "execution_count": null,
   "metadata": {
    "collapsed": true
   },
   "outputs": [],
   "source": [
    "[1 1 1 0 0 0 0 0 1 0 1 1 1 1 1 1 1 1 0 1 1 1 1 1 1 1 1 1 0 0 0 0 0 0 0 0 0\n",
    " 0]\n",
    "\n",
    "\n",
    "[1 0 0 0 0 0 0 0 0 0 0 1 0 1 0 1 1 1 0 0 0 1 1 1 1 1 1 1 0 0 0 0 0 0 0 0 0\n",
    " 0]\n",
    "\n",
    "[0 0 0 0 0 0 0 0 0 0 0 0 0 0 0 0 0 0 0 0 0 0 1 1 1 1 0 0 0 0 0 0 0 0 0 0 0\n",
    " 0]\n",
    "\n",
    "[1 0 0 0 0 0 0 0 0 0 0 1 0 1 1 1 1 1 0 0 0 1 1 1 1 1 1 1 0 0 0 0 0 0 0 0 0\n",
    " 0]"
   ]
  }
 ],
 "metadata": {
  "kernelspec": {
   "display_name": "Python 2",
   "language": "python",
   "name": "python2"
  },
  "language_info": {
   "codemirror_mode": {
    "name": "ipython",
    "version": 2
   },
   "file_extension": ".py",
   "mimetype": "text/x-python",
   "name": "python",
   "nbconvert_exporter": "python",
   "pygments_lexer": "ipython2",
   "version": "2.7.11"
  }
 },
 "nbformat": 4,
 "nbformat_minor": 0
}
