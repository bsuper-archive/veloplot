{
 "cells": [
  {
   "cell_type": "code",
   "execution_count": 1,
   "metadata": {
    "collapsed": true
   },
   "outputs": [],
   "source": [
    "import classify"
   ]
  },
  {
   "cell_type": "code",
   "execution_count": 2,
   "metadata": {
    "collapsed": false
   },
   "outputs": [
    {
     "name": "stdout",
     "output_type": "stream",
     "text": [
      "\n",
      "Running Random Forests...\n",
      "CTL size: 117 ACT size: 99\n",
      "5-fold CV Acc Mean:  0.929668780832 Scores:  [ 0.97727273  0.97727273  0.95348837  0.90697674  0.83333333]\n",
      "OOB score: 0.935185185185\n",
      "Feature Importances:\n",
      "[('Mz_skew', 0.00099543680799734019), ('F_mag_kurtosis', 0.0012369850591098075), ('Fy_energy', 0.0015154854162148146), ('AX_std', 0.0019500926129259295), ('Fz_kurtosis', 0.0021922267162481973), ('Mx_skew', 0.0023339150356133289), ('Mz_min', 0.0023464109831469043), ('AX_mean', 0.002584387253124818), ('F_mag_max', 0.002665517416494431), ('M_mag_std', 0.002683085630168322), ('AX_min', 0.002887527557920177), ('Mz_std', 0.0028978295433645385), ('Fz_entropy', 0.0030407893339139246), ('Fz_max', 0.0030832248305474245), ('Fx_energy', 0.0031597992824142908), ('My_skew', 0.0034147509655397361), ('My_entropy', 0.0034800165394404214), ('Fx_skew', 0.0035308970261202157), ('Fx_kurtosis', 0.0035372466520229369), ('Fz_skew', 0.00357926507487899), ('Fy_skew', 0.0036915933740765254), ('Fx_std', 0.003708891231467597), ('Fy_mean', 0.0037876275077487658), ('M_mag_skew', 0.0039500070735321215), ('Mz_kurtosis', 0.0040301972689494887), ('M_mag_kurtosis', 0.0040506090467212373), ('F_mag_std', 0.0041416972823048138), ('Fx_max', 0.0041755994200878919), ('Fy_kurtosis', 0.0042834630847438668), ('My_mean', 0.0043422322103619264), ('My_kurtosis', 0.0047167831971354655), ('F_mag_skew', 0.0054312259133436078), ('Mx_kurtosis', 0.005828654600209102), ('Fy_min', 0.0059278993537024314), ('Fy_max', 0.0059313670643230312), ('M_mag_max', 0.0062240669786576743), ('AX_kurtosis', 0.0079361570929608102), ('Mz_entropy', 0.0080178740910712958), ('Mz_energy', 0.0081256406785991855), ('Fy_entropy', 0.0085784929410725099), ('Fx_entropy', 0.0088051635594933505), ('M_mag_mean', 0.0091179819378104168), ('F_mag_energy', 0.0092686719087932759), ('Mx_max', 0.010506288151850316), ('Fx_min', 0.010978693793007335), ('My_max', 0.011107339018077448), ('Mx_entropy', 0.011611918625617912), ('Mx_std', 0.012678299946174074), ('M_mag_entropy', 0.013569334976737577), ('F_mag_mean', 0.014885543596388497), ('M_mag_energy', 0.015507783286653349), ('Fy_std', 0.017141397742750461), ('My_energy', 0.017213851964433858), ('Mz_mean', 0.017472691693838412), ('F_mag_entropy', 0.017766415468086137), ('Fz_mean', 0.018014312309660597), ('Mz_max', 0.018695420943474907), ('F_mag_min', 0.020541133153117563), ('AX_max', 0.020575772098527872), ('Fz_min', 0.023212244199797217), ('M_mag_min', 0.026599375677933419), ('My_std', 0.027996545395118502), ('Fz_energy', 0.031642563981226182), ('Fz_std', 0.040468369688484537), ('My_min', 0.04125453798039188), ('Mx_mean', 0.050605632503007723), ('Fx_mean', 0.061404689561501129), ('AX_skew', 0.068782721111903339), ('Mx_energy', 0.08593246040531359), ('Mx_min', 0.10664787617255325)]\n"
     ]
    }
   ],
   "source": [
    "classify.do_random_forests()"
   ]
  },
  {
   "cell_type": "code",
   "execution_count": 3,
   "metadata": {
    "collapsed": false
   },
   "outputs": [
    {
     "name": "stdout",
     "output_type": "stream",
     "text": [
      "\n",
      "Running XGB Trees...\n",
      "CTL size: 117 ACT size: 99\n",
      "5-fold CV Acc Mean:  0.930962448404 Scores:  [ 0.84090909  0.95454545  0.93023256  0.97674419  0.95238095]\n",
      "Feature Importances:\n",
      "[('Fz_skew', 0.00046391507654871948), ('Mx_skew', 0.00064637043248056292), ('Mz_energy', 0.00096506002195275191), ('Mz_skew', 0.0018694356653229133), ('F_mag_kurtosis', 0.0018832251544580545), ('Fx_energy', 0.0020427958656966693), ('Fx_std', 0.0023820362715121805), ('Fy_kurtosis', 0.0027896579766952547), ('Mz_std', 0.0028336241945632785), ('AX_std', 0.0030335324677481647), ('Fz_kurtosis', 0.0030985577548666631), ('My_skew', 0.0031081337564376238), ('Fy_energy', 0.0035656278919010609), ('My_entropy', 0.0039118452009980235), ('AX_mean', 0.0042436672854210006), ('M_mag_mean', 0.0045494612403197835), ('M_mag_skew', 0.0047479925342163555), ('Fz_max', 0.0049192473057160027), ('F_mag_skew', 0.0049199750393960672), ('M_mag_kurtosis', 0.0056759675412129847), ('AX_min', 0.0057608770027048209), ('Mx_std', 0.0062945566731626079), ('Mz_kurtosis', 0.0064385494821643519), ('F_mag_std', 0.0064566265669809639), ('Fz_entropy', 0.0065265505621660688), ('Mz_max', 0.0067648989312560628), ('Fy_std', 0.0068415430107642734), ('Fy_max', 0.0068489589880161806), ('M_mag_std', 0.0073109630530514245), ('F_mag_mean', 0.0076587714931222409), ('F_mag_energy', 0.0082361687513023349), ('Mz_min', 0.0093916389575226522), ('My_mean', 0.0094205446312962265), ('F_mag_max', 0.0094323219400775649), ('F_mag_entropy', 0.00946997498312163), ('Fz_energy', 0.0098037522774463773), ('Fx_max', 0.0099268471627020106), ('Fy_min', 0.010018755974484143), ('Mx_kurtosis', 0.010543771395203112), ('Mx_max', 0.012137683879776958), ('Fz_std', 0.012338085446730604), ('M_mag_entropy', 0.012919336290527071), ('Fy_mean', 0.012944146427236604), ('Mz_entropy', 0.013218258471909161), ('Fx_kurtosis', 0.014979987754645532), ('M_mag_max', 0.015382821435909456), ('Fz_min', 0.015651723797197939), ('AX_kurtosis', 0.016114718835665946), ('My_kurtosis', 0.016691188614768045), ('M_mag_energy', 0.018053577574384916), ('My_energy', 0.018484802828897182), ('Fx_min', 0.018600523963625933), ('F_mag_min', 0.018610147117547833), ('Mx_mean', 0.019230123767609585), ('M_mag_min', 0.020316140445339997), ('My_max', 0.020776850241499709), ('Fx_skew', 0.020887595983274117), ('Fy_skew', 0.02162632046146756), ('Mz_mean', 0.023149400089339744), ('Mx_min', 0.023673016248356028), ('AX_max', 0.023685558747349646), ('Fz_mean', 0.026720036455674133), ('Fx_mean', 0.028508142158945319), ('Mx_energy', 0.028576061154460052), ('Fx_entropy', 0.030559234634791457), ('Mx_entropy', 0.03079487321485249), ('My_std', 0.032228559099199167), ('AX_skew', 0.040291583319166664), ('Fy_entropy', 0.054841149798517008), ('My_min', 0.063212151227324972)]\n"
     ]
    }
   ],
   "source": [
    "classify.do_xgb_trees()"
   ]
  },
  {
   "cell_type": "code",
   "execution_count": 4,
   "metadata": {
    "collapsed": false
   },
   "outputs": [
    {
     "name": "stdout",
     "output_type": "stream",
     "text": [
      "\n",
      "Running SVC...\n",
      "CTL size: 117 ACT size: 99\n",
      "10-fold CV Acc Mean:  0.943874458874 Scores:  [ 0.90909091  1.          0.95454545  0.95454545  1.          0.90909091\n",
      "  0.90909091  1.          0.95238095  0.85      ]\n"
     ]
    }
   ],
   "source": [
    "classify.do_svc()"
   ]
  },
  {
   "cell_type": "code",
   "execution_count": 5,
   "metadata": {
    "collapsed": false
   },
   "outputs": [
    {
     "name": "stdout",
     "output_type": "stream",
     "text": [
      "\n",
      "Running Neural Network...\n",
      "CTL size: 117 ACT size: 99\n",
      "Step #1, avg. loss: 1.02915\n",
      "Step #101, epoch #50, avg. loss: 0.10912\n",
      "Step #201, epoch #100, avg. loss: 0.01724\n",
      "Step #301, epoch #150, avg. loss: 0.00666\n",
      "Step #401, epoch #200, avg. loss: 0.00372\n",
      "Step #501, epoch #250, avg. loss: 0.00244\n",
      "Step #601, epoch #300, avg. loss: 0.00178\n",
      "Step #701, epoch #350, avg. loss: 0.00137\n",
      "Step #801, epoch #400, avg. loss: 0.00111\n",
      "Step #901, epoch #450, avg. loss: 0.00092\n",
      "Step #1, avg. loss: 1.03047\n",
      "Step #101, epoch #50, avg. loss: 0.11946\n",
      "Step #201, epoch #100, avg. loss: 0.02118\n",
      "Step #301, epoch #150, avg. loss: 0.00799\n",
      "Step #401, epoch #200, avg. loss: 0.00434\n",
      "Step #501, epoch #250, avg. loss: 0.00284\n",
      "Step #601, epoch #300, avg. loss: 0.00205\n",
      "Step #701, epoch #350, avg. loss: 0.00159\n",
      "Step #801, epoch #400, avg. loss: 0.00126\n",
      "Step #901, epoch #450, avg. loss: 0.00104\n",
      "Step #1, avg. loss: 0.98165\n",
      "Step #101, epoch #50, avg. loss: 0.11630\n",
      "Step #201, epoch #100, avg. loss: 0.01785\n",
      "Step #301, epoch #150, avg. loss: 0.00660\n",
      "Step #401, epoch #200, avg. loss: 0.00358\n",
      "Step #501, epoch #250, avg. loss: 0.00232\n",
      "Step #601, epoch #300, avg. loss: 0.00167\n",
      "Step #701, epoch #350, avg. loss: 0.00128\n",
      "Step #801, epoch #400, avg. loss: 0.00103\n",
      "Step #901, epoch #450, avg. loss: 0.00085\n",
      "Step #1, avg. loss: 1.00666\n",
      "Step #101, epoch #50, avg. loss: 0.12176\n",
      "Step #201, epoch #100, avg. loss: 0.01974\n",
      "Step #301, epoch #150, avg. loss: 0.00730\n",
      "Step #401, epoch #200, avg. loss: 0.00392\n",
      "Step #501, epoch #250, avg. loss: 0.00252\n",
      "Step #601, epoch #300, avg. loss: 0.00181\n",
      "Step #701, epoch #350, avg. loss: 0.00140\n",
      "Step #801, epoch #400, avg. loss: 0.00110\n",
      "Step #901, epoch #450, avg. loss: 0.00092\n",
      "Step #1, avg. loss: 1.03227\n",
      "Step #101, epoch #50, avg. loss: 0.11961\n",
      "Step #201, epoch #100, avg. loss: 0.01806\n",
      "Step #301, epoch #150, avg. loss: 0.00699\n",
      "Step #401, epoch #200, avg. loss: 0.00387\n",
      "Step #501, epoch #250, avg. loss: 0.00256\n",
      "Step #601, epoch #300, avg. loss: 0.00186\n",
      "Step #701, epoch #350, avg. loss: 0.00144\n",
      "Step #801, epoch #400, avg. loss: 0.00117\n",
      "Step #901, epoch #450, avg. loss: 0.00096\n",
      "Step #1, avg. loss: 1.00270\n",
      "Step #101, epoch #50, avg. loss: 0.12785\n",
      "Step #201, epoch #100, avg. loss: 0.02051\n",
      "Step #301, epoch #150, avg. loss: 0.00765\n",
      "Step #401, epoch #200, avg. loss: 0.00416\n",
      "Step #501, epoch #250, avg. loss: 0.00268\n",
      "Step #601, epoch #300, avg. loss: 0.00194\n",
      "Step #701, epoch #350, avg. loss: 0.00149\n",
      "Step #801, epoch #400, avg. loss: 0.00119\n",
      "Step #901, epoch #450, avg. loss: 0.00098\n",
      "Step #1, avg. loss: 1.04530\n",
      "Step #101, epoch #50, avg. loss: 0.12434\n",
      "Step #201, epoch #100, avg. loss: 0.02105\n",
      "Step #301, epoch #150, avg. loss: 0.00801\n",
      "Step #401, epoch #200, avg. loss: 0.00433\n",
      "Step #501, epoch #250, avg. loss: 0.00282\n",
      "Step #601, epoch #300, avg. loss: 0.00202\n",
      "Step #701, epoch #350, avg. loss: 0.00155\n",
      "Step #801, epoch #400, avg. loss: 0.00124\n",
      "Step #901, epoch #450, avg. loss: 0.00103\n",
      "Step #1, avg. loss: 0.92771\n",
      "Step #101, epoch #50, avg. loss: 0.11891\n",
      "Step #201, epoch #100, avg. loss: 0.01845\n",
      "Step #301, epoch #150, avg. loss: 0.00704\n",
      "Step #401, epoch #200, avg. loss: 0.00382\n",
      "Step #501, epoch #250, avg. loss: 0.00251\n",
      "Step #601, epoch #300, avg. loss: 0.00181\n",
      "Step #701, epoch #350, avg. loss: 0.00139\n",
      "Step #801, epoch #400, avg. loss: 0.00112\n",
      "Step #901, epoch #450, avg. loss: 0.00093\n",
      "Step #1, avg. loss: 0.98407\n",
      "Step #101, epoch #50, avg. loss: 0.11670\n",
      "Step #201, epoch #100, avg. loss: 0.01740\n",
      "Step #301, epoch #150, avg. loss: 0.00648\n",
      "Step #401, epoch #200, avg. loss: 0.00360\n",
      "Step #501, epoch #250, avg. loss: 0.00237\n",
      "Step #601, epoch #300, avg. loss: 0.00171\n",
      "Step #701, epoch #350, avg. loss: 0.00133\n",
      "Step #801, epoch #400, avg. loss: 0.00107\n",
      "Step #901, epoch #450, avg. loss: 0.00089\n",
      "Step #1, avg. loss: 1.00146\n",
      "Step #101, epoch #50, avg. loss: 0.12489\n",
      "Step #201, epoch #100, avg. loss: 0.02024\n",
      "Step #301, epoch #150, avg. loss: 0.00768\n",
      "Step #401, epoch #200, avg. loss: 0.00416\n",
      "Step #501, epoch #250, avg. loss: 0.00273\n",
      "Step #601, epoch #300, avg. loss: 0.00195\n",
      "Step #701, epoch #350, avg. loss: 0.00150\n",
      "Step #801, epoch #400, avg. loss: 0.00120\n",
      "Step #901, epoch #450, avg. loss: 0.00100\n",
      "10-fold CV Acc Mean:  0.921861471861 Scores:  [0.90909090909090906, 0.90909090909090906, 0.86363636363636365, 0.90909090909090906, 0.90909090909090906, 0.90909090909090906, 1.0, 0.95238095238095233, 0.90476190476190477, 0.95238095238095233]\n"
     ]
    }
   ],
   "source": [
    "classify.do_dnn()"
   ]
  },
  {
   "cell_type": "code",
   "execution_count": null,
   "metadata": {
    "collapsed": true
   },
   "outputs": [],
   "source": []
  }
 ],
 "metadata": {
  "kernelspec": {
   "display_name": "Python 2",
   "language": "python",
   "name": "python2"
  },
  "language_info": {
   "codemirror_mode": {
    "name": "ipython",
    "version": 2
   },
   "file_extension": ".py",
   "mimetype": "text/x-python",
   "name": "python",
   "nbconvert_exporter": "python",
   "pygments_lexer": "ipython2",
   "version": "2.7.11"
  }
 },
 "nbformat": 4,
 "nbformat_minor": 0
}
