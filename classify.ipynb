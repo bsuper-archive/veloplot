{
 "cells": [
  {
   "cell_type": "code",
   "execution_count": 6,
   "metadata": {
    "collapsed": true
   },
   "outputs": [],
   "source": [
    "import classify"
   ]
  },
  {
   "cell_type": "code",
   "execution_count": 7,
   "metadata": {
    "collapsed": false
   },
   "outputs": [
    {
     "name": "stdout",
     "output_type": "stream",
     "text": [
      "\n",
      "Running Random Forests...\n",
      "CTL size: 117 ACT size: 99\n",
      "5-fold CV Acc Mean:  0.930428873452 Scores:  [ 0.95454545  0.93181818  0.93023256  0.90697674  0.92857143]\n",
      "OOB score: 0.939814814815\n",
      "Feature Importances:\n",
      "[('AX_std', 0.00089714563521583167), ('Mz_skew', 0.0013919208938392852), ('Fz_entropy', 0.0014520441957682005), ('F_mag_kurtosis', 0.0016098581325720443), ('Mx_skew', 0.0016996924927349011), ('Fy_kurtosis', 0.001896864930631373), ('Fy_energy', 0.0020033727348221135), ('Mz_min', 0.0020577688269685286), ('Fz_max', 0.002236280955029184), ('Fx_std', 0.002364135089255918), ('AX_mean', 0.0023660873407375109), ('My_entropy', 0.0023894117280192383), ('Mz_std', 0.0027346424750920727), ('Fz_kurtosis', 0.0028972246857920025), ('Fz_skew', 0.0029412003863093028), ('AX_min', 0.0030347499110351638), ('Fy_mean', 0.0030712672017646349), ('My_skew', 0.0031294266519753073), ('Fx_energy', 0.0034554313690587611), ('F_mag_skew', 0.00358751885944997), ('F_mag_max', 0.0037879117343739381), ('M_mag_kurtosis', 0.0037986176381700691), ('Fy_skew', 0.0038666358590051723), ('My_kurtosis', 0.0038994291450456615), ('M_mag_std', 0.0041889001907957722), ('F_mag_std', 0.0042406994375017446), ('My_mean', 0.0044851012751242923), ('M_mag_skew', 0.0045738804127998687), ('F_mag_energy', 0.0049299227616885098), ('Fx_kurtosis', 0.0049552657668953644), ('M_mag_entropy', 0.0050835894389341593), ('AX_kurtosis', 0.0053765787796381916), ('M_mag_max', 0.0056442015841970828), ('Fx_skew', 0.005681013689294071), ('Mz_kurtosis', 0.005716025520445425), ('Mx_kurtosis', 0.0058377109907809845), ('Mx_max', 0.0059390766746058969), ('Mz_entropy', 0.006596879653493439), ('Mx_std', 0.0069542532380575672), ('Fy_min', 0.0073500824599495619), ('Fy_entropy', 0.0082314508379526165), ('Mz_max', 0.0086195919588616214), ('Fx_min', 0.0095380010987304847), ('Fy_max', 0.0096189068885355663), ('Fx_max', 0.0096477625897173919), ('Fx_entropy', 0.0096625397969689903), ('F_mag_entropy', 0.010816690303035791), ('My_energy', 0.011372892605886182), ('Mz_mean', 0.012038729766181849), ('Fy_std', 0.013511008951427475), ('My_max', 0.01459062688139489), ('Mz_energy', 0.015233446439257024), ('M_mag_energy', 0.015614280955995673), ('Fz_mean', 0.015849446801826709), ('F_mag_mean', 0.01758331488501013), ('Mx_entropy', 0.017839215772626038), ('Fz_std', 0.019906954742230344), ('M_mag_mean', 0.022329795902272818), ('My_std', 0.025366723763472498), ('Fz_energy', 0.027775978017507752), ('M_mag_min', 0.033241845868413181), ('Fz_min', 0.034289438529156897), ('AX_max', 0.038410998999661938), ('F_mag_min', 0.039502566825145899), ('Fx_mean', 0.04030009827903399), ('Mx_mean', 0.05215141489488425), ('Mx_min', 0.064841665892775902), ('My_min', 0.069480440536044019), ('AX_skew', 0.075208534654434667), ('Mx_energy', 0.10730381581468931)]\n"
     ]
    }
   ],
   "source": [
    "classify.do_random_forests()"
   ]
  },
  {
   "cell_type": "code",
   "execution_count": 8,
   "metadata": {
    "collapsed": false
   },
   "outputs": [
    {
     "name": "stdout",
     "output_type": "stream",
     "text": [
      "\n",
      "Running XGB Trees...\n",
      "CTL size: 117 ACT size: 99\n",
      "5-fold CV Acc Mean:  0.944603845767 Scores:  [ 0.95454545  0.93181818  0.95348837  0.90697674  0.97619048]\n",
      "Feature Importances:\n",
      "[('Mx_skew', 0.00013506110827238822), ('Fz_entropy', 0.00052582351055040612), ('Fz_skew', 0.00080023371080762068), ('My_entropy', 0.00083347068016125989), ('Fx_std', 0.0010085990382528401), ('Fz_kurtosis', 0.0010655749124286529), ('Fy_kurtosis', 0.0012161632044426188), ('Mz_skew', 0.0014341523887389301), ('Fy_energy', 0.0016312710685293364), ('Fz_max', 0.0018492069585582444), ('AX_min', 0.0021114006751367454), ('F_mag_kurtosis', 0.0023135926066644428), ('M_mag_std', 0.0024049255539267027), ('Fy_max', 0.0038787653556559775), ('Fx_energy', 0.0042009285051995702), ('AX_mean', 0.0044391187122366036), ('M_mag_entropy', 0.0048523387550785477), ('Mz_energy', 0.0052724883114407331), ('AX_std', 0.0055654795451489146), ('Fz_energy', 0.005578681756028615), ('F_mag_mean', 0.0061996288714090521), ('Mz_std', 0.0062800439751012835), ('Fy_min', 0.0069812849104027496), ('F_mag_skew', 0.0070626066091704146), ('Mz_kurtosis', 0.0073583043993346283), ('Mz_max', 0.0074601328469667879), ('Mx_max', 0.0080641059408221444), ('F_mag_std', 0.008270498368741731), ('AX_kurtosis', 0.0085338938564836504), ('My_skew', 0.0087323205143121762), ('M_mag_mean', 0.0088413383504202005), ('Mx_std', 0.0091026980135137398), ('Mx_kurtosis', 0.0092981739595623843), ('F_mag_max', 0.0095046310598838075), ('Fy_mean', 0.0096293449586412547), ('F_mag_energy', 0.0096575172911256991), ('Fx_kurtosis', 0.010039973178094718), ('F_mag_entropy', 0.010118684098257889), ('My_kurtosis', 0.010179894238695706), ('F_mag_min', 0.010311490070095557), ('My_mean', 0.01059767712167848), ('Fy_std', 0.012208827781215081), ('Mz_min', 0.013121606032968622), ('Fz_std', 0.013480286572551195), ('M_mag_skew', 0.01363393956140015), ('Fx_skew', 0.013983246736590566), ('Mz_entropy', 0.014421723258857337), ('My_max', 0.015326291741769544), ('Fx_max', 0.01538031807843355), ('M_mag_kurtosis', 0.01545911083853178), ('AX_max', 0.015792930331555738), ('Fx_min', 0.01624374041443509), ('M_mag_max', 0.016877497259882506), ('Fz_mean', 0.017626360604326409), ('M_mag_min', 0.019800567239555165), ('My_energy', 0.020060814354949288), ('Fz_min', 0.021507505059106657), ('M_mag_energy', 0.021539669599650937), ('Mx_energy', 0.021541325030758257), ('Fy_skew', 0.023462596812451067), ('Fx_mean', 0.024140041850730792), ('Mx_mean', 0.025037304113623766), ('Fx_entropy', 0.027721030637036955), ('Mz_mean', 0.029328903492190729), ('My_std', 0.030304420798470174), ('Mx_entropy', 0.032068177235077905), ('AX_skew', 0.033861418495148829), ('Mx_min', 0.036313841121831961), ('My_min', 0.051774079692670977), ('Fy_entropy', 0.054640906264255759)]\n"
     ]
    }
   ],
   "source": [
    "classify.do_xgb_trees()"
   ]
  },
  {
   "cell_type": "code",
   "execution_count": 9,
   "metadata": {
    "collapsed": false
   },
   "outputs": [
    {
     "name": "stdout",
     "output_type": "stream",
     "text": [
      "\n",
      "Running SVC...\n",
      "CTL size: 117 ACT size: 99\n",
      "10-fold CV Acc Mean:  0.949567099567 Scores:  [ 0.95454545  0.90909091  0.95454545  0.90909091  0.95454545  0.90909091\n",
      "  1.          0.95238095  0.95238095  1.        ]\n"
     ]
    }
   ],
   "source": [
    "classify.do_svc()"
   ]
  },
  {
   "cell_type": "code",
   "execution_count": 10,
   "metadata": {
    "collapsed": false
   },
   "outputs": [
    {
     "name": "stdout",
     "output_type": "stream",
     "text": [
      "\n",
      "Running Neural Network...\n",
      "CTL size: 117 ACT size: 99\n",
      "Step #1, avg. loss: 0.95279\n",
      "Step #101, epoch #50, avg. loss: 0.12424\n",
      "Step #201, epoch #100, avg. loss: 0.02094\n",
      "Step #301, epoch #150, avg. loss: 0.00804\n",
      "Step #401, epoch #200, avg. loss: 0.00436\n",
      "Step #501, epoch #250, avg. loss: 0.00283\n",
      "Step #601, epoch #300, avg. loss: 0.00203\n",
      "Step #701, epoch #350, avg. loss: 0.00155\n",
      "Step #801, epoch #400, avg. loss: 0.00125\n",
      "Step #901, epoch #450, avg. loss: 0.00103\n",
      "Step #1, avg. loss: 0.92423\n",
      "Step #101, epoch #50, avg. loss: 0.12454\n",
      "Step #201, epoch #100, avg. loss: 0.02010\n",
      "Step #301, epoch #150, avg. loss: 0.00759\n",
      "Step #401, epoch #200, avg. loss: 0.00414\n",
      "Step #501, epoch #250, avg. loss: 0.00271\n",
      "Step #601, epoch #300, avg. loss: 0.00195\n",
      "Step #701, epoch #350, avg. loss: 0.00150\n",
      "Step #801, epoch #400, avg. loss: 0.00120\n",
      "Step #901, epoch #450, avg. loss: 0.00100\n",
      "Step #1, avg. loss: 1.01374\n",
      "Step #101, epoch #50, avg. loss: 0.12683\n",
      "Step #201, epoch #100, avg. loss: 0.01986\n",
      "Step #301, epoch #150, avg. loss: 0.00744\n",
      "Step #401, epoch #200, avg. loss: 0.00406\n",
      "Step #501, epoch #250, avg. loss: 0.00266\n",
      "Step #601, epoch #300, avg. loss: 0.00192\n",
      "Step #701, epoch #350, avg. loss: 0.00147\n",
      "Step #801, epoch #400, avg. loss: 0.00118\n",
      "Step #901, epoch #450, avg. loss: 0.00098\n",
      "Step #1, avg. loss: 0.94997\n",
      "Step #101, epoch #50, avg. loss: 0.12795\n",
      "Step #201, epoch #100, avg. loss: 0.02011\n",
      "Step #301, epoch #150, avg. loss: 0.00759\n",
      "Step #401, epoch #200, avg. loss: 0.00414\n",
      "Step #501, epoch #250, avg. loss: 0.00268\n",
      "Step #601, epoch #300, avg. loss: 0.00194\n",
      "Step #701, epoch #350, avg. loss: 0.00147\n",
      "Step #801, epoch #400, avg. loss: 0.00118\n",
      "Step #901, epoch #450, avg. loss: 0.00098\n",
      "Step #1, avg. loss: 1.01714\n",
      "Step #101, epoch #50, avg. loss: 0.11300\n",
      "Step #201, epoch #100, avg. loss: 0.01765\n",
      "Step #301, epoch #150, avg. loss: 0.00655\n",
      "Step #401, epoch #200, avg. loss: 0.00357\n",
      "Step #501, epoch #250, avg. loss: 0.00234\n",
      "Step #601, epoch #300, avg. loss: 0.00169\n",
      "Step #701, epoch #350, avg. loss: 0.00130\n",
      "Step #801, epoch #400, avg. loss: 0.00104\n",
      "Step #901, epoch #450, avg. loss: 0.00086\n",
      "Step #1, avg. loss: 0.93681\n",
      "Step #101, epoch #50, avg. loss: 0.11723\n",
      "Step #201, epoch #100, avg. loss: 0.01751\n",
      "Step #301, epoch #150, avg. loss: 0.00659\n",
      "Step #401, epoch #200, avg. loss: 0.00358\n",
      "Step #501, epoch #250, avg. loss: 0.00236\n",
      "Step #601, epoch #300, avg. loss: 0.00169\n",
      "Step #701, epoch #350, avg. loss: 0.00130\n",
      "Step #801, epoch #400, avg. loss: 0.00105\n",
      "Step #901, epoch #450, avg. loss: 0.00087\n",
      "Step #1, avg. loss: 1.01743\n",
      "Step #101, epoch #50, avg. loss: 0.12248\n",
      "Step #201, epoch #100, avg. loss: 0.02192\n",
      "Step #301, epoch #150, avg. loss: 0.00832\n",
      "Step #401, epoch #200, avg. loss: 0.00454\n",
      "Step #501, epoch #250, avg. loss: 0.00293\n",
      "Step #601, epoch #300, avg. loss: 0.00211\n",
      "Step #701, epoch #350, avg. loss: 0.00160\n",
      "Step #801, epoch #400, avg. loss: 0.00129\n",
      "Step #901, epoch #450, avg. loss: 0.00106\n",
      "Step #1, avg. loss: 1.00196\n",
      "Step #101, epoch #50, avg. loss: 0.11649\n",
      "Step #201, epoch #100, avg. loss: 0.01803\n",
      "Step #301, epoch #150, avg. loss: 0.00697\n",
      "Step #401, epoch #200, avg. loss: 0.00382\n",
      "Step #501, epoch #250, avg. loss: 0.00251\n",
      "Step #601, epoch #300, avg. loss: 0.00181\n",
      "Step #701, epoch #350, avg. loss: 0.00139\n",
      "Step #801, epoch #400, avg. loss: 0.00112\n",
      "Step #901, epoch #450, avg. loss: 0.00093\n",
      "Step #1, avg. loss: 0.96019\n",
      "Step #101, epoch #50, avg. loss: 0.12149\n",
      "Step #201, epoch #100, avg. loss: 0.01895\n",
      "Step #301, epoch #150, avg. loss: 0.00712\n",
      "Step #401, epoch #200, avg. loss: 0.00391\n",
      "Step #501, epoch #250, avg. loss: 0.00255\n",
      "Step #601, epoch #300, avg. loss: 0.00184\n",
      "Step #701, epoch #350, avg. loss: 0.00142\n",
      "Step #801, epoch #400, avg. loss: 0.00115\n",
      "Step #901, epoch #450, avg. loss: 0.00095\n",
      "Step #1, avg. loss: 1.03760\n",
      "Step #101, epoch #50, avg. loss: 0.10884\n",
      "Step #201, epoch #100, avg. loss: 0.01817\n",
      "Step #301, epoch #150, avg. loss: 0.00712\n",
      "Step #401, epoch #200, avg. loss: 0.00391\n",
      "Step #501, epoch #250, avg. loss: 0.00256\n",
      "Step #601, epoch #300, avg. loss: 0.00185\n",
      "Step #701, epoch #350, avg. loss: 0.00141\n",
      "Step #801, epoch #400, avg. loss: 0.00114\n",
      "Step #901, epoch #450, avg. loss: 0.00095\n",
      "10-fold CV Acc Mean:  0.93961038961 Scores:  [0.95454545454545459, 0.95454545454545459, 1.0, 1.0, 0.86363636363636365, 0.90909090909090906, 0.95238095238095233, 0.90476190476190477, 0.95238095238095233, 0.90476190476190477]\n"
     ]
    }
   ],
   "source": [
    "classify.do_dnn()"
   ]
  }
 ],
 "metadata": {
  "kernelspec": {
   "display_name": "Python 2",
   "language": "python",
   "name": "python2"
  },
  "language_info": {
   "codemirror_mode": {
    "name": "ipython",
    "version": 2
   },
   "file_extension": ".py",
   "mimetype": "text/x-python",
   "name": "python",
   "nbconvert_exporter": "python",
   "pygments_lexer": "ipython2",
   "version": "2.7.11"
  }
 },
 "nbformat": 4,
 "nbformat_minor": 0
}
