{
 "cells": [
  {
   "cell_type": "code",
   "execution_count": 1,
   "metadata": {
    "collapsed": false
   },
   "outputs": [
    {
     "name": "stderr",
     "output_type": "stream",
     "text": [
      "/Users/Can/venv/lib/python2.7/site-packages/sklearn/cross_validation.py:44: DeprecationWarning: This module was deprecated in version 0.18 in favor of the model_selection module into which all the refactored classes and functions are moved. Also note that the interface of the new CV iterators are different from that of this module. This module will be removed in 0.20.\n",
      "  \"This module will be removed in 0.20.\", DeprecationWarning)\n"
     ]
    }
   ],
   "source": [
    "import sys\n",
    "sys.path.append(\"../../\")\n",
    "import classify\n",
    "import os"
   ]
  },
  {
   "cell_type": "code",
   "execution_count": 2,
   "metadata": {
    "collapsed": false
   },
   "outputs": [],
   "source": [
    "# classify.DATA_FOLDER = os.path.dirname(os.path.realpath(__file__)) + \"/blue_feet_predictions/\"\n",
    "DATA_FOLDER =\"/Users/Can/biomimetics/veloplot/blue_feet_predictions/\"\n",
    "CTL_FILES = DATA_FOLDER + \"4/0/\" + \"*.csv\"  # No touch data\n",
    "ACT_FILES = DATA_FOLDER + \"4/1/\" + \"*.csv\"  # Touch data\n",
    "CALIBRATION_FILE = \"calibration/out/C.mat\""
   ]
  },
  {
   "cell_type": "code",
   "execution_count": 3,
   "metadata": {
    "collapsed": false
   },
   "outputs": [
    {
     "name": "stdout",
     "output_type": "stream",
     "text": [
      "/Users/Can/biomimetics/veloplot/blue_feet_predictions/4/0/*.csv\n",
      "\n",
      "Running Random Forests...\n",
      "CTL size: 224 ACT size: 277\n",
      "10-fold CV ROC Mean:  0.983220402786\n",
      "CV Scores:  0.998447204969, 0.954192546584, 0.994565217391, 0.97049689441, 0.967532467532, 1.0, 1.0, 0.962121212121, 0.995791245791, 0.989057239057\n",
      "OOB score: 0.940119760479\n",
      "Feature Importances:\n",
      "('Fx_min', 0.098247796807404336)\n",
      "('F_mag_max', 0.069202516165513012)\n",
      "('Fx_mean', 0.065722722964638033)\n",
      "('F_mag_mean', 0.060748075131980939)\n",
      "('Fx_kurtosis', 0.048978162892422364)\n",
      "('Fx_entropy', 0.047637596539274567)\n",
      "('Fz_mean', 0.040500825290201291)\n",
      "('Fz_max', 0.037897319180753938)\n",
      "('Fz_entropy', 0.03389803376319233)\n",
      "('F_mag_energy', 0.03313881814477633)\n",
      "(\"('Fx', 'Fz')_corre\", 0.029566080184340988)\n",
      "('M_mag_mean', 0.026466786020043577)\n",
      "('Fx_max', 0.024616476786441192)\n",
      "('Fx_std', 0.021257668805741425)\n",
      "('Mx_std', 0.019735552151512802)\n",
      "('F_mag_min', 0.01952832892014169)\n",
      "('Fz_energy', 0.019085906435478958)\n",
      "('Fy_std', 0.018878001881667245)\n",
      "('Fz_min', 0.016666457813896852)\n",
      "('Fx_energy', 0.016338238647348031)\n",
      "('My_kurtosis', 0.015363733957398406)\n",
      "('Fx_skew', 0.014571895615228557)\n",
      "('M_mag_energy', 0.0089126756524320234)\n",
      "('My_std', 0.0087117493560603023)\n",
      "(\"('Fy', 'Fz')_corre\", 0.006940889028393381)\n",
      "('My_skew', 0.0065140911953974687)\n",
      "('My_min', 0.0062772631398038655)\n",
      "(\"('Fx', 'Fy')_corre\", 0.0058588387470463899)\n",
      "('F_mag_std', 0.0058123548075147422)\n",
      "('M_mag_max', 0.0057980118335150873)\n",
      "('Mx_min', 0.0057764020196869074)\n",
      "('Mx_kurtosis', 0.0052623265232919015)\n",
      "('Mz_energy', 0.0050504862753508071)\n",
      "('F_mag_entropy', 0.0048522163772696135)\n",
      "('My_mean', 0.0045799524289135505)\n",
      "('Mz_max', 0.0043922701658696446)\n",
      "('My_max', 0.0043905229247906763)\n",
      "('AX_std', 0.0042581332887631999)\n",
      "('AX_min', 0.0041281011117269596)\n",
      "('Mz_skew', 0.0041183683329442996)\n",
      "('Fy_max', 0.0037769414845440206)\n",
      "(\"('My', 'Mz')_corre\", 0.003711714224672538)\n",
      "('Mz_entropy', 0.0036066638708248068)\n",
      "('AZ_min', 0.0034349351302856005)\n",
      "('Mx_skew', 0.0032744527520995686)\n",
      "('M_mag_entropy', 0.0032654332671586133)\n",
      "('Fy_min', 0.0030685811355815732)\n",
      "(\"('Mx', 'My')_corre\", 0.0030018847082300738)\n",
      "('F_mag_kurtosis', 0.0029142671440573224)\n",
      "('Fz_skew', 0.0028564034875802435)\n",
      "('Fz_kurtosis', 0.0027261034673610311)\n",
      "('Mz_kurtosis', 0.0027060804164291789)\n",
      "('AY_std', 0.0026936846574978478)\n",
      "('Fy_kurtosis', 0.0026549876568910109)\n",
      "('Mz_mean', 0.002629470853341261)\n",
      "('AY_min', 0.0025431746027052408)\n",
      "('AZ_std', 0.0024768106477225924)\n",
      "('Fy_mean', 0.0024333264620657294)\n",
      "('M_mag_kurtosis', 0.0024128112851458544)\n",
      "('F_mag_skew', 0.0023970197336408419)\n",
      "('Fy_skew', 0.0023669534339070789)\n",
      "('AX_mean', 0.0022662437068902176)\n",
      "('Mz_min', 0.0022488439817782975)\n",
      "('M_mag_min', 0.0022015987190881414)\n",
      "('AY_mean', 0.002195387293714181)\n",
      "('AZ_energy', 0.0020634476464578711)\n",
      "('Fz_std', 0.0018823412943924148)\n",
      "('A_mag_energy', 0.0018570308182942463)\n",
      "('Mx_max', 0.0018507469569820801)\n",
      "('A_mag_min', 0.0017736763053709489)\n",
      "('M_mag_skew', 0.0017631543015739967)\n",
      "('AX_energy', 0.0017585615210330429)\n",
      "('Fy_energy', 0.0017400211067897986)\n",
      "('Mx_entropy', 0.0015991698349706951)\n",
      "('A_mag_mean', 0.0015829283363827504)\n",
      "('Mx_energy', 0.0015733918780164737)\n",
      "('My_energy', 0.0015515108929507351)\n",
      "(\"('Mx', 'Mz')_corre\", 0.0015219825222528862)\n",
      "('AX_entropy', 0.0015047133779071361)\n",
      "('AX_max', 0.0014693740141448843)\n",
      "('A_mag_std', 0.0014274101473024017)\n",
      "('My_entropy', 0.0013932315314379318)\n",
      "('AY_kurtosis', 0.0013446761302236109)\n",
      "('AZ_mean', 0.0013421852671179188)\n",
      "('M_mag_std', 0.0013256980508328322)\n",
      "('AZ_max', 0.0013232171110006375)\n",
      "('AX_skew', 0.0013038530926348655)\n",
      "('AZ_kurtosis', 0.0012471852224193623)\n",
      "('Mx_mean', 0.0012141916746974753)\n",
      "('AY_max', 0.0012083125213787891)\n",
      "('A_mag_entropy', 0.001192696442116091)\n",
      "('AY_energy', 0.0011588850343209319)\n",
      "('AY_skew', 0.0011305779200253753)\n",
      "('A_mag_kurtosis', 0.0011188484376302927)\n",
      "('A_mag_skew', 0.0011181415696603803)\n",
      "('AY_entropy', 0.001089628500851734)\n",
      "('AZ_skew', 0.0010114896002380118)\n",
      "('A_mag_max', 0.00094900925440140295)\n",
      "('Mz_std', 0.00086860770638804178)\n",
      "('AZ_entropy', 0.00085800719682117301)\n",
      "('Fy_entropy', 0.00082963967732353446)\n",
      "('AX_kurtosis', 0.00050703567227666693)\n"
     ]
    },
    {
     "data": {
      "text/plain": [
       "(RandomForestClassifier(bootstrap=True, class_weight=None, criterion='gini',\n",
       "             max_depth=None, max_features='sqrt', max_leaf_nodes=None,\n",
       "             min_impurity_split=1e-07, min_samples_leaf=1,\n",
       "             min_samples_split=2, min_weight_fraction_leaf=0.0,\n",
       "             n_estimators=200, n_jobs=1, oob_score=True, random_state=None,\n",
       "             verbose=0, warm_start=False),\n",
       " StandardScaler(copy=True, with_mean=True, with_std=True))"
      ]
     },
     "execution_count": 3,
     "metadata": {},
     "output_type": "execute_result"
    }
   ],
   "source": [
    "classify.do_random_forests_cross_val(ctl_files=CTL_FILES, act_files=ACT_FILES)"
   ]
  },
  {
   "cell_type": "code",
   "execution_count": 4,
   "metadata": {
    "collapsed": false
   },
   "outputs": [
    {
     "name": "stdout",
     "output_type": "stream",
     "text": [
      "\n",
      "Running XGB Trees...\n",
      "CTL size: 224 ACT size: 277\n",
      "10-fold CV ROC Mean:  0.984765616831\n",
      "CV Scores:  0.954968944099, 0.968944099379, 0.993788819876, 1.0, 1.0, 0.988636363636, 0.993506493506, 0.962962962963, 1.0, 0.984848484848\n",
      "Feature Importances:\n",
      "('F_mag_max', 0.043331054832297572)\n",
      "('Fx_max', 0.033463264821760437)\n",
      "('Mz_skew', 0.030494400062872084)\n",
      "('Fx_min', 0.029281382276029711)\n",
      "('Fx_mean', 0.028682546610665108)\n",
      "('Fx_entropy', 0.026847630578782117)\n",
      "('My_kurtosis', 0.025586784586407962)\n",
      "('Mx_skew', 0.025395365874305673)\n",
      "('F_mag_mean', 0.024731766311890991)\n",
      "('Fz_min', 0.021027847892349696)\n",
      "('F_mag_min', 0.020525964278473738)\n",
      "('F_mag_energy', 0.018964042087692198)\n",
      "('Fz_entropy', 0.018961078913660202)\n",
      "(\"('Fx', 'Fz')_corre\", 0.018768499392944223)\n",
      "('AY_min', 0.018426699317340433)\n",
      "('AZ_min', 0.018369170765218986)\n",
      "('My_max', 0.017957982213342882)\n",
      "('Fz_kurtosis', 0.017702406183912275)\n",
      "('AX_min', 0.017033119253657528)\n",
      "('Fy_kurtosis', 0.0168240570165646)\n",
      "(\"('My', 'Mz')_corre\", 0.016765451435842457)\n",
      "('My_min', 0.016016170467665066)\n",
      "('M_mag_max', 0.015853537993083991)\n",
      "('Fx_skew', 0.015666417426973521)\n",
      "('Fx_std', 0.015181797384871139)\n",
      "('Fy_min', 0.014525323098149941)\n",
      "('F_mag_skew', 0.013582563478634091)\n",
      "('Fx_kurtosis', 0.013413036972533399)\n",
      "('Fz_mean', 0.013314157420371689)\n",
      "('My_skew', 0.012294940787967017)\n",
      "('Fy_max', 0.011529495631858434)\n",
      "('F_mag_entropy', 0.011441091689356002)\n",
      "('Fz_max', 0.011311173947313416)\n",
      "('AY_mean', 0.010878141432756634)\n",
      "('My_mean', 0.010575152989860526)\n",
      "('Mz_energy', 0.010443488980402829)\n",
      "('Mz_kurtosis', 0.0098831431336339499)\n",
      "('Mz_min', 0.0096435210800504476)\n",
      "('Fy_std', 0.0095698309125511489)\n",
      "('F_mag_std', 0.0093209702906690579)\n",
      "('Fz_energy', 0.0091971185175046336)\n",
      "('M_mag_skew', 0.0091004394005516406)\n",
      "('AX_std', 0.00905297649784342)\n",
      "('Mx_std', 0.0088912491452574991)\n",
      "('AZ_mean', 0.0086819176789647307)\n",
      "('Mz_mean', 0.0086023666340345629)\n",
      "('Fy_skew', 0.0085875929667993834)\n",
      "('M_mag_entropy', 0.0080672728708534834)\n",
      "('Mx_kurtosis', 0.0080572727856414606)\n",
      "('Mz_max', 0.0079138875984450137)\n",
      "('AX_mean', 0.0073926808082829523)\n",
      "('Fz_std', 0.0073273688837625153)\n",
      "('My_energy', 0.0071499817732113453)\n",
      "('My_entropy', 0.0070840847470948261)\n",
      "('M_mag_std', 0.0070263470432812437)\n",
      "('Fz_skew', 0.006950400898824506)\n",
      "('M_mag_min', 0.006658205359165603)\n",
      "('AZ_std', 0.006642624212817326)\n",
      "('Fy_entropy', 0.0063987303959238476)\n",
      "('AY_entropy', 0.0062738001856181436)\n",
      "('AY_energy', 0.0058443303018025135)\n",
      "('Fx_energy', 0.0058293246921616495)\n",
      "('My_std', 0.0053829799896667786)\n",
      "('A_mag_energy', 0.0050567826238197304)\n",
      "('AY_std', 0.0049876169891094422)\n",
      "(\"('Mx', 'Mz')_corre\", 0.0047935034993425666)\n",
      "('AX_energy', 0.0047927658765279128)\n",
      "('A_mag_max', 0.0047728446694116407)\n",
      "(\"('Fy', 'Fz')_corre\", 0.0047258484798825585)\n",
      "('Mx_min', 0.004565759272191188)\n",
      "('M_mag_mean', 0.0044711087622557634)\n",
      "('Fy_mean', 0.0044363933445030644)\n",
      "(\"('Fx', 'Fy')_corre\", 0.003431977009827657)\n",
      "('Mz_std', 0.0033077103276949096)\n",
      "('AX_max', 0.003238173694314206)\n",
      "('A_mag_mean', 0.0031830879906180952)\n",
      "('A_mag_min', 0.0030218835787222116)\n",
      "('AX_kurtosis', 0.0028187863673549054)\n",
      "('Mx_entropy', 0.0027598707006080258)\n",
      "('AZ_energy', 0.0027560009946652831)\n",
      "('M_mag_energy', 0.0027178794187605626)\n",
      "('A_mag_entropy', 0.0026594835980367137)\n",
      "('Mx_mean', 0.0025820907772057676)\n",
      "('F_mag_kurtosis', 0.0025246922203751134)\n",
      "('AX_entropy', 0.0025066028226434414)\n",
      "('Mx_max', 0.0024868635399989524)\n",
      "('A_mag_kurtosis', 0.0020881594354011123)\n",
      "('Mz_entropy', 0.0020266580508020503)\n",
      "('AZ_kurtosis', 0.0019899611077446892)\n",
      "('A_mag_std', 0.0019727533884388031)\n",
      "('AZ_entropy', 0.001443652527716361)\n",
      "('AX_skew', 0.0014300965111238252)\n",
      "('M_mag_kurtosis', 0.0014216438227135936)\n",
      "(\"('Mx', 'My')_corre\", 0.0013926877559114507)\n",
      "('A_mag_skew', 0.0013557025392223409)\n",
      "('AZ_skew', 0.0012753062085909383)\n",
      "('Mx_energy', 0.0012190535585593313)\n",
      "('AZ_max', 0.00113797166261499)\n",
      "('AY_kurtosis', 0.0010777966236820661)\n",
      "('AY_max', 0.00076197185915819236)\n",
      "('Fy_energy', 0.00065079075735532)\n",
      "('AY_skew', 0.0004606444208729738)\n"
     ]
    },
    {
     "data": {
      "text/plain": [
       "(GradientBoostingClassifier(criterion='friedman_mse', init=None,\n",
       "               learning_rate=0.1, loss='deviance', max_depth=3,\n",
       "               max_features='sqrt', max_leaf_nodes=None,\n",
       "               min_impurity_split=1e-07, min_samples_leaf=1,\n",
       "               min_samples_split=2, min_weight_fraction_leaf=0.0,\n",
       "               n_estimators=200, presort='auto', random_state=None,\n",
       "               subsample=1.0, verbose=0, warm_start=False),\n",
       " StandardScaler(copy=True, with_mean=True, with_std=True))"
      ]
     },
     "execution_count": 4,
     "metadata": {},
     "output_type": "execute_result"
    }
   ],
   "source": [
    "classify.do_xgb_trees_cross_val(ctl_files=CTL_FILES, act_files=ACT_FILES)"
   ]
  },
  {
   "cell_type": "code",
   "execution_count": 5,
   "metadata": {
    "collapsed": false
   },
   "outputs": [
    {
     "name": "stdout",
     "output_type": "stream",
     "text": [
      "\n",
      "Running SVC...\n",
      "CTL size: 224 ACT size: 277\n",
      "10-fold CV ROC Mean:  0.98161584792\n",
      "CV Scores:  0.973602484472, 0.987577639752, 1.0, 1.0, 0.983766233766, 0.983766233766, 0.948051948052, 0.976430976431, 0.968013468013, 0.994949494949\n"
     ]
    }
   ],
   "source": [
    "clf_svm, scaler_svm = classify.do_svc_cross_val(ctl_files=CTL_FILES, act_files=ACT_FILES)"
   ]
  },
  {
   "cell_type": "code",
   "execution_count": 6,
   "metadata": {
    "collapsed": false
   },
   "outputs": [
    {
     "name": "stdout",
     "output_type": "stream",
     "text": [
      "\n",
      "Running Neural Network...\n",
      "CTL size: 224 ACT size: 277\n",
      "Step #1, avg. loss: 0.89418\n",
      "Step #201, epoch #40, avg. loss: 0.10625\n",
      "Step #401, epoch #80, avg. loss: 0.01353\n",
      "Step #601, epoch #120, avg. loss: 0.00438\n",
      "Step #801, epoch #160, avg. loss: 0.00232\n",
      "Step #1001, epoch #200, avg. loss: 0.00148\n",
      "Step #1201, epoch #240, avg. loss: 0.00107\n",
      "Step #1401, epoch #280, avg. loss: 0.00083\n",
      "Step #1601, epoch #320, avg. loss: 0.00067\n",
      "Step #1801, epoch #360, avg. loss: 0.00056\n",
      "Step #1, avg. loss: 0.80641\n",
      "Step #201, epoch #40, avg. loss: 0.10184\n",
      "Step #401, epoch #80, avg. loss: 0.01386\n",
      "Step #601, epoch #120, avg. loss: 0.00449\n",
      "Step #801, epoch #160, avg. loss: 0.00235\n",
      "Step #1001, epoch #200, avg. loss: 0.00153\n",
      "Step #1201, epoch #240, avg. loss: 0.00110\n",
      "Step #1401, epoch #280, avg. loss: 0.00085\n",
      "Step #1601, epoch #320, avg. loss: 0.00069\n",
      "Step #1801, epoch #360, avg. loss: 0.00057\n",
      "Step #1, avg. loss: 0.89231\n",
      "Step #201, epoch #40, avg. loss: 0.10101\n",
      "Step #401, epoch #80, avg. loss: 0.01452\n",
      "Step #601, epoch #120, avg. loss: 0.00456\n",
      "Step #801, epoch #160, avg. loss: 0.00240\n",
      "Step #1001, epoch #200, avg. loss: 0.00155\n",
      "Step #1201, epoch #240, avg. loss: 0.00113\n",
      "Step #1401, epoch #280, avg. loss: 0.00086\n",
      "Step #1601, epoch #320, avg. loss: 0.00070\n",
      "Step #1801, epoch #360, avg. loss: 0.00057\n",
      "Step #1, avg. loss: 0.76816\n",
      "Step #201, epoch #40, avg. loss: 0.09779\n",
      "Step #401, epoch #80, avg. loss: 0.01318\n",
      "Step #601, epoch #120, avg. loss: 0.00427\n",
      "Step #801, epoch #160, avg. loss: 0.00228\n",
      "Step #1001, epoch #200, avg. loss: 0.00149\n",
      "Step #1201, epoch #240, avg. loss: 0.00110\n",
      "Step #1401, epoch #280, avg. loss: 0.00084\n",
      "Step #1601, epoch #320, avg. loss: 0.00066\n",
      "Step #1801, epoch #360, avg. loss: 0.00055\n",
      "Step #1, avg. loss: 0.80827\n",
      "Step #201, epoch #40, avg. loss: 0.10508\n",
      "Step #401, epoch #80, avg. loss: 0.01402\n",
      "Step #601, epoch #120, avg. loss: 0.00441\n",
      "Step #801, epoch #160, avg. loss: 0.00236\n",
      "Step #1001, epoch #200, avg. loss: 0.00153\n",
      "Step #1201, epoch #240, avg. loss: 0.00112\n",
      "Step #1401, epoch #280, avg. loss: 0.00087\n",
      "Step #1601, epoch #320, avg. loss: 0.00070\n",
      "Step #1801, epoch #360, avg. loss: 0.00058\n",
      "Step #1, avg. loss: 0.87655\n",
      "Step #201, epoch #40, avg. loss: 0.10173\n",
      "Step #401, epoch #80, avg. loss: 0.01603\n",
      "Step #601, epoch #120, avg. loss: 0.00489\n",
      "Step #801, epoch #160, avg. loss: 0.00256\n",
      "Step #1001, epoch #200, avg. loss: 0.00163\n",
      "Step #1201, epoch #240, avg. loss: 0.00118\n",
      "Step #1401, epoch #280, avg. loss: 0.00091\n",
      "Step #1601, epoch #320, avg. loss: 0.00072\n",
      "Step #1801, epoch #360, avg. loss: 0.00060\n",
      "Step #1, avg. loss: 0.87632\n",
      "Step #201, epoch #40, avg. loss: 0.09774\n",
      "Step #401, epoch #80, avg. loss: 0.01365\n",
      "Step #601, epoch #120, avg. loss: 0.00435\n",
      "Step #801, epoch #160, avg. loss: 0.00228\n",
      "Step #1001, epoch #200, avg. loss: 0.00145\n",
      "Step #1201, epoch #240, avg. loss: 0.00106\n",
      "Step #1401, epoch #280, avg. loss: 0.00082\n",
      "Step #1601, epoch #320, avg. loss: 0.00065\n",
      "Step #1801, epoch #360, avg. loss: 0.00054\n",
      "Step #1, avg. loss: 0.80365\n",
      "Step #201, epoch #40, avg. loss: 0.10375\n",
      "Step #401, epoch #80, avg. loss: 0.01500\n",
      "Step #601, epoch #120, avg. loss: 0.00468\n",
      "Step #801, epoch #160, avg. loss: 0.00247\n",
      "Step #1001, epoch #200, avg. loss: 0.00158\n",
      "Step #1201, epoch #240, avg. loss: 0.00116\n",
      "Step #1401, epoch #280, avg. loss: 0.00087\n",
      "Step #1601, epoch #320, avg. loss: 0.00072\n",
      "Step #1801, epoch #360, avg. loss: 0.00059\n",
      "Step #1, avg. loss: 0.86074\n",
      "Step #201, epoch #40, avg. loss: 0.09754\n",
      "Step #401, epoch #80, avg. loss: 0.01441\n",
      "Step #601, epoch #120, avg. loss: 0.00462\n",
      "Step #801, epoch #160, avg. loss: 0.00234\n",
      "Step #1001, epoch #200, avg. loss: 0.00151\n",
      "Step #1201, epoch #240, avg. loss: 0.00110\n",
      "Step #1401, epoch #280, avg. loss: 0.00083\n",
      "Step #1601, epoch #320, avg. loss: 0.00067\n",
      "Step #1801, epoch #360, avg. loss: 0.00056\n",
      "Step #1, avg. loss: 0.77387\n",
      "Step #201, epoch #40, avg. loss: 0.10537\n",
      "Step #401, epoch #80, avg. loss: 0.01404\n",
      "Step #601, epoch #120, avg. loss: 0.00450\n",
      "Step #801, epoch #160, avg. loss: 0.00238\n",
      "Step #1001, epoch #200, avg. loss: 0.00153\n",
      "Step #1201, epoch #240, avg. loss: 0.00112\n",
      "Step #1401, epoch #280, avg. loss: 0.00086\n",
      "Step #1601, epoch #320, avg. loss: 0.00069\n",
      "Step #1801, epoch #360, avg. loss: 0.00058\n",
      "10-fold CV ROC Mean:  0.952624035583\n",
      "CV Scores:  0.960403726708, 0.941223832528, 0.941666666667, 0.92270531401, 0.984848484848, 0.967741935484, 0.964285714286, 0.959415584416, 0.925, 0.95894909688\n"
     ]
    },
    {
     "name": "stderr",
     "output_type": "stream",
     "text": [
      "/Users/Can/venv/lib/python2.7/site-packages/skflow/io/data_feeder.py:217: VisibleDeprecationWarning: using a non-integer number instead of an integer will result in an error in the future\n",
      "  out.itemset((i, self.y[sample]), 1.0)\n"
     ]
    },
    {
     "data": {
      "text/plain": [
       "(TensorFlowEstimator(batch_size=100, class_weight=None,\n",
       "           continue_training=False, early_stopping_rounds=None,\n",
       "           keep_checkpoint_every_n_hours=10000, learning_rate=0.1,\n",
       "           max_to_keep=5, model_fn=<function relu_dnn at 0x1056b5848>,\n",
       "           n_classes=2, num_cores=4, optimizer='SGD', steps=2000,\n",
       "           tf_master='', tf_random_seed=42, verbose=1),\n",
       " StandardScaler(copy=True, with_mean=True, with_std=True))"
      ]
     },
     "execution_count": 6,
     "metadata": {},
     "output_type": "execute_result"
    }
   ],
   "source": [
    "classify.do_dnn_cross_val(ctl_files=CTL_FILES, act_files=ACT_FILES)"
   ]
  },
  {
   "cell_type": "code",
   "execution_count": null,
   "metadata": {
    "collapsed": true
   },
   "outputs": [],
   "source": []
  }
 ],
 "metadata": {
  "kernelspec": {
   "display_name": "Python 2",
   "language": "python",
   "name": "python2"
  },
  "language_info": {
   "codemirror_mode": {
    "name": "ipython",
    "version": 2
   },
   "file_extension": ".py",
   "mimetype": "text/x-python",
   "name": "python",
   "nbconvert_exporter": "python",
   "pygments_lexer": "ipython2",
   "version": "2.7.12"
  }
 },
 "nbformat": 4,
 "nbformat_minor": 0
}
