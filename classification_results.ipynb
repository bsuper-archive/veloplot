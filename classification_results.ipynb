{
 "cells": [
  {
   "cell_type": "code",
   "execution_count": 1,
   "metadata": {
    "collapsed": true
   },
   "outputs": [],
   "source": [
    "import classify"
   ]
  },
  {
   "cell_type": "code",
   "execution_count": 2,
   "metadata": {
    "collapsed": false
   },
   "outputs": [
    {
     "name": "stdout",
     "output_type": "stream",
     "text": [
      "\n",
      "Running Random Forests...\n",
      "CTL size: 117 ACT size: 99\n",
      "10-fold CV Acc Mean:  0.935476190476 Scores:  [ 0.95454545  0.95454545  0.90909091  0.86363636  0.90909091  1.\n",
      "  0.90909091  0.9047619   1.          0.95      ]\n",
      "OOB score: 0.935185185185\n",
      "Feature Importances:\n",
      "[('Fx_energy', 0.0011867027664684566), ('Fx_std', 0.0012677459927909291), ('F_mag_kurtosis', 0.0013945081898014177), ('Mz_skew', 0.0016763136216424437), ('Fy_kurtosis', 0.0018699443424529142), ('AX_mean', 0.0019319984769917043), ('My_entropy', 0.0021480000533531584), ('Fz_entropy', 0.0024651323624653096), ('F_mag_energy', 0.0025296203251560317), ('Fz_max', 0.002572437362303664), ('Mx_skew', 0.0026112108776571029), ('AX_min', 0.0026737346381172033), ('F_mag_std', 0.0028073245637715012), ('M_mag_std', 0.0028466449167088865), ('F_mag_max', 0.0030140871991334401), ('Fy_max', 0.0031086267522813932), ('Fz_skew', 0.0032743800156418024), ('Mz_std', 0.0032760022712774724), ('Fy_skew', 0.0036978927281760376), ('My_kurtosis', 0.0038263304322131114), ('F_mag_skew', 0.0038675956411963626), ('Fz_kurtosis', 0.0039122108259699835), ('M_mag_skew', 0.0039856401695561403), ('Mz_min', 0.004015816333507837), ('Fy_mean', 0.0041836072377889021), ('M_mag_max', 0.0043458818670659939), ('Fx_kurtosis', 0.004452947232038317), ('Fy_entropy', 0.0044916186896214808), ('AX_kurtosis', 0.0045755174856085519), ('Mz_kurtosis', 0.0045786668448946129), ('Fy_energy', 0.0046914477622019687), ('Mz_entropy', 0.0047324246242484574), ('Fx_skew', 0.0047899088959628801), ('My_skew', 0.005102813270551382), ('M_mag_kurtosis', 0.0051843816367961306), ('My_mean', 0.0053498988846730992), ('Fy_min', 0.0053508125092025551), ('AX_std', 0.0054181036710134909), ('Mx_kurtosis', 0.006043238911398424), ('Fx_min', 0.006338515254521792), ('Fx_max', 0.006613456425395535), ('Mz_energy', 0.0084137144698575913), ('Mx_max', 0.008513128284953788), ('My_max', 0.0092574228769361604), ('Mx_entropy', 0.010007282148840068), ('M_mag_entropy', 0.011421908213680139), ('Mz_mean', 0.011496035773856817), ('Mx_std', 0.011744120731609424), ('F_mag_mean', 0.012627502654162848), ('M_mag_energy', 0.013104495617378982), ('Fy_std', 0.013889563873225475), ('Fx_entropy', 0.014366779929583297), ('Fz_mean', 0.01442058626114625), ('F_mag_entropy', 0.016705268617516433), ('Fz_std', 0.017891299698113962), ('Mz_max', 0.02000322368313201), ('M_mag_min', 0.023404534155622016), ('M_mag_mean', 0.02400387625409307), ('F_mag_min', 0.026166164266631039), ('My_std', 0.027026146067786031), ('Fz_min', 0.027947235598296177), ('My_energy', 0.030536286666965486), ('Fz_energy', 0.033981824764470037), ('Fx_mean', 0.041750479445595824), ('AX_max', 0.046147455538853424), ('My_min', 0.048293439087308453), ('Mx_mean', 0.063676378038676595), ('Mx_energy', 0.077835185110150112), ('AX_skew', 0.09030626012580889), ('Mx_min', 0.092859259984131734)]\n"
     ]
    }
   ],
   "source": [
    "classify.do_random_forests()"
   ]
  },
  {
   "cell_type": "code",
   "execution_count": 3,
   "metadata": {
    "collapsed": false
   },
   "outputs": [
    {
     "name": "stdout",
     "output_type": "stream",
     "text": [
      "\n",
      "Running XGB Trees...\n",
      "CTL size: 117 ACT size: 99\n",
      "10-fold CV Acc Mean:  0.934588744589 Scores:  [ 0.90909091  0.90909091  0.90909091  1.          0.95454545  1.\n",
      "  0.95454545  0.95238095  0.85714286  0.9       ]\n",
      "Feature Importances:\n",
      "[('Fz_kurtosis', 0.00030542353515831976), ('AX_min', 0.00067354578708106515), ('Mx_skew', 0.0011187847393177026), ('F_mag_skew', 0.0011854609046118572), ('Fy_kurtosis', 0.0012045113471388881), ('Mz_skew', 0.0012480726086121069), ('Fx_energy', 0.0019017386671667253), ('Fz_entropy', 0.0023636831559832954), ('M_mag_std', 0.0027887076430433539), ('Fx_std', 0.0028949913371342029), ('Fy_energy', 0.0029779433185088138), ('Fz_max', 0.0039095124661222783), ('Mz_kurtosis', 0.0042487131520018932), ('Mz_energy', 0.0045316467040986894), ('F_mag_kurtosis', 0.0045895708835645109), ('My_max', 0.0046360129549646179), ('AX_std', 0.0047876457479462467), ('My_entropy', 0.0049312882054814572), ('Fy_std', 0.005372678110528311), ('Fz_skew', 0.0056429772163859148), ('M_mag_entropy', 0.006093288211067689), ('AX_mean', 0.0074247983591571145), ('F_mag_energy', 0.0079941098255977578), ('Mz_min', 0.0081003621249510008), ('My_mean', 0.0083119075655917699), ('M_mag_mean', 0.0084423072223478828), ('Fz_energy', 0.008490425383831943), ('F_mag_std', 0.0088374541206594111), ('Fx_kurtosis', 0.0091400378973439927), ('Fy_max', 0.0093413735598564043), ('Fx_max', 0.0098704808793869964), ('Fz_std', 0.010087203701697928), ('Mx_kurtosis', 0.01012711452323203), ('Mx_max', 0.010205805634648457), ('F_mag_mean', 0.010273925174735896), ('My_skew', 0.010611148249776476), ('Mx_std', 0.010684977155364978), ('M_mag_kurtosis', 0.011119270955710867), ('F_mag_entropy', 0.011210476902913965), ('Mz_max', 0.011252806324183193), ('Mz_std', 0.011675763729737044), ('Fx_min', 0.011786970688257337), ('M_mag_skew', 0.012515761957278397), ('AX_kurtosis', 0.012515833872105274), ('My_kurtosis', 0.01257556368657684), ('Fy_min', 0.013668912228081786), ('Fy_mean', 0.013697820659658844), ('M_mag_max', 0.013778678176014763), ('M_mag_energy', 0.015011041621795451), ('Fx_skew', 0.016104462067519486), ('Mz_entropy', 0.016335860790191527), ('AX_max', 0.017902504213117253), ('Mz_mean', 0.01798990414548475), ('F_mag_min', 0.018546100784028869), ('Fz_min', 0.018629943984386069), ('Mx_energy', 0.018905658815274673), ('My_energy', 0.020071352989600385), ('M_mag_min', 0.021026577698687939), ('My_std', 0.021626823735380322), ('Fx_mean', 0.022207193124852878), ('F_mag_max', 0.024569032663320715), ('Fz_mean', 0.026919800582696669), ('Fy_skew', 0.02840034126748732), ('Mx_mean', 0.028880566742245737), ('AX_skew', 0.029747590930610853), ('Mx_entropy', 0.029787693945720509), ('Mx_min', 0.031412672243932217), ('Fx_entropy', 0.036524072017195423), ('Fy_entropy', 0.06409874181114629), ('My_min', 0.069154576570708379)]\n"
     ]
    }
   ],
   "source": [
    "classify.do_xgb_trees()"
   ]
  },
  {
   "cell_type": "code",
   "execution_count": 4,
   "metadata": {
    "collapsed": false
   },
   "outputs": [
    {
     "name": "stdout",
     "output_type": "stream",
     "text": [
      "\n",
      "Running SVC...\n",
      "CTL size: 117 ACT size: 99\n",
      "10-fold CV Acc Mean:  0.944805194805 Scores:  [ 0.95454545  0.95454545  1.          0.86363636  0.95454545  0.95454545\n",
      "  0.90909091  0.9047619   0.95238095  1.        ]\n"
     ]
    }
   ],
   "source": [
    "classify.do_svc()"
   ]
  },
  {
   "cell_type": "code",
   "execution_count": 5,
   "metadata": {
    "collapsed": false
   },
   "outputs": [
    {
     "name": "stdout",
     "output_type": "stream",
     "text": [
      "\n",
      "Running Neural Network...\n",
      "CTL size: 117 ACT size: 99\n",
      "Step #1, avg. loss: 0.92467\n",
      "Step #101, epoch #50, avg. loss: 0.10871\n",
      "Step #201, epoch #100, avg. loss: 0.01703\n",
      "Step #301, epoch #150, avg. loss: 0.00664\n",
      "Step #401, epoch #200, avg. loss: 0.00365\n",
      "Step #501, epoch #250, avg. loss: 0.00239\n",
      "Step #601, epoch #300, avg. loss: 0.00174\n",
      "Step #701, epoch #350, avg. loss: 0.00134\n",
      "Step #801, epoch #400, avg. loss: 0.00108\n",
      "Step #901, epoch #450, avg. loss: 0.00090\n",
      "Step #1, avg. loss: 0.96755\n",
      "Step #101, epoch #50, avg. loss: 0.12788\n",
      "Step #201, epoch #100, avg. loss: 0.02109\n",
      "Step #301, epoch #150, avg. loss: 0.00777\n",
      "Step #401, epoch #200, avg. loss: 0.00427\n",
      "Step #501, epoch #250, avg. loss: 0.00275\n",
      "Step #601, epoch #300, avg. loss: 0.00198\n",
      "Step #701, epoch #350, avg. loss: 0.00152\n",
      "Step #801, epoch #400, avg. loss: 0.00122\n",
      "Step #901, epoch #450, avg. loss: 0.00101\n",
      "Step #1, avg. loss: 1.04340\n",
      "Step #101, epoch #50, avg. loss: 0.12449\n",
      "Step #201, epoch #100, avg. loss: 0.02065\n",
      "Step #301, epoch #150, avg. loss: 0.00787\n",
      "Step #401, epoch #200, avg. loss: 0.00429\n",
      "Step #501, epoch #250, avg. loss: 0.00278\n",
      "Step #601, epoch #300, avg. loss: 0.00199\n",
      "Step #701, epoch #350, avg. loss: 0.00153\n",
      "Step #801, epoch #400, avg. loss: 0.00123\n",
      "Step #901, epoch #450, avg. loss: 0.00102\n",
      "Step #1, avg. loss: 0.99824\n",
      "Step #101, epoch #50, avg. loss: 0.12329\n",
      "Step #201, epoch #100, avg. loss: 0.01987\n",
      "Step #301, epoch #150, avg. loss: 0.00755\n",
      "Step #401, epoch #200, avg. loss: 0.00416\n",
      "Step #501, epoch #250, avg. loss: 0.00271\n",
      "Step #601, epoch #300, avg. loss: 0.00197\n",
      "Step #701, epoch #350, avg. loss: 0.00152\n",
      "Step #801, epoch #400, avg. loss: 0.00122\n",
      "Step #901, epoch #450, avg. loss: 0.00101\n",
      "Step #1, avg. loss: 0.98615\n",
      "Step #101, epoch #50, avg. loss: 0.12577\n",
      "Step #201, epoch #100, avg. loss: 0.02073\n",
      "Step #301, epoch #150, avg. loss: 0.00761\n",
      "Step #401, epoch #200, avg. loss: 0.00409\n",
      "Step #501, epoch #250, avg. loss: 0.00267\n",
      "Step #601, epoch #300, avg. loss: 0.00191\n",
      "Step #701, epoch #350, avg. loss: 0.00147\n",
      "Step #801, epoch #400, avg. loss: 0.00118\n",
      "Step #901, epoch #450, avg. loss: 0.00097\n",
      "Step #1, avg. loss: 0.97513\n",
      "Step #101, epoch #50, avg. loss: 0.11695\n",
      "Step #201, epoch #100, avg. loss: 0.01920\n",
      "Step #301, epoch #150, avg. loss: 0.00729\n",
      "Step #401, epoch #200, avg. loss: 0.00399\n",
      "Step #501, epoch #250, avg. loss: 0.00259\n",
      "Step #601, epoch #300, avg. loss: 0.00187\n",
      "Step #701, epoch #350, avg. loss: 0.00144\n",
      "Step #801, epoch #400, avg. loss: 0.00115\n",
      "Step #901, epoch #450, avg. loss: 0.00095\n",
      "Step #1, avg. loss: 0.98988\n",
      "Step #101, epoch #50, avg. loss: 0.11546\n",
      "Step #201, epoch #100, avg. loss: 0.01896\n",
      "Step #301, epoch #150, avg. loss: 0.00725\n",
      "Step #401, epoch #200, avg. loss: 0.00398\n",
      "Step #501, epoch #250, avg. loss: 0.00256\n",
      "Step #601, epoch #300, avg. loss: 0.00186\n",
      "Step #701, epoch #350, avg. loss: 0.00142\n",
      "Step #801, epoch #400, avg. loss: 0.00113\n",
      "Step #901, epoch #450, avg. loss: 0.00094\n",
      "Step #1, avg. loss: 0.93061\n",
      "Step #101, epoch #50, avg. loss: 0.12135\n",
      "Step #201, epoch #100, avg. loss: 0.01879\n",
      "Step #301, epoch #150, avg. loss: 0.00699\n",
      "Step #401, epoch #200, avg. loss: 0.00383\n",
      "Step #501, epoch #250, avg. loss: 0.00249\n",
      "Step #601, epoch #300, avg. loss: 0.00179\n",
      "Step #701, epoch #350, avg. loss: 0.00139\n",
      "Step #801, epoch #400, avg. loss: 0.00112\n",
      "Step #901, epoch #450, avg. loss: 0.00093\n",
      "Step #1, avg. loss: 0.96476\n",
      "Step #101, epoch #50, avg. loss: 0.11325\n",
      "Step #201, epoch #100, avg. loss: 0.01636\n",
      "Step #301, epoch #150, avg. loss: 0.00616\n",
      "Step #401, epoch #200, avg. loss: 0.00340\n",
      "Step #501, epoch #250, avg. loss: 0.00224\n",
      "Step #601, epoch #300, avg. loss: 0.00161\n",
      "Step #701, epoch #350, avg. loss: 0.00125\n",
      "Step #801, epoch #400, avg. loss: 0.00101\n",
      "Step #901, epoch #450, avg. loss: 0.00084\n",
      "Step #1, avg. loss: 0.92260\n",
      "Step #101, epoch #50, avg. loss: 0.12254\n",
      "Step #201, epoch #100, avg. loss: 0.01870\n",
      "Step #301, epoch #150, avg. loss: 0.00667\n",
      "Step #401, epoch #200, avg. loss: 0.00358\n",
      "Step #501, epoch #250, avg. loss: 0.00232\n",
      "Step #601, epoch #300, avg. loss: 0.00168\n",
      "Step #701, epoch #350, avg. loss: 0.00130\n",
      "Step #801, epoch #400, avg. loss: 0.00105\n",
      "Step #901, epoch #450, avg. loss: 0.00087\n",
      "10-fold CV Acc Mean:  0.925541125541 Scores:  [0.81818181818181823, 1.0, 1.0, 0.95454545454545459, 0.95454545454545459, 0.90909090909090906, 0.90476190476190477, 0.90476190476190477, 0.8571428571428571, 0.95238095238095233]\n"
     ]
    }
   ],
   "source": [
    "classify.do_dnn()"
   ]
  }
 ],
 "metadata": {
  "kernelspec": {
   "display_name": "Python 2",
   "language": "python",
   "name": "python2"
  },
  "language_info": {
   "codemirror_mode": {
    "name": "ipython",
    "version": 2
   },
   "file_extension": ".py",
   "mimetype": "text/x-python",
   "name": "python",
   "nbconvert_exporter": "python",
   "pygments_lexer": "ipython2",
   "version": "2.7.11"
  }
 },
 "nbformat": 4,
 "nbformat_minor": 0
}
