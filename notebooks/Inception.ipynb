{
 "cells": [
  {
   "cell_type": "code",
   "execution_count": 10,
   "metadata": {
    "collapsed": true
   },
   "outputs": [],
   "source": [
    "data_file = \"../experiment_data/new_grass/one_side_1.txt\"\n",
    "\n",
    "import nbformat as nbf\n",
    "\n",
    "nb = nbf.v4.new_notebook()\n",
    "text = \"This is an auto-generated notebook.\"\n",
    "import_cell = \\\n",
    "\"\"\"%matplotlib inline\n",
    "%config InlineBackend.figure_format = 'retina'\n",
    "import sys\n",
    "sys.path.append('../')\n",
    "import utils\"\"\"\n",
    "\n",
    "header_cell = \\\n",
    "\"\"\"CALIBRATION_FILE = \"../calibration/out/cal_1_C_matrix.mat\"\n",
    "DATA_FILE = \"{0}\"\n",
    "utils.print_header(DATA_FILE)\"\"\".format(data_file)\n",
    "\n",
    "robot_info_cell = \\\n",
    "\"\"\"df = utils.process_data_files(DATA_FILE, CALIBRATION_FILE)\n",
    "utils.plot_columns(df, [[\"TorqueL\", \"TorqueR\"], [\"Left Leg Pos\", \"Right Leg Pos\"], [\"RBEMF\", \"LBEMF\"], [\"VMotorR\", \"VMotorL\"], [\"PowerR\", \"PowerL\"], \"VBatt\", \"AngleZ\"], display=True, save_figure=False, output_filename=\"basic.png\")\"\"\"\n",
    "\n",
    "force_torque_cell = \\\n",
    "\"\"\"utils.plot_columns(df, [[\"Fx\", \"Fy\", \"Fz\"], \"F_mag\", [\"Mx\", \"My\", \"Mz\"], \"M_mag\", [\"AX\", \"AY\", \"AZ\"], \"A_mag\", [\"GyroX\", \"GyroY\", \"GyroZ\"], \"Gyro_mag\"], display=True, save_figure=False, output_filename=\"FMAG.png\")\"\"\"\n",
    "\n",
    "nb['cells'] = [nbf.v4.new_markdown_cell(text),\n",
    "               nbf.v4.new_code_cell(import_cell),\n",
    "               nbf.v4.new_code_cell(header_cell),\n",
    "               nbf.v4.new_code_cell(robot_info_cell),\n",
    "               nbf.v4.new_code_cell(force_torque_cell)]\n",
    "\n",
    "fname = 'test.ipynb'\n",
    "\n",
    "with open(fname, 'w') as f:\n",
    "    nbf.write(nb, f)"
   ]
  },
  {
   "cell_type": "code",
   "execution_count": null,
   "metadata": {
    "collapsed": true
   },
   "outputs": [],
   "source": []
  }
 ],
 "metadata": {
  "kernelspec": {
   "display_name": "Python 2",
   "language": "python",
   "name": "python2"
  },
  "language_info": {
   "codemirror_mode": {
    "name": "ipython",
    "version": 2
   },
   "file_extension": ".py",
   "mimetype": "text/x-python",
   "name": "python",
   "nbconvert_exporter": "python",
   "pygments_lexer": "ipython2",
   "version": "2.7.11"
  }
 },
 "nbformat": 4,
 "nbformat_minor": 0
}
