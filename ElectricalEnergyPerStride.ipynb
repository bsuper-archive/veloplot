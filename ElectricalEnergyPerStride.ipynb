{
 "cells": [
  {
   "cell_type": "code",
   "execution_count": 1,
   "metadata": {},
   "outputs": [],
   "source": [
    "%matplotlib inline\n",
    "%config InlineBackend.figure_format = 'retina'\n",
    "import sys\n",
    "sys.path.append('../')\n",
    "import utils\n",
    "import calibration_utils as calibration\n",
    "import matplotlib.pyplot as plt\n",
    "import scipy\n",
    "import seaborn as sns\n",
    "import pandas as pd\n",
    "import numpy as np\n",
    "from scipy import stats\n",
    "import glob\n",
    "\n",
    "CALIBRATION_FILE = 'calibration/out/C.mat'\n",
    "sns.set_style(\"whitegrid\")\n",
    "sns.set_style(\"ticks\",{'axes.grid' : False, 'grid.linestyle': '--', 'grid.color':'black'})\n",
    "sns.set_palette(\"bright\")\n",
    "\n",
    "all_ee= {}"
   ]
  },
  {
   "cell_type": "markdown",
   "metadata": {},
   "source": [
    "# 4cm data files"
   ]
  },
  {
   "cell_type": "code",
   "execution_count": 2,
   "metadata": {},
   "outputs": [
    {
     "name": "stdout",
     "output_type": "stream",
     "text": [
      "5\n",
      "5\n",
      "{0: [(6500, 7500), (10500, 11500)], 1: [(6500, 7500), (10500, 11500)], 2: [(6500, 7500), (11500, 12500)], 3: [(6500, 7500), (10500, 11500)], 4: [(7500, 8500), (11500, 12500)]}\n",
      "electrical energy cont(mJ): 2017.24944007\n",
      "electrical energy cont(mJ): 2015.65436894\n",
      "electrical energy cont(mJ): 2000.36630987\n",
      "electrical energy cont(mJ): 1904.95803975\n",
      "electrical energy cont(mJ): 1920.41565171\n",
      "electrical energy cont(mJ): 1856.5042695\n",
      "electrical energy cont(mJ): 1868.39212626\n",
      "electrical energy cont(mJ): 1959.35207342\n",
      "electrical energy cont(mJ): 2074.48800015\n",
      "electrical energy cont(mJ): 2133.85316515\n",
      "electrical energy cont(mJ): 2041.12655464\n",
      "electrical energy cont(mJ): 1949.79574377\n",
      "electrical energy cont(mJ): 1816.68928924\n",
      "electrical energy cont(mJ): 1852.15732904\n",
      "electrical energy cont(mJ): 1893.12774787\n",
      "electrical energy cont(mJ): 1895.1511994\n",
      "electrical energy cont(mJ): 1706.00970749\n",
      "electrical energy cont(mJ): 1864.24104832\n",
      "electrical energy cont(mJ): 1807.23524062\n",
      "electrical energy cont(mJ): 1789.08592665\n",
      "electrical energy cont(mJ): 1623.24648846\n",
      "5\n",
      "[[2017.2494400716478, 2015.654368937027, 2000.3663098685975, 1904.9580397459877], [1920.4156517145702, 1856.5042694970798, 1868.392126259751, 1959.3520734230951], [2074.4880001547444, 2133.853165151655, 2041.1265546420664, 1949.795743771956, 1816.6892892365108], [1852.157329040377, 1893.1277478681616, 1895.1511994029956, 1706.009707493571], [1864.2410483160897, 1807.235240622136, 1789.0859266544967, 1623.246488456666]]\n",
      "[2017.2494400716478, 2015.654368937027, 2000.3663098685975, 1904.9580397459877, 1920.4156517145702, 1856.5042694970798, 1868.392126259751, 1959.3520734230951, 2074.4880001547444, 2133.853165151655, 2041.1265546420664, 1949.795743771956, 1816.6892892365108, 1852.157329040377, 1893.1277478681616, 1895.1511994029956, 1706.009707493571, 1864.2410483160897, 1807.235240622136, 1789.0859266544967, 1623.246488456666]\n"
     ]
    },
    {
     "name": "stderr",
     "output_type": "stream",
     "text": [
      "/usr/local/lib/python2.7/site-packages/ipykernel_launcher.py:21: FutureWarning: 'argmax' is deprecated, use 'idxmax' instead. The behavior of 'argmax'\n",
      "will be corrected to return the positional maximum in the future.\n",
      "Use 'series.values.argmax' to get the position of the maximum now.\n",
      "/usr/local/lib/python2.7/site-packages/ipykernel_launcher.py:22: FutureWarning: 'argmax' is deprecated, use 'idxmax' instead. The behavior of 'argmax'\n",
      "will be corrected to return the positional maximum in the future.\n",
      "Use 'series.values.argmax' to get the position of the maximum now.\n"
     ]
    }
   ],
   "source": [
    "FOUR_FILES = glob.glob(\"experiment_data/blue_feet/4/important_experiments/*.txt\")\n",
    "print len(FOUR_FILES)\n",
    "FOUR_DFS = map(lambda x: utils.process_data_files(x, CALIBRATION_FILE), FOUR_FILES)\n",
    "print len(FOUR_DFS)\n",
    "# four_cycles = map(utils.get_leg_cycles, FOUR_DFS)\n",
    "# four_cycles_sorted = sorted(four_cycles)\n",
    "# inside_channel=[]\n",
    "\n",
    "interval_times = [[(6500,7500),(10500,11500)],[(6500,7500),(10500,11500)],[(6500,7500),(11500,12500)],\n",
    "                  [(6500,7500),(10500,11500)],[(7500,8500),(11500,12500)]]\n",
    "\n",
    "intervals_dict = {}\n",
    "for i in xrange(len(interval_times)):\n",
    "    intervals_dict[i] = interval_times[i]\n",
    "    \n",
    "print intervals_dict\n",
    "\n",
    "four_ee = []\n",
    "i = 0\n",
    "for df in FOUR_DFS:\n",
    "    start = df['Right Leg Pos'][intervals_dict[i][0][0]:intervals_dict[i][0][1]].argmax()\n",
    "    end = df['Right Leg Pos'][intervals_dict[i][1][0]:intervals_dict[i][1][1]].argmax()\n",
    "    starts = np.arange(start, end, step=1000)\n",
    "    ends = np.arange(start+1000, end+1000, step=1000)\n",
    "    intervals = np.vstack((starts, ends)).T\n",
    "    elec_energies = utils.get_electrical_energy_from_list(df, False, intervals)\n",
    "    four_ee.append(elec_energies)\n",
    "    i+=1\n",
    "\n",
    "print len(four_ee)\n",
    "print four_ee\n",
    "four_ee_flattened=reduce(lambda x,y: x+y,four_ee)\n",
    "print four_ee_flattened\n",
    "all_ee[\"4\"]=four_ee_flattened\n",
    "\n"
   ]
  },
  {
   "cell_type": "markdown",
   "metadata": {},
   "source": [
    "## 6cm"
   ]
  },
  {
   "cell_type": "code",
   "execution_count": 3,
   "metadata": {},
   "outputs": [
    {
     "name": "stdout",
     "output_type": "stream",
     "text": [
      "5\n",
      "5\n",
      "{0: [(6500, 7000), (10000, 11500)], 1: [(6500, 7000), (11000, 11500)], 2: [(6000, 6500), (9500, 10000)], 3: [(6500, 7500), (11000, 11500)], 4: [(6500, 7500), (11000, 12500)]}\n",
      "electrical energy cont(mJ): 2098.40086783\n",
      "electrical energy cont(mJ): 2056.98833064\n",
      "electrical energy cont(mJ): 1955.20104742\n",
      "electrical energy cont(mJ): 1766.99635469\n",
      "electrical energy cont(mJ): 2024.42327193\n",
      "electrical energy cont(mJ): 2150.69411049\n",
      "electrical energy cont(mJ): 2311.80417829\n",
      "electrical energy cont(mJ): 1990.87813994\n",
      "electrical energy cont(mJ): 1821.91533183\n",
      "electrical energy cont(mJ): 1888.35859238\n",
      "electrical energy cont(mJ): 1821.86204135\n",
      "electrical energy cont(mJ): 1901.89199853\n",
      "electrical energy cont(mJ): 1903.05762087\n",
      "electrical energy cont(mJ): 1844.62664822\n",
      "electrical energy cont(mJ): 1963.54661547\n",
      "electrical energy cont(mJ): 1640.89339248\n",
      "electrical energy cont(mJ): 1810.85452251\n",
      "electrical energy cont(mJ): 1817.653164\n",
      "electrical energy cont(mJ): 1927.91739873\n",
      "electrical energy cont(mJ): 1933.91632065\n",
      "electrical energy cont(mJ): 1837.18233848\n",
      "electrical energy cont(mJ): 2004.54198326\n",
      "electrical energy cont(mJ): 1931.64077904\n",
      "5\n",
      "[[2098.400867830059, 2056.988330641222, 1955.201047415826, 1766.9963546861093], [2024.4232719335537, 2150.6941104929783, 2311.804178292913, 1990.8781399368581, 1821.9153318345323], [1888.3585923844798, 1821.862041350901, 1901.8919985285663, 1903.057620870268], [1844.6266482222973, 1963.5466154668816, 1640.8933924753214, 1810.8545225121327, 1817.653164002837], [1927.9173987318404, 1933.9163206541793, 1837.1823384804172, 2004.5419832619318, 1931.6407790403446]]\n",
      "[2098.400867830059, 2056.988330641222, 1955.201047415826, 1766.9963546861093, 2024.4232719335537, 2150.6941104929783, 2311.804178292913, 1990.8781399368581, 1821.9153318345323, 1888.3585923844798, 1821.862041350901, 1901.8919985285663, 1903.057620870268, 1844.6266482222973, 1963.5466154668816, 1640.8933924753214, 1810.8545225121327, 1817.653164002837, 1927.9173987318404, 1933.9163206541793, 1837.1823384804172, 2004.5419832619318, 1931.6407790403446]\n"
     ]
    },
    {
     "name": "stderr",
     "output_type": "stream",
     "text": [
      "/usr/local/lib/python2.7/site-packages/ipykernel_launcher.py:18: FutureWarning: 'argmax' is deprecated, use 'idxmax' instead. The behavior of 'argmax'\n",
      "will be corrected to return the positional maximum in the future.\n",
      "Use 'series.values.argmax' to get the position of the maximum now.\n",
      "/usr/local/lib/python2.7/site-packages/ipykernel_launcher.py:19: FutureWarning: 'argmax' is deprecated, use 'idxmax' instead. The behavior of 'argmax'\n",
      "will be corrected to return the positional maximum in the future.\n",
      "Use 'series.values.argmax' to get the position of the maximum now.\n"
     ]
    }
   ],
   "source": [
    "SIX_FILES = glob.glob(\"experiment_data/blue_feet/6/important_experiments/*.txt\")\n",
    "print len(SIX_FILES)\n",
    "SIX_DFS = map(lambda x: utils.process_data_files(x, CALIBRATION_FILE), SIX_FILES)\n",
    "print len(SIX_DFS)\n",
    "\n",
    "interval_times = [[(6500,7000),(10000,11500)],[(6500,7000),(11000,11500)],[(6000,6500),(9500,10000)],\n",
    "                  [(6500,7500),(11000,11500)],[(6500,7500),(11000,12500)]]\n",
    "\n",
    "intervals_dict = {}\n",
    "for i in xrange(len(interval_times)):\n",
    "    intervals_dict[i] = interval_times[i]\n",
    "    \n",
    "print intervals_dict\n",
    "\n",
    "six_ee = []\n",
    "i = 0\n",
    "for df in SIX_DFS:\n",
    "    start = df['Right Leg Pos'][intervals_dict[i][0][0]:intervals_dict[i][0][1]].argmax()\n",
    "    end = df['Right Leg Pos'][intervals_dict[i][1][0]:intervals_dict[i][1][1]].argmax()\n",
    "    starts = np.arange(start, end, step=1000)\n",
    "    ends = np.arange(start+1000, end+1000, step=1000)\n",
    "    intervals = np.vstack((starts, ends)).T\n",
    "    elec_energies = utils.get_electrical_energy_from_list(df, False, intervals)\n",
    "    six_ee.append(elec_energies)\n",
    "    i+=1\n",
    "\n",
    "print len(six_ee)\n",
    "print six_ee\n",
    "six_ee_flattened=reduce(lambda x,y: x+y,six_ee)\n",
    "print six_ee_flattened\n",
    "all_ee[\"6\"]=six_ee_flattened"
   ]
  },
  {
   "cell_type": "markdown",
   "metadata": {},
   "source": [
    "## 8cm"
   ]
  },
  {
   "cell_type": "code",
   "execution_count": 4,
   "metadata": {},
   "outputs": [
    {
     "name": "stdout",
     "output_type": "stream",
     "text": [
      "5\n",
      "5\n",
      "{0: [(6000, 7500), (10000, 11500)], 1: [(6000, 7500), (10000, 11500)], 2: [(3000, 3500), (8000, 10000)], 3: [(4000, 5500), (9000, 9500)], 4: [(6000, 6500), (9000, 10000)]}\n",
      "electrical energy cont(mJ): 1833.84263528\n",
      "electrical energy cont(mJ): 1621.1850896\n",
      "electrical energy cont(mJ): 1825.79140117\n",
      "electrical energy cont(mJ): 1614.08847034\n",
      "electrical energy cont(mJ): 1862.29447121\n",
      "electrical energy cont(mJ): 1686.34544798\n",
      "electrical energy cont(mJ): 1986.81253915\n",
      "electrical energy cont(mJ): 1884.87321992\n",
      "electrical energy cont(mJ): 1917.60579868\n",
      "electrical energy cont(mJ): 1821.31641252\n",
      "electrical energy cont(mJ): 1621.79563187\n",
      "electrical energy cont(mJ): 1928.39580049\n",
      "electrical energy cont(mJ): 1702.39031826\n",
      "electrical energy cont(mJ): 2113.06277032\n",
      "electrical energy cont(mJ): 1779.44541408\n",
      "electrical energy cont(mJ): 1570.74957808\n",
      "electrical energy cont(mJ): 1495.63780377\n",
      "electrical energy cont(mJ): 1719.74622685\n",
      "electrical energy cont(mJ): 1819.53427641\n",
      "electrical energy cont(mJ): 1718.15916921\n",
      "electrical energy cont(mJ): 1695.93077777\n",
      "electrical energy cont(mJ): 1758.841073\n",
      "electrical energy cont(mJ): 1537.08401895\n",
      "5\n",
      "[[1833.8426352759348, 1621.1850896045153, 1825.7914011675443, 1614.088470337892], [1862.2944712124363, 1686.3454479781874, 1986.8125391525325, 1884.8732199225433], [1917.6057986759477, 1821.3164125223543, 1621.7956318676017, 1928.3958004887959, 1702.3903182645827, 2113.0627703232576], [1779.4454140835257, 1570.749578080621, 1495.6378037711424, 1719.7462268527368, 1819.5342764141265], [1718.1591692132151, 1695.9307777693728, 1758.8410730020241, 1537.084018953185]]\n",
      "[1833.8426352759348, 1621.1850896045153, 1825.7914011675443, 1614.088470337892, 1862.2944712124363, 1686.3454479781874, 1986.8125391525325, 1884.8732199225433, 1917.6057986759477, 1821.3164125223543, 1621.7956318676017, 1928.3958004887959, 1702.3903182645827, 2113.0627703232576, 1779.4454140835257, 1570.749578080621, 1495.6378037711424, 1719.7462268527368, 1819.5342764141265, 1718.1591692132151, 1695.9307777693728, 1758.8410730020241, 1537.084018953185]\n"
     ]
    },
    {
     "name": "stderr",
     "output_type": "stream",
     "text": [
      "/usr/local/lib/python2.7/site-packages/ipykernel_launcher.py:18: FutureWarning: 'argmax' is deprecated, use 'idxmax' instead. The behavior of 'argmax'\n",
      "will be corrected to return the positional maximum in the future.\n",
      "Use 'series.values.argmax' to get the position of the maximum now.\n",
      "/usr/local/lib/python2.7/site-packages/ipykernel_launcher.py:19: FutureWarning: 'argmax' is deprecated, use 'idxmax' instead. The behavior of 'argmax'\n",
      "will be corrected to return the positional maximum in the future.\n",
      "Use 'series.values.argmax' to get the position of the maximum now.\n"
     ]
    }
   ],
   "source": [
    "EIGHT_FILES = glob.glob(\"experiment_data/blue_feet/8/important_experiments/*.txt\")\n",
    "print len(EIGHT_FILES)\n",
    "EIGHT_DFS = map(lambda x: utils.process_data_files(x, CALIBRATION_FILE), EIGHT_FILES)\n",
    "print len(EIGHT_DFS)\n",
    "\n",
    "interval_times = [[(6000,7500),(10000,11500)],[(6000,7500),(10000,11500)],[(3000,3500),(8000,10000)],\n",
    "                  [(4000,5500),(9000,9500)],[(6000,6500),(9000,10000)]]\n",
    "\n",
    "intervals_dict = {}\n",
    "for i in xrange(len(interval_times)):\n",
    "    intervals_dict[i] = interval_times[i]\n",
    "    \n",
    "print intervals_dict\n",
    "\n",
    "eight_ee = []\n",
    "i = 0\n",
    "for df in EIGHT_DFS:\n",
    "    start = df['Right Leg Pos'][intervals_dict[i][0][0]:intervals_dict[i][0][1]].argmax()\n",
    "    end = df['Right Leg Pos'][intervals_dict[i][1][0]:intervals_dict[i][1][1]].argmax()\n",
    "    starts = np.arange(start, end, step=1000)\n",
    "    ends = np.arange(start+1000, end+1000, step=1000)\n",
    "    intervals = np.vstack((starts, ends)).T\n",
    "    elec_energies = utils.get_electrical_energy_from_list(df, False, intervals)\n",
    "    eight_ee.append(elec_energies)\n",
    "    i+=1\n",
    "\n",
    "print len(eight_ee)\n",
    "print eight_ee\n",
    "eight_ee_flattened=reduce(lambda x,y: x+y,eight_ee)\n",
    "print eight_ee_flattened\n",
    "all_ee[\"8\"]=eight_ee_flattened"
   ]
  },
  {
   "cell_type": "markdown",
   "metadata": {},
   "source": [
    "## 10 cm"
   ]
  },
  {
   "cell_type": "code",
   "execution_count": 5,
   "metadata": {},
   "outputs": [
    {
     "name": "stdout",
     "output_type": "stream",
     "text": [
      "5\n",
      "5\n",
      "{0: [(4000, 4500), (7500, 8500)], 1: [(4000, 4500), (7500, 8500)], 2: [(5500, 6500), (9000, 9500)], 3: [(7500, 8500), (11000, 11500)], 4: [(3000, 4500), (7000, 7500)]}\n",
      "electrical energy cont(mJ): 2011.96818765\n",
      "electrical energy cont(mJ): 1918.04955199\n",
      "electrical energy cont(mJ): 1900.95381518\n",
      "electrical energy cont(mJ): 1913.92165265\n",
      "electrical energy cont(mJ): 2292.52590682\n",
      "electrical energy cont(mJ): 2165.02272519\n",
      "electrical energy cont(mJ): 2034.40180767\n",
      "electrical energy cont(mJ): 2262.56340515\n",
      "electrical energy cont(mJ): 2170.01136441\n",
      "electrical energy cont(mJ): 2097.3561546\n",
      "electrical energy cont(mJ): 2023.7506684\n",
      "electrical energy cont(mJ): 2168.49268737\n",
      "electrical energy cont(mJ): 1881.92341392\n",
      "electrical energy cont(mJ): 1955.73448828\n",
      "electrical energy cont(mJ): 2078.63167607\n",
      "electrical energy cont(mJ): 1255.88246804\n",
      "electrical energy cont(mJ): 1934.28822042\n",
      "electrical energy cont(mJ): 1700.55978696\n",
      "electrical energy cont(mJ): 1874.10023757\n",
      "electrical energy cont(mJ): 1843.29045482\n",
      "5\n",
      "[[2011.9681876514087, 1918.0495519913493, 1900.953815181358, 1913.9216526493642], [2292.5259068181094, 2165.0227251874317, 2034.4018076699049, 2262.5634051455254], [2170.0113644127905, 2097.356154599635, 2023.7506683980469, 2168.492687372617], [1881.9234139173955, 1955.7344882774205, 2078.6316760748887, 1255.8824680447078], [1934.288220423801, 1700.5597869629728, 1874.100237565134, 1843.290454815204]]\n",
      "[2011.9681876514087, 1918.0495519913493, 1900.953815181358, 1913.9216526493642, 2292.5259068181094, 2165.0227251874317, 2034.4018076699049, 2262.5634051455254, 2170.0113644127905, 2097.356154599635, 2023.7506683980469, 2168.492687372617, 1881.9234139173955, 1955.7344882774205, 2078.6316760748887, 1255.8824680447078, 1934.288220423801, 1700.5597869629728, 1874.100237565134, 1843.290454815204]\n"
     ]
    },
    {
     "name": "stderr",
     "output_type": "stream",
     "text": [
      "/usr/local/lib/python2.7/site-packages/ipykernel_launcher.py:18: FutureWarning: 'argmax' is deprecated, use 'idxmax' instead. The behavior of 'argmax'\n",
      "will be corrected to return the positional maximum in the future.\n",
      "Use 'series.values.argmax' to get the position of the maximum now.\n",
      "/usr/local/lib/python2.7/site-packages/ipykernel_launcher.py:19: FutureWarning: 'argmax' is deprecated, use 'idxmax' instead. The behavior of 'argmax'\n",
      "will be corrected to return the positional maximum in the future.\n",
      "Use 'series.values.argmax' to get the position of the maximum now.\n"
     ]
    }
   ],
   "source": [
    "TEN_FILES = glob.glob(\"experiment_data/blue_feet/10/important_experiments/*.txt\")\n",
    "print len(TEN_FILES)\n",
    "TEN_DFS = map(lambda x: utils.process_data_files(x, CALIBRATION_FILE), TEN_FILES)\n",
    "print len(TEN_DFS)\n",
    "\n",
    "interval_times = [[(4000,4500),(7500,8500)],[(4000,4500),(7500,8500)],[(5500,6500),(9000,9500)],\n",
    "                  [(7500,8500),(11000,11500)],[(3000,4500),(7000,7500)]]\n",
    "\n",
    "intervals_dict = {}\n",
    "for i in xrange(len(interval_times)):\n",
    "    intervals_dict[i] = interval_times[i]\n",
    "    \n",
    "print intervals_dict\n",
    "\n",
    "ten_ee = []\n",
    "i = 0\n",
    "for df in TEN_DFS:\n",
    "    start = df['Right Leg Pos'][intervals_dict[i][0][0]:intervals_dict[i][0][1]].argmax()\n",
    "    end = df['Right Leg Pos'][intervals_dict[i][1][0]:intervals_dict[i][1][1]].argmax()\n",
    "    starts = np.arange(start, end, step=1000)\n",
    "    ends = np.arange(start+1000, end+1000, step=1000)\n",
    "    intervals = np.vstack((starts, ends)).T\n",
    "    elec_energies = utils.get_electrical_energy_from_list(df, False, intervals)\n",
    "    ten_ee.append(elec_energies)\n",
    "    i+=1\n",
    "\n",
    "print len(ten_ee)\n",
    "print ten_ee\n",
    "ten_ee_flattened=reduce(lambda x,y: x+y,ten_ee)\n",
    "print ten_ee_flattened\n",
    "all_ee[\"10\"]=ten_ee_flattened"
   ]
  },
  {
   "cell_type": "markdown",
   "metadata": {},
   "source": [
    "## 14 cm (free)"
   ]
  },
  {
   "cell_type": "code",
   "execution_count": 6,
   "metadata": {},
   "outputs": [
    {
     "name": "stdout",
     "output_type": "stream",
     "text": [
      "7\n",
      "7\n",
      "{0: [(3500, 4500), (6500, 7000)], 1: [(3500, 4500), (6500, 7000)], 2: [(3500, 4500), (6500, 7000)], 3: [(3500, 4500), (6500, 7000)]}\n",
      "electrical energy cont(mJ): 2131.02823344\n",
      "electrical energy cont(mJ): 2164.09627182\n",
      "electrical energy cont(mJ): 2137.14779417\n",
      "electrical energy cont(mJ): 2187.61111253\n",
      "electrical energy cont(mJ): 1841.36428573\n",
      "electrical energy cont(mJ): 1930.92495607\n",
      "electrical energy cont(mJ): 1919.95426225\n",
      "electrical energy cont(mJ): 1840.68919096\n",
      "electrical energy cont(mJ): 0.0\n",
      "electrical energy cont(mJ): 0.0\n",
      "electrical energy cont(mJ): 0.0\n",
      "electrical energy cont(mJ): 0.0\n",
      "electrical energy cont(mJ): 1868.7632241\n",
      "electrical energy cont(mJ): 1900.39252329\n",
      "electrical energy cont(mJ): 1865.81069436\n",
      "electrical energy cont(mJ): 1904.04064847\n"
     ]
    },
    {
     "name": "stderr",
     "output_type": "stream",
     "text": [
      "/usr/local/lib/python2.7/site-packages/ipykernel_launcher.py:18: FutureWarning: 'argmax' is deprecated, use 'idxmax' instead. The behavior of 'argmax'\n",
      "will be corrected to return the positional maximum in the future.\n",
      "Use 'series.values.argmax' to get the position of the maximum now.\n",
      "/usr/local/lib/python2.7/site-packages/ipykernel_launcher.py:19: FutureWarning: 'argmax' is deprecated, use 'idxmax' instead. The behavior of 'argmax'\n",
      "will be corrected to return the positional maximum in the future.\n",
      "Use 'series.values.argmax' to get the position of the maximum now.\n"
     ]
    },
    {
     "ename": "KeyError",
     "evalue": "4",
     "output_type": "error",
     "traceback": [
      "\u001b[0;31m---------------------------------------------------------------------------\u001b[0m",
      "\u001b[0;31mKeyError\u001b[0m                                  Traceback (most recent call last)",
      "\u001b[0;32m<ipython-input-6-1291ccc50872>\u001b[0m in \u001b[0;36m<module>\u001b[0;34m()\u001b[0m\n\u001b[1;32m     16\u001b[0m \u001b[0mi\u001b[0m \u001b[0;34m=\u001b[0m \u001b[0;36m0\u001b[0m\u001b[0;34m\u001b[0m\u001b[0m\n\u001b[1;32m     17\u001b[0m \u001b[0;32mfor\u001b[0m \u001b[0mdf\u001b[0m \u001b[0;32min\u001b[0m \u001b[0mFOURTEEN_DFS\u001b[0m\u001b[0;34m:\u001b[0m\u001b[0;34m\u001b[0m\u001b[0m\n\u001b[0;32m---> 18\u001b[0;31m     \u001b[0mstart\u001b[0m \u001b[0;34m=\u001b[0m \u001b[0mdf\u001b[0m\u001b[0;34m[\u001b[0m\u001b[0;34m'Right Leg Pos'\u001b[0m\u001b[0;34m]\u001b[0m\u001b[0;34m[\u001b[0m\u001b[0mintervals_dict\u001b[0m\u001b[0;34m[\u001b[0m\u001b[0mi\u001b[0m\u001b[0;34m]\u001b[0m\u001b[0;34m[\u001b[0m\u001b[0;36m0\u001b[0m\u001b[0;34m]\u001b[0m\u001b[0;34m[\u001b[0m\u001b[0;36m0\u001b[0m\u001b[0;34m]\u001b[0m\u001b[0;34m:\u001b[0m\u001b[0mintervals_dict\u001b[0m\u001b[0;34m[\u001b[0m\u001b[0mi\u001b[0m\u001b[0;34m]\u001b[0m\u001b[0;34m[\u001b[0m\u001b[0;36m0\u001b[0m\u001b[0;34m]\u001b[0m\u001b[0;34m[\u001b[0m\u001b[0;36m1\u001b[0m\u001b[0;34m]\u001b[0m\u001b[0;34m]\u001b[0m\u001b[0;34m.\u001b[0m\u001b[0margmax\u001b[0m\u001b[0;34m(\u001b[0m\u001b[0;34m)\u001b[0m\u001b[0;34m\u001b[0m\u001b[0m\n\u001b[0m\u001b[1;32m     19\u001b[0m     \u001b[0mend\u001b[0m \u001b[0;34m=\u001b[0m \u001b[0mdf\u001b[0m\u001b[0;34m[\u001b[0m\u001b[0;34m'Right Leg Pos'\u001b[0m\u001b[0;34m]\u001b[0m\u001b[0;34m[\u001b[0m\u001b[0mintervals_dict\u001b[0m\u001b[0;34m[\u001b[0m\u001b[0mi\u001b[0m\u001b[0;34m]\u001b[0m\u001b[0;34m[\u001b[0m\u001b[0;36m1\u001b[0m\u001b[0;34m]\u001b[0m\u001b[0;34m[\u001b[0m\u001b[0;36m0\u001b[0m\u001b[0;34m]\u001b[0m\u001b[0;34m:\u001b[0m\u001b[0mintervals_dict\u001b[0m\u001b[0;34m[\u001b[0m\u001b[0mi\u001b[0m\u001b[0;34m]\u001b[0m\u001b[0;34m[\u001b[0m\u001b[0;36m1\u001b[0m\u001b[0;34m]\u001b[0m\u001b[0;34m[\u001b[0m\u001b[0;36m1\u001b[0m\u001b[0;34m]\u001b[0m\u001b[0;34m]\u001b[0m\u001b[0;34m.\u001b[0m\u001b[0margmax\u001b[0m\u001b[0;34m(\u001b[0m\u001b[0;34m)\u001b[0m\u001b[0;34m\u001b[0m\u001b[0m\n\u001b[1;32m     20\u001b[0m     \u001b[0mstarts\u001b[0m \u001b[0;34m=\u001b[0m \u001b[0mnp\u001b[0m\u001b[0;34m.\u001b[0m\u001b[0marange\u001b[0m\u001b[0;34m(\u001b[0m\u001b[0mstart\u001b[0m\u001b[0;34m,\u001b[0m \u001b[0mend\u001b[0m\u001b[0;34m,\u001b[0m \u001b[0mstep\u001b[0m\u001b[0;34m=\u001b[0m\u001b[0;36m1000\u001b[0m\u001b[0;34m)\u001b[0m\u001b[0;34m\u001b[0m\u001b[0m\n",
      "\u001b[0;31mKeyError\u001b[0m: 4"
     ]
    }
   ],
   "source": [
    "FOURTEEN_FILES = glob.glob(\"experiment_data/blue_feet/test_chasis_movement/14/important_experiments/*.txt\")\n",
    "print len(FOURTEEN_FILES)\n",
    "FOURTEEN_DFS = map(lambda x: utils.process_data_files(x, CALIBRATION_FILE), FOURTEEN_FILES)\n",
    "print len(FOURTEEN_DFS)\n",
    "\n",
    "interval_times = [[(3500,4500),(6500,7000)],[(3500,4500),(6500,7000)],[(3500,4500),(6500,7000)],\n",
    "                  [(3500,4500),(6500,7000)]]\n",
    "\n",
    "intervals_dict = {}\n",
    "for i in xrange(len(interval_times)):\n",
    "    intervals_dict[i] = interval_times[i]\n",
    "    \n",
    "print intervals_dict\n",
    "\n",
    "fourteen_ee = []\n",
    "i = 0\n",
    "for df in FOURTEEN_DFS:\n",
    "    start = df['Right Leg Pos'][intervals_dict[i][0][0]:intervals_dict[i][0][1]].argmax()\n",
    "    end = df['Right Leg Pos'][intervals_dict[i][1][0]:intervals_dict[i][1][1]].argmax()\n",
    "    starts = np.arange(start, end, step=1000)\n",
    "    ends = np.arange(start+1000, end+1000, step=1000)\n",
    "    intervals = np.vstack((starts, ends)).T\n",
    "#     df['Fx'] = df['Fx'] - utils.fit_line_to_single_column(df,display=False)\n",
    "    elec_energies = utils.get_electrical_energy_from_list(df, False, intervals)\n",
    "    fourteen_ee.append(elec_energies)\n",
    "    i+=1\n",
    "\n",
    "print len(fourteen_ee)\n",
    "print fourteen_ee\n",
    "fourteen_ee_flattened=reduce(lambda x,y: x+y,fourteen_ee)\n",
    "print fourteen_ee_flattened\n",
    "all_ee[\"free\"]=fourteen_ee_flattened"
   ]
  },
  {
   "cell_type": "code",
   "execution_count": null,
   "metadata": {},
   "outputs": [],
   "source": [
    "ee=all_ee\n",
    "# plt.title(\"Cost of Transport/Stride for 4, 6, 8, 10, and 12cm (free)\")\n",
    "ax = plt.axes()\n",
    "ax.xaxis.grid(True)\n",
    "# plt.scatter([4]*len(cot['4']), cot['4'], s=100)\n",
    "# plt.scatter([6]*len(cot['6']), cot['6'], s=100)\n",
    "# plt.scatter([8]*len(cot['8']), cot['8'], s=100)\n",
    "# plt.scatter([10]*len(cot['10']), cot['10'], s=100)\n",
    "# plt.scatter([12]*len(cot['free']), cot['free'], s=100)\n",
    "my_xticks=[\"free\",\"0\",\"1\",\"2\",\"3\"]\n",
    "plt.scatter([3]*len(ee['4']), ee['4'], s=100,c='b')\n",
    "plt.scatter([2]*len(ee['6']), ee['6'], s=100,c='b')\n",
    "plt.scatter([1]*len(ee['8']), ee['8'], s=100,c='b')\n",
    "plt.scatter([0]*len(ee['10']), ee['10'], s=100,c='b')\n",
    "plt.scatter([-1]*len(ee['free']), ee['free'], s=100,c='b')\n",
    "# plt.rc('grid', linestyle=\":\", color='black')\n",
    "xfont = {'fontname':'Times New Roman'}\n",
    "ax.set_ylabel(\"Electrical Energy Per Stride (mJ)\",fontdict=xfont, fontsize=26)\n",
    "ax.set_xlabel(\"Deflection (cm)\",fontdict=xfont,fontsize=26)\n",
    "ax.tick_params(axis='both', which='both', labelsize=26)\n",
    "ax.set_xticks((-1,0,1,2,3))\n",
    "ax.set_xticklabels(my_xticks)\n",
    "\n",
    "fontProperties = {'family':'Times New Roman',\n",
    "    'weight' : 'normal', 'size' : 24}\n",
    "ax.set_xticklabels(ax.get_xticks(), fontProperties)\n",
    "ax.set_yticklabels([int(x) for x in ax.get_yticks()], fontProperties)\n"
   ]
  },
  {
   "cell_type": "code",
   "execution_count": null,
   "metadata": {},
   "outputs": [],
   "source": []
  }
 ],
 "metadata": {
  "kernelspec": {
   "display_name": "Python 2",
   "language": "python",
   "name": "python2"
  },
  "language_info": {
   "codemirror_mode": {
    "name": "ipython",
    "version": 2
   },
   "file_extension": ".py",
   "mimetype": "text/x-python",
   "name": "python",
   "nbconvert_exporter": "python",
   "pygments_lexer": "ipython2",
   "version": "2.7.15"
  }
 },
 "nbformat": 4,
 "nbformat_minor": 2
}
