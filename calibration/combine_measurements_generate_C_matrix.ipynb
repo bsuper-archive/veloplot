{
 "cells": [
  {
   "cell_type": "code",
   "execution_count": 1,
   "metadata": {
    "collapsed": true
   },
   "outputs": [],
   "source": [
    "%matplotlib inline\n",
    "%config InlineBackend.figure_format = 'retina'\n",
    "import sys\n",
    "sys.path.append('../')\n",
    "import numpy as np\n",
    "from scipy.io import loadmat\n",
    "import utils\n",
    "import calibration_utils as calibration\n",
    "import matplotlib.pyplot as plt\n",
    "import scipy\n",
    "import pandas as pd"
   ]
  },
  {
   "cell_type": "code",
   "execution_count": 2,
   "metadata": {
    "collapsed": true
   },
   "outputs": [],
   "source": [
    "# specify the root directory of the M and S files from individual measurements\n",
    "MS_FILES_ROOT = \"./out/\"\n",
    "# specify the names of the measurements in a list\n",
    "# TODO: in the future just put the M and S files in a directory and using glob.glob do this.\n",
    "measurements = [\"new_cal_2\", \"new_cal_4\"]"
   ]
  },
  {
   "cell_type": "code",
   "execution_count": 3,
   "metadata": {
    "collapsed": false
   },
   "outputs": [
    {
     "name": "stdout",
     "output_type": "stream",
     "text": [
      "combined M shape: (77522, 6)\n",
      "combined S shape: (77522, 8)\n",
      "saved new M, S to: ./out/\n"
     ]
    }
   ],
   "source": [
    "M,S = calibration.combine_measurements_and_save(measurements, MS_FILES_ROOT)"
   ]
  },
  {
   "cell_type": "code",
   "execution_count": 4,
   "metadata": {
    "collapsed": false
   },
   "outputs": [
    {
     "name": "stdout",
     "output_type": "stream",
     "text": [
      "(77522, 6)\n",
      "(77522, 8)\n"
     ]
    }
   ],
   "source": [
    "# try shuffling and see what it does\n",
    "M_shuffled = np.random.permutation(M)\n",
    "S_shuffled = np.random.permutation(S)\n",
    "print M_shuffled.shape\n",
    "print S_shuffled.shape"
   ]
  },
  {
   "cell_type": "code",
   "execution_count": 5,
   "metadata": {
    "collapsed": false
   },
   "outputs": [
    {
     "name": "stdout",
     "output_type": "stream",
     "text": [
      "=== S_24 shape:(77522, 24) ===\n",
      "=== least squares fit DONE ===\n",
      "=== C shape: (24, 6) ===\n"
     ]
    }
   ],
   "source": [
    "C = calibration.least_squares_fit(M,S)"
   ]
  },
  {
   "cell_type": "code",
   "execution_count": 6,
   "metadata": {
    "collapsed": true
   },
   "outputs": [],
   "source": [
    "# scipy.io.savemat(\"./out/concatenated_\" + \"_\".join(measurements) + \"_C_matrix.mat\", {\"C\":C})\n",
    "scipy.io.savemat(\"./out/shuffled_\" + \"_\".join(measurements) + \"_C_matrix.mat\", {\"C\":C})"
   ]
  }
 ],
 "metadata": {
  "kernelspec": {
   "display_name": "Python 2",
   "language": "python",
   "name": "python2"
  },
  "language_info": {
   "codemirror_mode": {
    "name": "ipython",
    "version": 2
   },
   "file_extension": ".py",
   "mimetype": "text/x-python",
   "name": "python",
   "nbconvert_exporter": "python",
   "pygments_lexer": "ipython2",
   "version": "2.7.11"
  }
 },
 "nbformat": 4,
 "nbformat_minor": 0
}
