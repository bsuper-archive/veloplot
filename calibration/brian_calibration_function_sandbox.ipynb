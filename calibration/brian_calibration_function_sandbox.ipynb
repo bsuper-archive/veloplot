{
 "cells": [
  {
   "cell_type": "code",
   "execution_count": 1,
   "metadata": {
    "collapsed": false
   },
   "outputs": [
    {
     "ename": "SyntaxError",
     "evalue": "invalid syntax (calibration_utils.py, line 106)",
     "output_type": "error",
     "traceback": [
      "\u001b[0;36m  File \u001b[0;32m\"../calibration_utils.py\"\u001b[0;36m, line \u001b[0;32m106\u001b[0m\n\u001b[0;31m    def calculate_mse()\u001b[0m\n\u001b[0m                       ^\u001b[0m\n\u001b[0;31mSyntaxError\u001b[0m\u001b[0;31m:\u001b[0m invalid syntax\n"
     ]
    }
   ],
   "source": [
    "%matplotlib inline\n",
    "%config InlineBackend.figure_format = 'retina'\n",
    "import sys\n",
    "import os\n",
    "import pandas as pd\n",
    "import numpy as np\n",
    "sys.path.append('../')\n",
    "import utils\n",
    "import calibration_utils as calibration\n",
    "import scipy\n",
    "import matplotlib.pyplot as plt"
   ]
  },
  {
   "cell_type": "code",
   "execution_count": null,
   "metadata": {
    "collapsed": true
   },
   "outputs": [],
   "source": [
    "MEASUREMENT = \"cal_1\"\n",
    "SENSORS_CSV_FILE = \"./out/\" + MEASUREMENT + \"_S.csv\"\n",
    "CALIBRATION_MAT_FILE = \"./out/\" + MEASUREMENT + \"_C_matrix.mat\""
   ]
  },
  {
   "cell_type": "code",
   "execution_count": null,
   "metadata": {
    "collapsed": false
   },
   "outputs": [],
   "source": [
    "df = pd.read_csv(SENSORS_CSV_FILE)\n",
    "df = df.drop(df.columns[0], axis=1)"
   ]
  },
  {
   "cell_type": "code",
   "execution_count": null,
   "metadata": {
    "collapsed": false
   },
   "outputs": [],
   "source": [
    "df.head(10)"
   ]
  },
  {
   "cell_type": "code",
   "execution_count": null,
   "metadata": {
    "collapsed": false
   },
   "outputs": [],
   "source": [
    "df.shape"
   ]
  },
  {
   "cell_type": "code",
   "execution_count": 3,
   "metadata": {
    "collapsed": true
   },
   "outputs": [],
   "source": [
    "def process_sensors_file(sensors_csv_file, calibration_mat_file):\n",
    "    \"\"\"\n",
    "    Process csv telemetry file with only S1-S8 sensors output.\n",
    "    Using these sensor values and calibration matrix, \n",
    "    generate force/torque/moments and return a dataframe of cols\n",
    "    [\"Fx\", \"Fy\", \"Fz\", \"Mx\", \"My\", \"Mz]\n",
    "    \n",
    "    Args:\n",
    "        sensors_csv_file: csv file containing S1-S8 raw sensor values\n",
    "        calibration_mat_file: calibration matrix\n",
    "    Returns:\n",
    "        pandas DataFrame object containing the data points\n",
    "        and forces and moments of shape (N, 6)        \n",
    "    \"\"\"\n",
    "    df = pd.read_csv(SENSORS_CSV_FILE)\n",
    "    df = df.drop(df.columns[0], axis=1) # df is of (N, 8) shape\n",
    "    \n",
    "    ## FILL IN THE FUNCTION ##\n",
    "    calibration = scipy.io.loadmat(CALIBRATION_MAT_FILE)['C']\n",
    "    utils.add_forces_moments(df, calibration)\n",
    "    \n",
    "    return df"
   ]
  },
  {
   "cell_type": "code",
   "execution_count": 4,
   "metadata": {
    "collapsed": false
   },
   "outputs": [
    {
     "ename": "NameError",
     "evalue": "name 'SENSORS_CSV_FILE' is not defined",
     "output_type": "error",
     "traceback": [
      "\u001b[0;31m---------------------------------------------------------------------------\u001b[0m",
      "\u001b[0;31mNameError\u001b[0m                                 Traceback (most recent call last)",
      "\u001b[0;32m<ipython-input-4-329332f90540>\u001b[0m in \u001b[0;36m<module>\u001b[0;34m()\u001b[0m\n\u001b[0;32m----> 1\u001b[0;31m \u001b[0mresult\u001b[0m \u001b[0;34m=\u001b[0m \u001b[0mprocess_sensors_file\u001b[0m\u001b[0;34m(\u001b[0m\u001b[0mSENSORS_CSV_FILE\u001b[0m\u001b[0;34m,\u001b[0m \u001b[0mCALIBRATION_MAT_FILE\u001b[0m\u001b[0;34m)\u001b[0m\u001b[0;34m\u001b[0m\u001b[0m\n\u001b[0m\u001b[1;32m      2\u001b[0m \u001b[0mresult\u001b[0m\u001b[0;34m.\u001b[0m\u001b[0mhead\u001b[0m\u001b[0;34m(\u001b[0m\u001b[0;34m)\u001b[0m\u001b[0;34m\u001b[0m\u001b[0m\n",
      "\u001b[0;31mNameError\u001b[0m: name 'SENSORS_CSV_FILE' is not defined"
     ]
    }
   ],
   "source": [
    "result = process_sensors_file(SENSORS_CSV_FILE, CALIBRATION_MAT_FILE)\n",
    "result.head()"
   ]
  },
  {
   "cell_type": "code",
   "execution_count": null,
   "metadata": {
    "collapsed": true
   },
   "outputs": [],
   "source": []
  }
 ],
 "metadata": {
  "kernelspec": {
   "display_name": "Python 2",
   "language": "python",
   "name": "python2"
  },
  "language_info": {
   "codemirror_mode": {
    "name": "ipython",
    "version": 2
   },
   "file_extension": ".py",
   "mimetype": "text/x-python",
   "name": "python",
   "nbconvert_exporter": "python",
   "pygments_lexer": "ipython2",
   "version": "2.7.11"
  }
 },
 "nbformat": 4,
 "nbformat_minor": 0
}
