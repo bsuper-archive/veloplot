{
 "cells": [
  {
   "cell_type": "code",
   "execution_count": 1,
   "metadata": {
    "collapsed": true
   },
   "outputs": [],
   "source": [
    "%matplotlib inline\n",
    "%config InlineBackend.figure_format = 'retina'\n",
    "import sys\n",
    "import os\n",
    "import pandas as pd\n",
    "import numpy as np\n",
    "sys.path.append('../')\n",
    "import utils\n",
    "import calibration_utils as calibration\n",
    "import scipy\n",
    "import matplotlib.pyplot as plt"
   ]
  },
  {
   "cell_type": "code",
   "execution_count": 2,
   "metadata": {
    "collapsed": true
   },
   "outputs": [],
   "source": [
    "MEASUREMENT = \"cal_1\"\n",
    "SENSORS_CSV_FILE = \"./out/\" + MEASUREMENT + \"_S.csv\"\n",
    "CALIBRATION_MAT_FILE = \"./out/\" + MEASUREMENT + \"_C_matrix.mat\""
   ]
  },
  {
   "cell_type": "code",
   "execution_count": 3,
   "metadata": {
    "collapsed": false
   },
   "outputs": [],
   "source": [
    "df = pd.read_csv(SENSORS_CSV_FILE)\n",
    "df = df.drop(df.columns[0], axis=1)"
   ]
  },
  {
   "cell_type": "code",
   "execution_count": 4,
   "metadata": {
    "collapsed": false
   },
   "outputs": [
    {
     "data": {
      "text/html": [
       "<div>\n",
       "<table border=\"1\" class=\"dataframe\">\n",
       "  <thead>\n",
       "    <tr style=\"text-align: right;\">\n",
       "      <th></th>\n",
       "      <th>S1</th>\n",
       "      <th>S2</th>\n",
       "      <th>S3</th>\n",
       "      <th>S4</th>\n",
       "      <th>S5</th>\n",
       "      <th>S6</th>\n",
       "      <th>S7</th>\n",
       "      <th>S8</th>\n",
       "    </tr>\n",
       "  </thead>\n",
       "  <tbody>\n",
       "    <tr>\n",
       "      <th>0</th>\n",
       "      <td>1789</td>\n",
       "      <td>1780</td>\n",
       "      <td>1958</td>\n",
       "      <td>2165</td>\n",
       "      <td>1808</td>\n",
       "      <td>1613</td>\n",
       "      <td>1676</td>\n",
       "      <td>1781</td>\n",
       "    </tr>\n",
       "    <tr>\n",
       "      <th>1</th>\n",
       "      <td>1609</td>\n",
       "      <td>1731</td>\n",
       "      <td>1851</td>\n",
       "      <td>1970</td>\n",
       "      <td>1869</td>\n",
       "      <td>1635</td>\n",
       "      <td>1758</td>\n",
       "      <td>1984</td>\n",
       "    </tr>\n",
       "    <tr>\n",
       "      <th>2</th>\n",
       "      <td>1609</td>\n",
       "      <td>1731</td>\n",
       "      <td>1851</td>\n",
       "      <td>1970</td>\n",
       "      <td>1869</td>\n",
       "      <td>1635</td>\n",
       "      <td>1758</td>\n",
       "      <td>1984</td>\n",
       "    </tr>\n",
       "    <tr>\n",
       "      <th>3</th>\n",
       "      <td>1609</td>\n",
       "      <td>1731</td>\n",
       "      <td>1851</td>\n",
       "      <td>1970</td>\n",
       "      <td>1869</td>\n",
       "      <td>1635</td>\n",
       "      <td>1758</td>\n",
       "      <td>1984</td>\n",
       "    </tr>\n",
       "    <tr>\n",
       "      <th>4</th>\n",
       "      <td>1609</td>\n",
       "      <td>1731</td>\n",
       "      <td>1851</td>\n",
       "      <td>1970</td>\n",
       "      <td>1869</td>\n",
       "      <td>1635</td>\n",
       "      <td>1758</td>\n",
       "      <td>1984</td>\n",
       "    </tr>\n",
       "    <tr>\n",
       "      <th>5</th>\n",
       "      <td>1609</td>\n",
       "      <td>1731</td>\n",
       "      <td>1851</td>\n",
       "      <td>1970</td>\n",
       "      <td>1869</td>\n",
       "      <td>1635</td>\n",
       "      <td>1758</td>\n",
       "      <td>1984</td>\n",
       "    </tr>\n",
       "    <tr>\n",
       "      <th>6</th>\n",
       "      <td>1726</td>\n",
       "      <td>1887</td>\n",
       "      <td>2075</td>\n",
       "      <td>2216</td>\n",
       "      <td>2232</td>\n",
       "      <td>1944</td>\n",
       "      <td>2008</td>\n",
       "      <td>2250</td>\n",
       "    </tr>\n",
       "    <tr>\n",
       "      <th>7</th>\n",
       "      <td>1726</td>\n",
       "      <td>1887</td>\n",
       "      <td>2075</td>\n",
       "      <td>2216</td>\n",
       "      <td>2232</td>\n",
       "      <td>1944</td>\n",
       "      <td>2008</td>\n",
       "      <td>2250</td>\n",
       "    </tr>\n",
       "    <tr>\n",
       "      <th>8</th>\n",
       "      <td>1726</td>\n",
       "      <td>1887</td>\n",
       "      <td>2075</td>\n",
       "      <td>2216</td>\n",
       "      <td>2232</td>\n",
       "      <td>1944</td>\n",
       "      <td>2008</td>\n",
       "      <td>2250</td>\n",
       "    </tr>\n",
       "    <tr>\n",
       "      <th>9</th>\n",
       "      <td>1726</td>\n",
       "      <td>1887</td>\n",
       "      <td>2075</td>\n",
       "      <td>2216</td>\n",
       "      <td>2232</td>\n",
       "      <td>1944</td>\n",
       "      <td>2008</td>\n",
       "      <td>2250</td>\n",
       "    </tr>\n",
       "  </tbody>\n",
       "</table>\n",
       "</div>"
      ],
      "text/plain": [
       "     S1    S2    S3    S4    S5    S6    S7    S8\n",
       "0  1789  1780  1958  2165  1808  1613  1676  1781\n",
       "1  1609  1731  1851  1970  1869  1635  1758  1984\n",
       "2  1609  1731  1851  1970  1869  1635  1758  1984\n",
       "3  1609  1731  1851  1970  1869  1635  1758  1984\n",
       "4  1609  1731  1851  1970  1869  1635  1758  1984\n",
       "5  1609  1731  1851  1970  1869  1635  1758  1984\n",
       "6  1726  1887  2075  2216  2232  1944  2008  2250\n",
       "7  1726  1887  2075  2216  2232  1944  2008  2250\n",
       "8  1726  1887  2075  2216  2232  1944  2008  2250\n",
       "9  1726  1887  2075  2216  2232  1944  2008  2250"
      ]
     },
     "execution_count": 4,
     "metadata": {},
     "output_type": "execute_result"
    }
   ],
   "source": [
    "df.head(10)"
   ]
  },
  {
   "cell_type": "code",
   "execution_count": 5,
   "metadata": {
    "collapsed": false
   },
   "outputs": [
    {
     "data": {
      "text/plain": [
       "(18357, 8)"
      ]
     },
     "execution_count": 5,
     "metadata": {},
     "output_type": "execute_result"
    }
   ],
   "source": [
    "df.shape"
   ]
  },
  {
   "cell_type": "code",
   "execution_count": 6,
   "metadata": {
    "collapsed": true
   },
   "outputs": [],
   "source": [
    "def process_sensors_file(sensors_csv_file, calibration_mat_file):\n",
    "    \"\"\"\n",
    "    Process csv telemetry file with only S1-S8 sensors output.\n",
    "    Using these sensor values and calibration matrix, \n",
    "    generate force/torque/moments and return a dataframe of cols\n",
    "    [\"Fx\", \"Fy\", \"Fz\", \"Mx\", \"My\", \"Mz]\n",
    "    \n",
    "    Args:\n",
    "        sensors_csv_file: csv file containing S1-S8 raw sensor values\n",
    "        calibration_mat_file: calibration matrix\n",
    "    Returns:\n",
    "        pandas DataFrame object containing the data points\n",
    "        and forces and moments of shape (N, 6)        \n",
    "    \"\"\"\n",
    "    df = pd.read_csv(SENSORS_CSV_FILE)\n",
    "    df = df.drop(df.columns[0], axis=1) # df is of (N, 8) shape\n",
    "    \n",
    "    ## FILL IN THE FUNCTION ##\n",
    "    \n",
    "    \n",
    "    "
   ]
  },
  {
   "cell_type": "code",
   "execution_count": null,
   "metadata": {
    "collapsed": true
   },
   "outputs": [],
   "source": []
  }
 ],
 "metadata": {
  "kernelspec": {
   "display_name": "Python 2",
   "language": "python",
   "name": "python2"
  },
  "language_info": {
   "codemirror_mode": {
    "name": "ipython",
    "version": 2
   },
   "file_extension": ".py",
   "mimetype": "text/x-python",
   "name": "python",
   "nbconvert_exporter": "python",
   "pygments_lexer": "ipython2",
   "version": "2.7.11"
  }
 },
 "nbformat": 4,
 "nbformat_minor": 0
}
