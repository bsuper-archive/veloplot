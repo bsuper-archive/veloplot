{
 "cells": [
  {
   "cell_type": "code",
   "execution_count": null,
   "metadata": {
    "collapsed": true
   },
   "outputs": [],
   "source": [
    "%matplotlib inline\n",
    "%config InlineBackend.figure_format = 'retina'\n",
    "import sys\n",
    "sys.path.append('../')\n",
    "import utils\n",
    "import calibration_utils as calibration\n",
    "import matplotlib.pyplot as plt\n",
    "import scipy\n",
    "import pandas as pd"
   ]
  },
  {
   "cell_type": "code",
   "execution_count": null,
   "metadata": {
    "collapsed": true
   },
   "outputs": [],
   "source": [
    "CALIBRATION_FILE = '../calibration/out/new_cal_2_C_matrix.mat'\n",
    "MEASUREMENT_ROOT = './measurement_files/'\n",
    "MEASUREMENT = \"validation_1\"\n",
    "NANO_FILE = MEASUREMENT_ROOT + MEASUREMENT + \".csv\"\n",
    "TELEMETRY_FILE = MEASUREMENT_ROOT + MEASUREMENT + \"_telemetry.txt\""
   ]
  },
  {
   "cell_type": "code",
   "execution_count": null,
   "metadata": {
    "collapsed": false
   },
   "outputs": [],
   "source": [
    "nano_df = calibration.nanofile_to_dataframe(NANO_FILE)\n",
    "telem_df = calibration.telemetry_to_dataframe(TELEMETRY_FILE)\n",
    "C = scipy.io.loadmat(CALIBRATION_FILE)['C']\n",
    "print nano_df.shape\n",
    "print telem_df.shape\n",
    "print C.shape"
   ]
  },
  {
   "cell_type": "code",
   "execution_count": null,
   "metadata": {
    "collapsed": false
   },
   "outputs": [],
   "source": [
    "fig, ax = plt.subplots(2)\n",
    "ax[0].plot(nano_df[\"Fz\"], label=\"ATI Nano\")\n",
    "ax[0].set_title(\"Fz\")\n",
    "ax[0].set_ylabel(\"Force (N)\")\n",
    "ax[0].legend(loc='upper right')\n",
    "\n",
    "ax[1].plot(utils.add_forces_moments(telem_df, C)[\"Fz\"], label=\"Shell(Predicted)\")\n",
    "ax[1].set_ylabel(\"Force (N)\")\n",
    "ax[1].set_title(\"Fz\")\n",
    "ax[1].legend(loc='upper right')\n",
    "\n",
    "fig.set_size_inches(12, 8)\n",
    "plt.tight_layout()\n",
    "\n",
    "plt.show()"
   ]
  },
  {
   "cell_type": "code",
   "execution_count": null,
   "metadata": {
    "collapsed": false
   },
   "outputs": [],
   "source": [
    "FLICK_NANO_INDEX = nano_df[\"Fz\"][:100000].apply(abs).argmax(axis=0)\n",
    "FLICK_TELEM_INDEX = utils.add_forces_moments(telem_df, C)['Fz'][:3000].apply(abs).argmax(axis=0) # the flick index\n",
    "print FLICK_NANO_INDEX\n",
    "print FLICK_TELEM_INDEX"
   ]
  },
  {
   "cell_type": "code",
   "execution_count": null,
   "metadata": {
    "collapsed": false
   },
   "outputs": [],
   "source": [
    "M, S = calibration.align_two_streams(nano_df, telem_df, 10, 1, FLICK_NANO_INDEX, FLICK_TELEM_INDEX)\n",
    "print M.shape\n",
    "print S.shape"
   ]
  },
  {
   "cell_type": "code",
   "execution_count": null,
   "metadata": {
    "collapsed": true
   },
   "outputs": [],
   "source": [
    "# C = calibration.least_squares_fit(M,S)"
   ]
  },
  {
   "cell_type": "code",
   "execution_count": null,
   "metadata": {
    "collapsed": true
   },
   "outputs": [],
   "source": [
    "S_df = pd.DataFrame(S, columns=[\"S1\", \"S2\", \"S3\", \"S4\", \"S5\", \"S6\", \"S7\", \"S8\"])\n",
    "shell_sensor_df = utils.add_forces_moments(S_df, C)\n",
    "nano_sensor_df = pd.DataFrame(M, columns=[\"Fx\", \"Fy\", \"Fz\", \"Mx\", \"My\", \"Mz\"])"
   ]
  },
  {
   "cell_type": "code",
   "execution_count": null,
   "metadata": {
    "collapsed": false
   },
   "outputs": [],
   "source": [
    "df = utils.process_data_files(TELEMETRY_FILE, CALIBRATION_FILE)\n",
    "df.plot(x=\"time\", y=[\"S1\", \"S2\", \"S3\", \"S4\", \"S5\", \"S6\", \"S7\", \"S8\"])"
   ]
  },
  {
   "cell_type": "code",
   "execution_count": null,
   "metadata": {
    "collapsed": false
   },
   "outputs": [],
   "source": [
    "calibration.plot_force_error(shell_sensor_df, nano_sensor_df)"
   ]
  },
  {
   "cell_type": "code",
   "execution_count": null,
   "metadata": {
    "collapsed": false
   },
   "outputs": [],
   "source": [
    "loss = calibration.calculate_mse_error(shell_sensor_df, nano_sensor_df, columns=['Fx', 'Fy', 'Fz'])\n",
    "print loss"
   ]
  },
  {
   "cell_type": "code",
   "execution_count": null,
   "metadata": {
    "collapsed": true
   },
   "outputs": [],
   "source": []
  }
 ],
 "metadata": {
  "kernelspec": {
   "display_name": "Python 2",
   "language": "python",
   "name": "python2"
  },
  "language_info": {
   "codemirror_mode": {
    "name": "ipython",
    "version": 2
   },
   "file_extension": ".py",
   "mimetype": "text/x-python",
   "name": "python",
   "nbconvert_exporter": "python",
   "pygments_lexer": "ipython2",
   "version": "2.7.11"
  }
 },
 "nbformat": 4,
 "nbformat_minor": 0
}
