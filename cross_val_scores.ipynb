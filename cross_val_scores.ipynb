{
 "cells": [
  {
   "cell_type": "code",
   "execution_count": 31,
   "metadata": {
    "collapsed": true
   },
   "outputs": [],
   "source": [
    "import classify"
   ]
  },
  {
   "cell_type": "code",
   "execution_count": 32,
   "metadata": {
    "collapsed": false
   },
   "outputs": [
    {
     "name": "stdout",
     "output_type": "stream",
     "text": [
      "\n",
      "Running Random Forests...\n",
      "CTL size: 112 ACT size: 99\n",
      "10-fold CV Acc Mean:  0.952792207792 Scores:  [ 1.          0.86363636  1.          1.          0.9047619   0.95238095\n",
      "  0.9047619   1.          0.95238095  0.95      ]\n",
      "OOB score: 0.947867298578\n",
      "Feature Importances:\n",
      "[('A_mag_kurtosis', 0.0002439039465379693), ('Fy_kurtosis', 0.00028300575052044496), ('Fz_max', 0.00032637262310509981), ('Fz_kurtosis', 0.0004257765450754217), ('Mx_skew', 0.00052528559899831927), (\"('Mx', 'My')_corre\", 0.00058846594580378223), (\"('Fx', 'Fz')_corre\", 0.00059870284162474256), (\"('Fy', 'Fz')_corre\", 0.00061145612986258924), ('Fy_min', 0.00062033835432704341), ('A_mag_skew', 0.00068519044331325082), ('F_mag_max', 0.00075451616746618913), ('AZ_kurtosis', 0.00076605114619975902), ('Fy_mean', 0.00078273402624427974), ('AX_kurtosis', 0.00079379345357133966), ('F_mag_kurtosis', 0.00079991834723436804), ('AY_kurtosis', 0.00082209996742186773), ('Fx_std', 0.0008254982869907437), ('F_mag_skew', 0.0008341357587747472), ('Fx_kurtosis', 0.00086855317511563498), ('AZ_skew', 0.00091139605368192747), ('Mz_entropy', 0.00094530269957877693), ('M_mag_entropy', 0.0010030264127251628), ('My_skew', 0.0010397305554201745), ('Mx_kurtosis', 0.0010873434945873461), ('Fz_entropy', 0.0011132610200060419), ('Fz_skew', 0.0011162203870856951), ('AZ_entropy', 0.0011390511488613283), ('Mz_skew', 0.001157530185148098), ('A_mag_entropy', 0.00116057857703844), ('M_mag_skew', 0.0011906465283758878), ('AY_entropy', 0.0012050295610862394), ('My_max', 0.0012808824385045386), ('AX_mean', 0.0012977099010220629), ('Fy_entropy', 0.0013517007880629612), ('My_kurtosis', 0.0013672599549533163), ('AY_skew', 0.0015184460005180456), ('My_entropy', 0.0015409757229896276), ('AX_entropy', 0.0015572199509463023), ('Fx_entropy', 0.0016011952837662572), ('M_mag_std', 0.0016315828963232712), ('M_mag_kurtosis', 0.0017586353704852047), ('F_mag_std', 0.0017776854155189018), ('AX_skew', 0.0019271065305821427), (\"('My', 'Mz')_corre\", 0.0019637585570449266), ('Mz_std', 0.0020136501178290986), ('My_mean', 0.0020538770500083503), ('Fx_energy', 0.0020661345139436861), ('AZ_mean', 0.0021531952171094373), ('Fz_std', 0.0023110813562095445), ('Fx_skew', 0.0023654839290760087), ('Fx_max', 0.0024252565356514088), ('AY_mean', 0.0025103369197815124), ('Mz_energy', 0.0025231828348243634), ('Fy_skew', 0.0025322194562790246), ('Mx_max', 0.0025909471613926151), ('AY_energy', 0.0027316651551695286), ('Mz_min', 0.0027949525503781492), ('Mx_entropy', 0.0028350425144957172), ('F_mag_energy', 0.0030170814308710298), ('Fz_min', 0.003028639067590239), ('M_mag_mean', 0.0033329565394258835), ('Mz_kurtosis', 0.0036475653148441735), ('Mz_max', 0.0041992633551676574), ('AZ_energy', 0.0045553396731916104), ('M_mag_max', 0.0048848072839025904), ('My_std', 0.0049110972550948286), ('Mx_std', 0.0052095684966023603), ('My_energy', 0.0052101961232737144), ('My_min', 0.0052172027856854201), ('A_mag_min', 0.0053457287542406414), ('Fx_mean', 0.0053718648541324831), ('F_mag_mean', 0.0056849628635444261), ('M_mag_min', 0.0062977855286577315), ('AY_min', 0.0065402945086041964), ('Fz_mean', 0.0065837898859120291), ('M_mag_energy', 0.0072757584620578046), ('Mz_mean', 0.0073995717201180491), ('AX_energy', 0.0078174884430399112), ('Fx_min', 0.0080845975628850344), ('F_mag_entropy', 0.0082616926205508114), ('Fy_max', 0.0083253769357948034), ('Fy_std', 0.0086155425622585716), ('Fz_energy', 0.0088078992979039577), ('Mx_mean', 0.010711650992550567), ('AZ_min', 0.011005050705214944), ('A_mag_energy', 0.013283010763779241), (\"('Fx', 'Fy')_corre\", 0.014789165532033695), ('Fy_energy', 0.015304775235145342), ('F_mag_min', 0.016345573086573705), (\"('Mx', 'Mz')_corre\", 0.024569513960799438), ('AX_min', 0.025137624105582668), ('Mx_energy', 0.025631273082420816), ('A_mag_max', 0.031930102344576716), ('AZ_std', 0.033027839978355365), ('Mx_min', 0.033115218877492365), (\"('AX', 'AZ')_corre\", 0.034203170156737552), ('A_mag_mean', 0.046154727395313025), ('AZ_max', 0.046642528983807809), ('A_mag_std', 0.048725827731490111), ('AY_max', 0.049309739166438514), (\"('AY', 'AZ')_corre\", 0.053147708841286861), ('AX_max', 0.054105374233595738), ('AY_std', 0.057737346852950421), (\"('AX', 'AY')_corre\", 0.061377716970033115), ('AX_std', 0.066412890423823298)]\n"
     ]
    },
    {
     "data": {
      "text/plain": [
       "(RandomForestClassifier(bootstrap=True, class_weight=None, criterion='gini',\n",
       "             max_depth=None, max_features='sqrt', max_leaf_nodes=None,\n",
       "             min_samples_leaf=1, min_samples_split=2,\n",
       "             min_weight_fraction_leaf=0.0, n_estimators=200, n_jobs=1,\n",
       "             oob_score=True, random_state=None, verbose=0, warm_start=False),\n",
       " StandardScaler(copy=True, with_mean=True, with_std=True))"
      ]
     },
     "execution_count": 32,
     "metadata": {},
     "output_type": "execute_result"
    }
   ],
   "source": [
    "classify.do_random_forests_cross_val()"
   ]
  },
  {
   "cell_type": "code",
   "execution_count": 33,
   "metadata": {
    "collapsed": false
   },
   "outputs": [
    {
     "name": "stdout",
     "output_type": "stream",
     "text": [
      "\n",
      "Running XGB Trees...\n",
      "CTL size: 112 ACT size: 99\n",
      "10-fold CV Acc Mean:  0.952142857143 Scores:  [ 1.          1.          0.95238095  0.95238095  1.          0.9047619\n",
      "  0.9047619   0.95238095  0.9047619   0.95      ]\n",
      "Feature Importances:\n",
      "[('AY_skew', 0.00011472394399458696), ('Fz_max', 0.00021418837040160043), ('AY_kurtosis', 0.00022376752726071771), (\"('Mx', 'My')_corre\", 0.00026324670818201988), ('AZ_kurtosis', 0.00037023810828698355), ('AX_kurtosis', 0.00051330725104121685), ('Fz_skew', 0.00053600951713472669), (\"('Fx', 'Fz')_corre\", 0.00055400215433517241), ('Fz_kurtosis', 0.00066394789703174177), ('AZ_skew', 0.00086309593107268231), ('My_entropy', 0.00088291646435882058), ('AZ_energy', 0.00097675640250384607), ('F_mag_entropy', 0.00098225297185984919), ('My_skew', 0.0010372851365792906), ('Fx_skew', 0.0012770882599275979), ('F_mag_skew', 0.0013385781551869542), ('AX_entropy', 0.0013602772717256515), (\"('Fy', 'Fz')_corre\", 0.0013943572413966448), ('AX_energy', 0.0014124198626041973), ('Mz_skew', 0.0014893849851702525), ('Fx_max', 0.0016832837396756803), ('F_mag_kurtosis', 0.0018735050630269876), ('Fy_min', 0.0018818193163622128), ('AZ_entropy', 0.0019648757627549309), ('My_kurtosis', 0.0019683604033813883), ('M_mag_min', 0.0020767257503708099), ('AY_entropy', 0.0021238639548324324), ('Mz_energy', 0.0021354362545122751), ('A_mag_kurtosis', 0.0022073580519278214), ('F_mag_std', 0.0022090380651692207), ('A_mag_energy', 0.0022861069066692601), (\"('Fx', 'Fy')_corre\", 0.0022930521427838558), ('M_mag_std', 0.0023186782586605177), ('F_mag_energy', 0.0024556662370803658), ('Fx_kurtosis', 0.0025212102906016524), ('Mz_entropy', 0.0025653386834573748), ('A_mag_entropy', 0.0026379490955276259), ('Fz_entropy', 0.0030358154749355404), ('AY_energy', 0.0030607036120831326), ('Fy_mean', 0.0034103328739045267), ('M_mag_kurtosis', 0.0035800197708292553), (\"('My', 'Mz')_corre\", 0.0036669429177266597), ('AY_mean', 0.0037394816702715221), ('Mz_max', 0.0038267909764793089), ('Fz_min', 0.0040205663048799769), ('Mx_skew', 0.0042566921143976418), ('My_std', 0.004327569022011213), ('AX_skew', 0.0044715274781299118), ('Fz_std', 0.0045865758662478676), ('Fx_energy', 0.0046028774330653379), ('A_mag_min', 0.004773633396483813), ('Fy_kurtosis', 0.0048870485572597468), ('AX_mean', 0.0051139355934265059), ('M_mag_entropy', 0.0051816122513096861), ('A_mag_mean', 0.0052962699046054549), ('Fx_std', 0.0053101433783406503), ('Fz_mean', 0.005505767226430841), ('Fx_mean', 0.0055457594038214354), ('My_energy', 0.0057552615170246187), ('M_mag_skew', 0.0057942480247546715), ('Fx_entropy', 0.0059881762063698565), ('Mz_kurtosis', 0.0060449291760416111), ('F_mag_mean', 0.0063696213318235224), ('Mx_min', 0.0063753505913286936), ('Mx_kurtosis', 0.0066359678210102567), ('A_mag_skew', 0.0066558510576369941), ('My_max', 0.0070904306435367803), (\"('AX', 'AY')_corre\", 0.0072254879473657328), ('M_mag_mean', 0.0077673712355315451), ('AZ_max', 0.0079805253636786797), ('Fy_max', 0.0080069130439160714), ('Fz_energy', 0.0081555760196257935), ('Mx_mean', 0.0086296944204922142), ('AZ_min', 0.0086574197812520036), ('Fy_energy', 0.0088185376501534914), ('Mx_max', 0.0090145931659616572), ('Mz_std', 0.009276401032699156), ('Mx_energy', 0.010169502584655819), ('Fy_std', 0.010466839360920481), ('F_mag_min', 0.010704022588195597), ('M_mag_max', 0.010810560808781289), ('AX_min', 0.011062656722333095), ('Mx_std', 0.011817527696070114), (\"('AY', 'AZ')_corre\", 0.011845891680795044), ('Mz_min', 0.011918195195493524), ('AZ_mean', 0.01206175558501449), ('Fx_min', 0.01225543153997955), ('F_mag_max', 0.012759915208035709), ('AY_std', 0.012838603396570161), ('My_min', 0.013600102487123809), (\"('AX', 'AZ')_corre\", 0.013641722218752395), ('Fy_entropy', 0.016342509024701791), ('Fy_skew', 0.016377829203996937), ('AY_min', 0.016496950291086235), ('AZ_std', 0.016580996249993551), ('AY_max', 0.01826261368231278), ('AX_max', 0.019100795775921397), ('My_mean', 0.019560264376604942), ('AX_std', 0.019573287938828), ('Mz_mean', 0.020015682023842411), ('Mx_entropy', 0.020302689705815127), ('A_mag_max', 0.020588367077863667), (\"('Mx', 'Mz')_corre\", 0.021754807808045749), ('A_mag_std', 0.022963345600425157), ('M_mag_energy', 0.025014600774148844)]\n"
     ]
    },
    {
     "data": {
      "text/plain": [
       "(GradientBoostingClassifier(init=None, learning_rate=0.1, loss='deviance',\n",
       "               max_depth=3, max_features='sqrt', max_leaf_nodes=None,\n",
       "               min_samples_leaf=1, min_samples_split=2,\n",
       "               min_weight_fraction_leaf=0.0, n_estimators=200,\n",
       "               presort='auto', random_state=None, subsample=1.0, verbose=0,\n",
       "               warm_start=False),\n",
       " StandardScaler(copy=True, with_mean=True, with_std=True))"
      ]
     },
     "execution_count": 33,
     "metadata": {},
     "output_type": "execute_result"
    }
   ],
   "source": [
    "classify.do_xgb_trees_cross_val()"
   ]
  },
  {
   "cell_type": "code",
   "execution_count": 34,
   "metadata": {
    "collapsed": false
   },
   "outputs": [
    {
     "name": "stdout",
     "output_type": "stream",
     "text": [
      "\n",
      "Running SVC...\n",
      "CTL size: 112 ACT size: 99\n",
      "10-fold CV Acc Mean:  0.943073593074 Scores:  [ 0.95454545  1.          0.9047619   0.95238095  0.9047619   0.95238095\n",
      "  0.9047619   0.9047619   0.95238095  1.        ]\n"
     ]
    },
    {
     "data": {
      "text/plain": [
       "(SVC(C=1.0, cache_size=200, class_weight=None, coef0=0.0,\n",
       "   decision_function_shape=None, degree=3, gamma='auto', kernel='rbf',\n",
       "   max_iter=-1, probability=True, random_state=None, shrinking=True,\n",
       "   tol=0.001, verbose=False),\n",
       " StandardScaler(copy=True, with_mean=True, with_std=True))"
      ]
     },
     "execution_count": 34,
     "metadata": {},
     "output_type": "execute_result"
    }
   ],
   "source": [
    "classify.do_svc_cross_val()"
   ]
  },
  {
   "cell_type": "code",
   "execution_count": 35,
   "metadata": {
    "collapsed": false
   },
   "outputs": [
    {
     "name": "stdout",
     "output_type": "stream",
     "text": [
      "\n",
      "Running Neural Network...\n",
      "CTL size: 112 ACT size: 99\n",
      "Step #1, avg. loss: 1.02422\n",
      "Step #201, epoch #100, avg. loss: 0.04263\n",
      "Step #401, epoch #200, avg. loss: 0.00318\n",
      "Step #601, epoch #300, avg. loss: 0.00135\n",
      "Step #801, epoch #400, avg. loss: 0.00081\n",
      "Step #1001, epoch #500, avg. loss: 0.00056\n",
      "Step #1201, epoch #600, avg. loss: 0.00042\n",
      "Step #1401, epoch #700, avg. loss: 0.00034\n",
      "Step #1601, epoch #800, avg. loss: 0.00027\n",
      "Step #1801, epoch #900, avg. loss: 0.00023\n",
      "Step #1, avg. loss: 0.96540\n",
      "Step #201, epoch #100, avg. loss: 0.04574\n",
      "Step #401, epoch #200, avg. loss: 0.00352\n",
      "Step #601, epoch #300, avg. loss: 0.00145\n",
      "Step #801, epoch #400, avg. loss: 0.00086\n",
      "Step #1001, epoch #500, avg. loss: 0.00059\n",
      "Step #1201, epoch #600, avg. loss: 0.00045\n",
      "Step #1401, epoch #700, avg. loss: 0.00035\n",
      "Step #1601, epoch #800, avg. loss: 0.00029\n",
      "Step #1801, epoch #900, avg. loss: 0.00024\n",
      "Step #1, avg. loss: 0.89184\n",
      "Step #201, epoch #100, avg. loss: 0.05027\n",
      "Step #401, epoch #200, avg. loss: 0.00387\n",
      "Step #601, epoch #300, avg. loss: 0.00157\n",
      "Step #801, epoch #400, avg. loss: 0.00093\n",
      "Step #1001, epoch #500, avg. loss: 0.00064\n",
      "Step #1201, epoch #600, avg. loss: 0.00048\n",
      "Step #1401, epoch #700, avg. loss: 0.00038\n",
      "Step #1601, epoch #800, avg. loss: 0.00031\n",
      "Step #1801, epoch #900, avg. loss: 0.00026\n",
      "Step #1, avg. loss: 0.93396\n",
      "Step #201, epoch #100, avg. loss: 0.04855\n",
      "Step #401, epoch #200, avg. loss: 0.00396\n",
      "Step #601, epoch #300, avg. loss: 0.00163\n",
      "Step #801, epoch #400, avg. loss: 0.00096\n",
      "Step #1001, epoch #500, avg. loss: 0.00065\n",
      "Step #1201, epoch #600, avg. loss: 0.00049\n",
      "Step #1401, epoch #700, avg. loss: 0.00038\n",
      "Step #1601, epoch #800, avg. loss: 0.00031\n",
      "Step #1801, epoch #900, avg. loss: 0.00026\n",
      "Step #1, avg. loss: 0.93619\n",
      "Step #201, epoch #100, avg. loss: 0.05107\n",
      "Step #401, epoch #200, avg. loss: 0.00380\n",
      "Step #601, epoch #300, avg. loss: 0.00157\n",
      "Step #801, epoch #400, avg. loss: 0.00093\n",
      "Step #1001, epoch #500, avg. loss: 0.00064\n",
      "Step #1201, epoch #600, avg. loss: 0.00048\n",
      "Step #1401, epoch #700, avg. loss: 0.00038\n",
      "Step #1601, epoch #800, avg. loss: 0.00031\n",
      "Step #1801, epoch #900, avg. loss: 0.00026\n",
      "Step #1, avg. loss: 0.91904\n",
      "Step #201, epoch #100, avg. loss: 0.04766\n",
      "Step #401, epoch #200, avg. loss: 0.00389\n",
      "Step #601, epoch #300, avg. loss: 0.00161\n",
      "Step #801, epoch #400, avg. loss: 0.00095\n",
      "Step #1001, epoch #500, avg. loss: 0.00065\n",
      "Step #1201, epoch #600, avg. loss: 0.00048\n",
      "Step #1401, epoch #700, avg. loss: 0.00038\n",
      "Step #1601, epoch #800, avg. loss: 0.00032\n",
      "Step #1801, epoch #900, avg. loss: 0.00027\n",
      "Step #1, avg. loss: 1.02009\n",
      "Step #201, epoch #100, avg. loss: 0.04942\n",
      "Step #401, epoch #200, avg. loss: 0.00385\n",
      "Step #601, epoch #300, avg. loss: 0.00158\n",
      "Step #801, epoch #400, avg. loss: 0.00093\n",
      "Step #1001, epoch #500, avg. loss: 0.00064\n",
      "Step #1201, epoch #600, avg. loss: 0.00048\n",
      "Step #1401, epoch #700, avg. loss: 0.00038\n",
      "Step #1601, epoch #800, avg. loss: 0.00031\n",
      "Step #1801, epoch #900, avg. loss: 0.00026\n",
      "Step #1, avg. loss: 0.96504\n",
      "Step #201, epoch #100, avg. loss: 0.04958\n",
      "Step #401, epoch #200, avg. loss: 0.00375\n",
      "Step #601, epoch #300, avg. loss: 0.00154\n",
      "Step #801, epoch #400, avg. loss: 0.00092\n",
      "Step #1001, epoch #500, avg. loss: 0.00063\n",
      "Step #1201, epoch #600, avg. loss: 0.00048\n",
      "Step #1401, epoch #700, avg. loss: 0.00038\n",
      "Step #1601, epoch #800, avg. loss: 0.00031\n",
      "Step #1801, epoch #900, avg. loss: 0.00026\n",
      "Step #1, avg. loss: 0.97714\n",
      "Step #201, epoch #100, avg. loss: 0.04837\n",
      "Step #401, epoch #200, avg. loss: 0.00372\n",
      "Step #601, epoch #300, avg. loss: 0.00154\n",
      "Step #801, epoch #400, avg. loss: 0.00091\n",
      "Step #1001, epoch #500, avg. loss: 0.00063\n",
      "Step #1201, epoch #600, avg. loss: 0.00047\n",
      "Step #1401, epoch #700, avg. loss: 0.00038\n",
      "Step #1601, epoch #800, avg. loss: 0.00031\n",
      "Step #1801, epoch #900, avg. loss: 0.00026\n",
      "Step #1, avg. loss: 0.89800\n",
      "Step #201, epoch #100, avg. loss: 0.05098\n",
      "Step #401, epoch #200, avg. loss: 0.00396\n",
      "Step #601, epoch #300, avg. loss: 0.00163\n",
      "Step #801, epoch #400, avg. loss: 0.00097\n",
      "Step #1001, epoch #500, avg. loss: 0.00066\n",
      "Step #1201, epoch #600, avg. loss: 0.00050\n",
      "Step #1401, epoch #700, avg. loss: 0.00039\n",
      "Step #1601, epoch #800, avg. loss: 0.00032\n",
      "Step #1801, epoch #900, avg. loss: 0.00027\n",
      "10-fold CV Acc Mean:  0.952813852814 Scores:  [0.90909090909090906, 0.8571428571428571, 0.95238095238095233, 0.95238095238095233, 1.0, 1.0, 0.95238095238095233, 0.95238095238095233, 0.95238095238095233, 1.0]\n"
     ]
    },
    {
     "data": {
      "text/plain": [
       "(TensorFlowEstimator(batch_size=100, class_weight=None,\n",
       "           continue_training=False, early_stopping_rounds=None,\n",
       "           keep_checkpoint_every_n_hours=10000, learning_rate=0.1,\n",
       "           max_to_keep=5, model_fn=<function relu_dnn at 0x11bbfa398>,\n",
       "           n_classes=2, num_cores=4, optimizer='SGD', steps=2000,\n",
       "           tf_master='', tf_random_seed=42, verbose=1),\n",
       " StandardScaler(copy=True, with_mean=True, with_std=True))"
      ]
     },
     "execution_count": 35,
     "metadata": {},
     "output_type": "execute_result"
    }
   ],
   "source": [
    "classify.do_dnn_cross_val()"
   ]
  },
  {
   "cell_type": "code",
   "execution_count": 36,
   "metadata": {
    "collapsed": false
   },
   "outputs": [
    {
     "name": "stdout",
     "output_type": "stream",
     "text": [
      "\n",
      "Running Ensemble Cross Val...\n",
      "CTL size: 112 ACT size: 99\n",
      "Step #1, avg. loss: 0.98110\n",
      "Step #201, epoch #100, avg. loss: 0.04715\n",
      "Step #401, epoch #200, avg. loss: 0.00377\n",
      "Step #601, epoch #300, avg. loss: 0.00156\n",
      "Step #801, epoch #400, avg. loss: 0.00093\n",
      "Step #1001, epoch #500, avg. loss: 0.00063\n",
      "Step #1201, epoch #600, avg. loss: 0.00047\n",
      "Step #1401, epoch #700, avg. loss: 0.00037\n",
      "Step #1601, epoch #800, avg. loss: 0.00031\n",
      "Step #1801, epoch #900, avg. loss: 0.00026\n",
      "Step #1, avg. loss: 0.97987\n",
      "Step #201, epoch #100, avg. loss: 0.04806\n",
      "Step #401, epoch #200, avg. loss: 0.00357\n",
      "Step #601, epoch #300, avg. loss: 0.00147\n",
      "Step #801, epoch #400, avg. loss: 0.00087\n",
      "Step #1001, epoch #500, avg. loss: 0.00060\n",
      "Step #1201, epoch #600, avg. loss: 0.00045\n",
      "Step #1401, epoch #700, avg. loss: 0.00035\n",
      "Step #1601, epoch #800, avg. loss: 0.00029\n",
      "Step #1801, epoch #900, avg. loss: 0.00025\n",
      "Step #1, avg. loss: 0.92723\n",
      "Step #201, epoch #100, avg. loss: 0.04652\n",
      "Step #401, epoch #200, avg. loss: 0.00365\n",
      "Step #601, epoch #300, avg. loss: 0.00154\n",
      "Step #801, epoch #400, avg. loss: 0.00092\n",
      "Step #1001, epoch #500, avg. loss: 0.00063\n",
      "Step #1201, epoch #600, avg. loss: 0.00048\n",
      "Step #1401, epoch #700, avg. loss: 0.00038\n",
      "Step #1601, epoch #800, avg. loss: 0.00031\n",
      "Step #1801, epoch #900, avg. loss: 0.00026\n",
      "Step #1, avg. loss: 0.89915\n",
      "Step #201, epoch #100, avg. loss: 0.04470\n",
      "Step #401, epoch #200, avg. loss: 0.00343\n",
      "Step #601, epoch #300, avg. loss: 0.00144\n",
      "Step #801, epoch #400, avg. loss: 0.00086\n",
      "Step #1001, epoch #500, avg. loss: 0.00059\n",
      "Step #1201, epoch #600, avg. loss: 0.00044\n",
      "Step #1401, epoch #700, avg. loss: 0.00035\n",
      "Step #1601, epoch #800, avg. loss: 0.00029\n",
      "Step #1801, epoch #900, avg. loss: 0.00025\n",
      "Step #1, avg. loss: 0.86143\n",
      "Step #201, epoch #100, avg. loss: 0.04825\n",
      "Step #401, epoch #200, avg. loss: 0.00376\n",
      "Step #601, epoch #300, avg. loss: 0.00155\n",
      "Step #801, epoch #400, avg. loss: 0.00092\n",
      "Step #1001, epoch #500, avg. loss: 0.00063\n",
      "Step #1201, epoch #600, avg. loss: 0.00047\n",
      "Step #1401, epoch #700, avg. loss: 0.00037\n",
      "Step #1601, epoch #800, avg. loss: 0.00031\n",
      "Step #1801, epoch #900, avg. loss: 0.00026\n",
      "Step #1, avg. loss: 0.99068\n",
      "Step #201, epoch #100, avg. loss: 0.05009\n",
      "Step #401, epoch #200, avg. loss: 0.00417\n",
      "Step #601, epoch #300, avg. loss: 0.00170\n",
      "Step #801, epoch #400, avg. loss: 0.00100\n",
      "Step #1001, epoch #500, avg. loss: 0.00069\n",
      "Step #1201, epoch #600, avg. loss: 0.00051\n",
      "Step #1401, epoch #700, avg. loss: 0.00040\n",
      "Step #1601, epoch #800, avg. loss: 0.00033\n",
      "Step #1801, epoch #900, avg. loss: 0.00028\n",
      "Step #1, avg. loss: 0.94753\n",
      "Step #201, epoch #100, avg. loss: 0.05177\n",
      "Step #401, epoch #200, avg. loss: 0.00383\n",
      "Step #601, epoch #300, avg. loss: 0.00157\n",
      "Step #801, epoch #400, avg. loss: 0.00092\n",
      "Step #1001, epoch #500, avg. loss: 0.00064\n",
      "Step #1201, epoch #600, avg. loss: 0.00048\n",
      "Step #1401, epoch #700, avg. loss: 0.00038\n",
      "Step #1601, epoch #800, avg. loss: 0.00031\n",
      "Step #1801, epoch #900, avg. loss: 0.00026\n",
      "Step #1, avg. loss: 0.97664\n",
      "Step #201, epoch #100, avg. loss: 0.05017\n",
      "Step #401, epoch #200, avg. loss: 0.00380\n",
      "Step #601, epoch #300, avg. loss: 0.00157\n",
      "Step #801, epoch #400, avg. loss: 0.00092\n",
      "Step #1001, epoch #500, avg. loss: 0.00064\n",
      "Step #1201, epoch #600, avg. loss: 0.00048\n",
      "Step #1401, epoch #700, avg. loss: 0.00038\n",
      "Step #1601, epoch #800, avg. loss: 0.00031\n",
      "Step #1801, epoch #900, avg. loss: 0.00026\n",
      "Step #1, avg. loss: 0.89962\n",
      "Step #201, epoch #100, avg. loss: 0.04795\n",
      "Step #401, epoch #200, avg. loss: 0.00396\n",
      "Step #601, epoch #300, avg. loss: 0.00162\n",
      "Step #801, epoch #400, avg. loss: 0.00096\n",
      "Step #1001, epoch #500, avg. loss: 0.00066\n",
      "Step #1201, epoch #600, avg. loss: 0.00049\n",
      "Step #1401, epoch #700, avg. loss: 0.00039\n",
      "Step #1601, epoch #800, avg. loss: 0.00032\n",
      "Step #1801, epoch #900, avg. loss: 0.00027\n",
      "Step #1, avg. loss: 1.01171\n",
      "Step #201, epoch #100, avg. loss: 0.05063\n",
      "Step #401, epoch #200, avg. loss: 0.00385\n",
      "Step #601, epoch #300, avg. loss: 0.00157\n",
      "Step #801, epoch #400, avg. loss: 0.00093\n",
      "Step #1001, epoch #500, avg. loss: 0.00064\n",
      "Step #1201, epoch #600, avg. loss: 0.00048\n",
      "Step #1401, epoch #700, avg. loss: 0.00038\n",
      "Step #1601, epoch #800, avg. loss: 0.00031\n",
      "Step #1801, epoch #900, avg. loss: 0.00026\n",
      "10-fold CV Acc Mean:  0.957359307359 Scores:  [0.95454545454545459, 1.0, 0.90476190476190477, 0.90476190476190477, 0.95238095238095233, 0.95238095238095233, 1.0, 1.0, 0.90476190476190477, 1.0]\n"
     ]
    },
    {
     "data": {
      "text/plain": [
       "(VotingClassifier(estimators=[('dnn', TensorFlowEstimator(batch_size=100, class_weight=None,\n",
       "           continue_training=False, early_stopping_rounds=None,\n",
       "           keep_checkpoint_every_n_hours=10000, learning_rate=0.1,\n",
       "           max_to_keep=5, model_fn=<function relu_dnn at 0x11bc07500>,\n",
       "           n_classes=2, num...',\n",
       "   max_iter=-1, probability=True, random_state=None, shrinking=True,\n",
       "   tol=0.001, verbose=False))],\n",
       "          voting='soft', weights=[1, 1, 1, 1]),\n",
       " StandardScaler(copy=True, with_mean=True, with_std=True))"
      ]
     },
     "execution_count": 36,
     "metadata": {},
     "output_type": "execute_result"
    }
   ],
   "source": [
    "classify.do_ensemble_cross_val()"
   ]
  }
 ],
 "metadata": {
  "kernelspec": {
   "display_name": "Python 2",
   "language": "python",
   "name": "python2"
  },
  "language_info": {
   "codemirror_mode": {
    "name": "ipython",
    "version": 2
   },
   "file_extension": ".py",
   "mimetype": "text/x-python",
   "name": "python",
   "nbconvert_exporter": "python",
   "pygments_lexer": "ipython2",
   "version": "2.7.11"
  }
 },
 "nbformat": 4,
 "nbformat_minor": 0
}
